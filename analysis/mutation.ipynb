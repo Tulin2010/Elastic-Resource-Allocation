{
 "cells": [
  {
   "cell_type": "markdown",
   "metadata": {},
   "source": [
    "# Analysis of Deecntralised Iterative Auction Task Mutation"
   ]
  },
  {
   "cell_type": "code",
   "execution_count": 1,
   "metadata": {},
   "outputs": [],
   "source": [
    "from __future__ import annotations\n",
    "\n",
    "import os\n",
    "import sys\n",
    "sys.path.append(os.path.join(os.getcwd(), \"..\"))\n",
    "\n",
    "import json\n",
    "from typing import List\n",
    "\n",
    "import matplotlib\n",
    "import matplotlib.pyplot as plt\n",
    "import numpy as np\n",
    "import pandas as pd\n",
    "import seaborn as sns\n",
    "\n",
    "from src.extra.io import save_plot\n",
    "\n",
    "matplotlib.rcParams['font.family'] = \"monospace\"\n",
    "%matplotlib inline"
   ]
  },
  {
   "cell_type": "markdown",
   "metadata": {},
   "source": [
    "## Random Mutation"
   ]
  },
  {
   "cell_type": "code",
   "execution_count": 2,
   "metadata": {},
   "outputs": [],
   "source": [
    "results_filename = '../data/task_mutation_paper_r_t30_s6_dt07-17_23-19-03.json'\n",
    "\n",
    "with open(results_filename) as file:\n",
    "    results_data = json.load(file)"
   ]
  },
  {
   "cell_type": "code",
   "execution_count": 3,
   "metadata": {},
   "outputs": [
    {
     "name": "stdout",
     "output_type": "stream",
     "text": [
      "Was allocated | Is Allocated | total \n",
      "    True      |     True     |   0\n",
      "    False     |     True     |   0\n",
      "    True      |     False    |   198\n",
      "    False     |     False    |   87\n"
     ]
    }
   ],
   "source": [
    "def allocated(was_allocated, is_allocated):\n",
    "    return sum(result[\"task allocated\"] == was_allocated and result[\"mutant task allocated\"] == is_allocated \n",
    "               for mutation_results in results_data for name, result in mutation_results.items() \n",
    "               if name != \"no mutation\" and name != \"model\")\n",
    "\n",
    "print(f'Was allocated | Is Allocated | total ')\n",
    "print(f'    True      |     True     |   {allocated(True, True)}')\n",
    "print(f'    False     |     True     |   {allocated(False, True)}')\n",
    "print(f'    True      |     False    |   {allocated(True, False)}')\n",
    "print(f'    False     |     False    |   {allocated(False, False)}')"
   ]
  },
  {
   "cell_type": "markdown",
   "metadata": {},
   "source": [
    "## Value only Mutation"
   ]
  },
  {
   "cell_type": "code",
   "execution_count": null,
   "metadata": {},
   "outputs": [],
   "source": [
    "print(f'Was allocated | )"
   ]
  },
  {
   "cell_type": "code",
   "execution_count": 6,
   "metadata": {},
   "outputs": [],
   "source": [
    "for pos, mutation_results in enumerate(results_data):\n",
    "    for name, result in mutation_results.items():\n",
    "        if name != \"no mutation\" and name != \"model\":\n",
    "            if result['mutant price'] < result['task price'] and result['mutant task allocated'] == True:\n",
    "                print(f'Result: {pos}, Mutant task name: {result[\"mutant task name\"]}, '\n",
    "                      f'Original price: {result[\"task price\"]}, Mutant task price: {result[\"mutant price\"]}')"
   ]
  },
  {
   "cell_type": "code",
   "execution_count": 7,
   "metadata": {},
   "outputs": [],
   "source": [
    "was_allocated_results = [\n",
    "    result \n",
    "    for mutation_results in results_data for name, result in mutation_results.items() \n",
    "    if name != \"no mutation\" and name != \"model\" and result[\"task allocated\"]\n",
    "]"
   ]
  }
 ],
 "metadata": {
  "kernelspec": {
   "display_name": "Python 3",
   "language": "python",
   "name": "python3"
  },
  "language_info": {
   "codemirror_mode": {
    "name": "ipython",
    "version": 3
   },
   "file_extension": ".py",
   "mimetype": "text/x-python",
   "name": "python",
   "nbconvert_exporter": "python",
   "pygments_lexer": "ipython3",
   "version": "3.7.7"
  }
 },
 "nbformat": 4,
 "nbformat_minor": 2
}

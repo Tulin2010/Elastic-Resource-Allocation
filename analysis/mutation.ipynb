{
 "cells": [
  {
   "cell_type": "markdown",
   "metadata": {},
   "source": [
    "# Analysis of Deecntralised Iterative Auction Task Mutation"
   ]
  },
  {
   "cell_type": "code",
   "execution_count": 1,
   "metadata": {},
   "outputs": [],
   "source": [
    "from __future__ import annotations\n",
    "\n",
    "import os\n",
    "import sys\n",
    "sys.path.append(os.path.join(os.getcwd(), \"..\"))\n",
    "\n",
    "import json\n",
    "from typing import List\n",
    "\n",
    "import matplotlib\n",
    "import matplotlib.pyplot as plt\n",
    "import numpy as np\n",
    "import pandas as pd\n",
    "import seaborn as sns\n",
    "\n",
    "from src.extra.io import save_plot\n",
    "\n",
    "matplotlib.rcParams['font.family'] = \"monospace\"\n",
    "%matplotlib inline"
   ]
  },
  {
   "cell_type": "markdown",
   "metadata": {},
   "source": [
    "## Random Mutation"
   ]
  },
  {
   "cell_type": "code",
   "execution_count": 2,
   "metadata": {},
   "outputs": [],
   "source": [
    "results_filename = '../data/task_mutation_paper_r_t30_s6_dt07-17_23-19-03.json'\n",
    "\n",
    "with open(results_filename) as file:\n",
    "    results_data = json.load(file)"
   ]
  },
  {
   "cell_type": "code",
   "execution_count": 3,
   "metadata": {},
   "outputs": [
    {
     "name": "stdout",
     "output_type": "stream",
     "text": [
      "Was allocated | Is Allocated | total \n",
      "    True      |     True     |   0\n",
      "    False     |     True     |   0\n",
      "    True      |     False    |   198\n",
      "    False     |     False    |   87\n"
     ]
    }
   ],
   "source": [
    "def allocated(was_allocated, is_allocated):\n",
    "    return sum(result[\"task allocated\"] == was_allocated and result[\"mutant task allocated\"] == is_allocated \n",
    "               for mutation_results in results_data for name, result in mutation_results.items() \n",
    "               if name != \"no mutation\" and name != \"model\")\n",
    "\n",
    "print(f'Was allocated | Is Allocated | total ')\n",
    "print(f'    True      |     True     |   {allocated(True, True)}')\n",
    "print(f'    False     |     True     |   {allocated(False, True)}')\n",
    "print(f'    True      |     False    |   {allocated(True, False)}')\n",
    "print(f'    False     |     False    |   {allocated(False, False)}')"
   ]
  },
  {
   "cell_type": "code",
   "execution_count": 4,
   "metadata": {},
   "outputs": [
    {
     "name": "stdout",
     "output_type": "stream",
     "text": [
      "Was allocated | Is Allocated | task prices \n",
      "    True      |     True     | []\n",
      "    False     |     True     | []\n",
      "    True      |     False    | [0, 0, 0, 0, 0, 0, 0, 0, 0, 0, 0, 0, 0, 0, 0, 0, 0, 0, 0, 0, 0, 0, 0, 0, 0, 0, 0, 0, 0, 0, 0, 0, 0, 0, 0, 0, 0, 0, 0, 0, 0, 0, 0, 0, 0, 0, 0, 0, 0, 0, 0, 0, 0, 0, 0, 0, 0, 0, 0, 0, 0, 0, 0, 0, 0, 0, 0, 0, 0, 0, 0, 0, 0, 0, 0, 0, 0, 0, 0, 0, 0, 0, 0, 0, 0, 0, 0, 0, 0, 0, 0, 0, 0, 0, 0, 0, 0, 0, 0, 0, 0, 0, 0, 0, 0, 0, 0, 0, 0, 0, 0, 0, 0, 0, 0, 0, 0, 0, 0, 0, 0, 0, 0, 0, 0, 0, 0, 0, 0, 0, 0, 0, 0, 0, 0, 0, 0, 0, 0, 0, 0, 0, 0, 0, 0, 0, 0, 0, 0, 0, 0, 0, 0, 0, 0, 0, 0, 0, 0, 0, 0, 0, 0, 0, 0, 0, 0, 0, 0, 0, 0, 0, 0, 0, 0, 0, 0, 0, 0, 0, 0, 0, 0, 0, 0, 0, 0, 0, 0, 0, 0, 0, 0, 0, 0, 0, 0, 0]\n",
      "    False     |     False    | [0, 0, 0, 0, 0, 0, 0, 0, 0, 0, 0, 0, 0, 0, 0, 0, 0, 0, 0, 0, 0, 0, 0, 0, 0, 0, 0, 0, 0, 0, 0, 0, 0, 0, 0, 0, 0, 0, 0, 0, 0, 0, 0, 0, 0, 0, 0, 0, 0, 0, 0, 0, 0, 0, 0, 0, 0, 0, 0, 0, 0, 0, 0, 0, 0, 0, 0, 0, 0, 0, 0, 0, 0, 0, 0, 0, 0, 0, 0, 0, 0, 0, 0, 0, 0, 0, 0]\n"
     ]
    }
   ],
   "source": [
    "def mutant_task_prices(was_allocated, is_allocated):\n",
    "    return [result['mutant price']\n",
    "            for mutation_results in results_data for name, result in mutation_results.items() \n",
    "            if name != \"no mutation\" and name != \"model\" and \n",
    "             result[\"task allocated\"] == was_allocated and \n",
    "             result[\"mutant task allocated\"] == is_allocated]\n",
    "\n",
    "print(f'Was allocated | Is Allocated | task prices ')\n",
    "print(f'    True      |     True     | {mutant_task_prices(True, True)}')\n",
    "print(f'    False     |     True     | {mutant_task_prices(False, True)}')\n",
    "print(f'    True      |     False    | {mutant_task_prices(True, False)}')\n",
    "print(f'    False     |     False    | {mutant_task_prices(False, False)}')"
   ]
  },
  {
   "cell_type": "code",
   "execution_count": 5,
   "metadata": {},
   "outputs": [
    {
     "name": "stdout",
     "output_type": "stream",
     "text": [
      "{'task 4': 40, 'task 14': 40, 'task 27': 40, 'task 0': 40, 'task 13': 40, 'task 19': 40, 'task 17': 40, 'task 23': 37, 'task 22': 40, 'task 10': 40, 'task 28': 43, 'task 21': 40, 'task 16': 40, 'task 3': 40, 'task 2': 40, 'task 5': 37, 'task 15': 40, 'task 12': 40, 'task 7': 37, 'task 8': 37, 'task 25': 37}\n",
      "Task name: task 27, \n",
      "Task name: task 18, \n",
      "Task name: task 0, \n",
      "Task name: task 15, \n",
      "Task name: task 14, \n",
      "Task name: task 17, \n",
      "Task name: task 7, \n",
      "Task name: task 23, \n",
      "Task name: task 12, \n",
      "Task name: task 21, \n",
      "Task name: task 10, \n",
      "Task name: task 4, \n",
      "Task name: task 26, \n",
      "Task name: task 28, \n",
      "Task name: task 11, \n"
     ]
    }
   ],
   "source": [
    "print(results_data[0]['no mutation']['task prices'])\n",
    "for result in [result for name, result in results_data[0].items() if name != 'no mutation' and name != 'model']:\n",
    "    print(f'Task name: {result[\"mutant task name\"]}')"
   ]
  },
  {
   "cell_type": "code",
   "execution_count": 6,
   "metadata": {},
   "outputs": [],
   "source": [
    "for pos, mutation_results in enumerate(results_data):\n",
    "    for name, result in mutation_results.items():\n",
    "        if name != \"no mutation\" and name != \"model\":\n",
    "            if result['mutant price'] < result['task price'] and result['mutant task allocated'] == True:\n",
    "                print(f'Result: {pos}, Mutant task name: {result[\"mutant task name\"]}, '\n",
    "                      f'Original price: {result[\"task price\"]}, Mutant task price: {result[\"mutant price\"]}')"
   ]
  },
  {
   "cell_type": "code",
   "execution_count": 7,
   "metadata": {},
   "outputs": [],
   "source": [
    "was_allocated_results = [\n",
    "    result \n",
    "    for mutation_results in results_data for name, result in mutation_results.items() \n",
    "    if name != \"no mutation\" and name != \"model\" and result[\"task allocated\"]\n",
    "]"
   ]
  }
 ],
 "metadata": {
  "kernelspec": {
   "display_name": "Python 3",
   "language": "python",
   "name": "python3"
  },
  "language_info": {
   "codemirror_mode": {
    "name": "ipython",
    "version": 3
   },
   "file_extension": ".py",
   "mimetype": "text/x-python",
   "name": "python",
   "nbconvert_exporter": "python",
   "pygments_lexer": "ipython3",
   "version": "3.7.7"
  }
 },
 "nbformat": 4,
 "nbformat_minor": 2
}

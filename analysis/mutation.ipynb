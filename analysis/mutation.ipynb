{
 "cells": [
  {
   "cell_type": "markdown",
   "metadata": {},
   "source": [
    "# Analysis of Deecntralised Iterative Auction Task Mutation"
   ]
  },
  {
   "cell_type": "code",
   "execution_count": 2,
   "metadata": {},
   "outputs": [],
   "source": [
    "from __future__ import annotations\n",
    "\n",
    "import os\n",
    "import sys\n",
    "sys.path.append(os.path.join(os.getcwd(), \"..\"))\n",
    "\n",
    "import json\n",
    "from typing import List\n",
    "\n",
    "import matplotlib\n",
    "import matplotlib.pyplot as plt\n",
    "import numpy as np\n",
    "import pandas as pd\n",
    "import seaborn as sns\n",
    "\n",
    "from src.extra.io import save_plot\n",
    "\n",
    "matplotlib.rcParams['font.family'] = \"monospace\"\n",
    "%matplotlib inline"
   ]
  },
  {
   "cell_type": "markdown",
   "metadata": {},
   "source": [
    "## Random Mutation"
   ]
  },
  {
   "cell_type": "code",
   "execution_count": 2,
   "metadata": {},
   "outputs": [],
   "source": [
    "results_filename = '../data/task_mutation_paper_r_t30_s6_dt07-17_23-19-03.json'\n",
    "\n",
    "with open(results_filename) as file:\n",
    "    results_data = json.load(file)"
   ]
  },
  {
   "cell_type": "code",
   "execution_count": 3,
   "metadata": {},
   "outputs": [
    {
     "name": "stdout",
     "output_type": "stream",
     "text": [
      "Was allocated | Is Allocated | total \n",
      "    True      |     True     |   0\n",
      "    False     |     True     |   0\n",
      "    True      |     False    |   198\n",
      "    False     |     False    |   87\n"
     ]
    }
   ],
   "source": [
    "def allocated(was_allocated, is_allocated):\n",
    "    return sum(result[\"task allocated\"] == was_allocated and result[\"mutant task allocated\"] == is_allocated \n",
    "               for mutation_results in results_data for name, result in mutation_results.items() \n",
    "               if name != \"no mutation\" and name != \"model\")\n",
    "\n",
    "print(f'Was allocated | Is Allocated | total ')\n",
    "print(f'    True      |     True     |   {allocated(True, True)}')\n",
    "print(f'    False     |     True     |   {allocated(False, True)}')\n",
    "print(f'    True      |     False    |   {allocated(True, False)}')\n",
    "print(f'    False     |     False    |   {allocated(False, False)}')"
   ]
  },
  {
   "cell_type": "markdown",
   "metadata": {},
   "source": [
    "## Grid Search"
   ]
  },
  {
   "cell_type": "code",
   "execution_count": 27,
   "metadata": {},
   "outputs": [],
   "source": [
    "grid_search_filenames = [\n",
    "    # 'mutation_grid_search_paper_r0_t30_s6_dt07-26_08-10-07', \n",
    "    'mutation_grid_search_paper_r0_t30_s6_dt07-30_12-08-50',\n",
    "    'mutation_grid_search_paper_r1_t30_s6_dt07-30_12-08-50',\n",
    "    'mutation_grid_search_paper_r2_t30_s6_dt07-30_12-10-18',\n",
    "    # 'mutation_grid_search_paper_r3_t30_s6_dt07-26_08-15-15',\n",
    "    'mutation_grid_search_paper_r3_t30_s6_dt07-30_12-10-18'\n",
    "]"
   ]
  },
  {
   "cell_type": "code",
   "execution_count": 28,
   "metadata": {},
   "outputs": [
    {
     "name": "stdout",
     "output_type": "stream",
     "text": [
      "mutation_grid_search_paper_r0_t30_s6_dt07-30_12-08-50\n",
      "Allocations: 720, Better price: 269, Total: 720\n",
      "mutation_grid_search_paper_r1_t30_s6_dt07-30_12-08-50\n",
      "Allocations: 1320, Better price: 0, Total: 1320\n",
      "mutation_grid_search_paper_r2_t30_s6_dt07-30_12-10-18\n",
      "Allocations: 1170, Better price: 348, Total: 1170\n",
      "mutation_grid_search_paper_r3_t30_s6_dt07-30_12-10-18\n",
      "Allocations: 1098, Better price: 0, Total: 1098\n"
     ]
    }
   ],
   "source": [
    "for results_filename in grid_search_filenames:\n",
    "    with open(f'../data/{results_filename}.json') as file:\n",
    "        results_data = json.load(file)\n",
    "    print(results_filename)\n",
    "    mutant_task = results_data['Mutation 0']['mutated task']\n",
    "    # print(\", \".join([task['name'] for task in results_data['model']['tasks']]))\n",
    "    # print(results_data['no mutation']['task prices'])\n",
    "    original_price = results_data['no mutation']['task prices'][mutant_task]\n",
    "    print(f'Allocations: {sum(results[\"allocated\"] for name, results in results_data.items() if name != \"model\" and name != \"no mutation\")}, '\n",
    "          f'Better price: {sum(results[\"allocated\"] and results[\"task price\"] < original_price for name, results in results_data.items() if name != \"model\" and name != \"no mutation\")}, '\n",
    "          f'Total: {len(results_data)-2}')"
   ]
  },
  {
   "cell_type": "code",
   "execution_count": 43,
   "metadata": {},
   "outputs": [
    {
     "name": "stdout",
     "output_type": "stream",
     "text": [
      "36\n",
      "36\n",
      "36\n",
      "33\n",
      "Save file location: figs/mutation/eps/grid search.eps\n",
      "Save file location: figs/mutation/png/grid search.png\n",
      "Save file location: figs/mutation/pdf/grid search.pdf\n"
     ]
    },
    {
     "data": {
      "image/png": "[encoded data removed]",
      "text/plain": [
       "<Figure size 864x576 with 4 Axes>"
      ]
     },
     "metadata": {
      "needs_background": "light"
     },
     "output_type": "display_data"
    }
   ],
   "source": [
    "_, gs_ax = plt.subplots(2, 2, figsize=(12, 8))\n",
    "gs_ax = gs_ax.flatten()\n",
    "\n",
    "for ax, filename in zip(gs_ax, grid_search_filenames):\n",
    "    with open(f'../data/{filename}.json') as file:\n",
    "        results_data = json.load(file)\n",
    "        \n",
    "        prices = [results['task price'] for name, results in results_data.items() if name != \"model\" and name != \"no mutation\"]\n",
    "        ax.hist(prices, bins=10)\n",
    "        \n",
    "        mutant_task = results_data['Mutation 0']['mutated task']\n",
    "        original_price = results_data['no mutation']['task prices'][mutant_task]\n",
    "        print(original_price)\n",
    "        ax.axvline(x=original_price, color='red', linewidth=3)\n",
    "        \n",
    "        ax.set_xlabel('Price')\n",
    "        ax.set_ylabel('Frequency')\n",
    "plt.suptitle('6 Servers, 30 Tasks')\n",
    "save_plot('grid search', 'mutation')"
   ]
  },
  {
   "cell_type": "markdown",
   "metadata": {},
   "source": [
    "## Value only Mutation"
   ]
  },
  {
   "cell_type": "code",
   "execution_count": null,
   "metadata": {},
   "outputs": [],
   "source": [
    "results_filename = '../data/task_mutation_paper_r_t30_s6_dt07-17_23-19-03.json'\n",
    "\n",
    "with open(results_filename) as file:\n",
    "    results_data = json.load(file)"
   ]
  },
  {
   "cell_type": "code",
   "execution_count": null,
   "metadata": {},
   "outputs": [],
   "source": [
    "print(f'Was allocated | -1 value | -2 value | -3 value | -4 value')\n",
    "for results in results_data:\n",
    "    for name, result in results.items():\n",
    "        if name != 'model' and name != 'no mutation':\n",
    "            pass"
   ]
  },
  {
   "cell_type": "code",
   "execution_count": 6,
   "metadata": {},
   "outputs": [],
   "source": [
    "for pos, mutation_results in enumerate(results_data):\n",
    "    for name, result in mutation_results.items():\n",
    "        if name != \"no mutation\" and name != \"model\":\n",
    "            if result['mutant price'] < result['task price'] and result['mutant task allocated'] == True:\n",
    "                print(f'Result: {pos}, Mutant task name: {result[\"mutant task name\"]}, '\n",
    "                      f'Original price: {result[\"task price\"]}, Mutant task price: {result[\"mutant price\"]}')"
   ]
  },
  {
   "cell_type": "code",
   "execution_count": 7,
   "metadata": {},
   "outputs": [],
   "source": [
    "was_allocated_results = [\n",
    "    result \n",
    "    for mutation_results in results_data for name, result in mutation_results.items() \n",
    "    if name != \"no mutation\" and name != \"model\" and result[\"task allocated\"]\n",
    "]"
   ]
  }
 ],
 "metadata": {
  "kernelspec": {
   "display_name": "Python 3",
   "language": "python",
   "name": "python3"
  },
  "language_info": {
   "codemirror_mode": {
    "name": "ipython",
    "version": 3
   },
   "file_extension": ".py",
   "mimetype": "text/x-python",
   "name": "python",
   "nbconvert_exporter": "python",
   "pygments_lexer": "ipython3",
   "version": "3.7.7"
  }
 },
 "nbformat": 4,
 "nbformat_minor": 2
}

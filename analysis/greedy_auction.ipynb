{
 "cells": [
  {
   "cell_type": "markdown",
   "metadata": {},
   "source": [
    "## Figures\n",
    "\n",
    "* Synthetic greedy with a range of settings\n",
    "* Synthetic greedy resource ratio\n",
    "* Synthetic auction with a range of settings\n",
    "* Synthetic DIA heuristic grid search\n",
    "* Synthetic online batch sizes\n",
    "\n",
    "## Model sizes\n",
    "* 10 Tasks, 2 Servers (Elastic, Non elastic and Greedy)\n",
    "* 15 Tasks, 3 Servers (Elastic, Non elastic and Greedy)\n",
    "* 25 Tasks, 5 Servers (Non elastic and Greedy)\n",
    "* 50 Tasks, 10 Servers (Greedy)\n",
    "* 75 Tasks, 15 Servers (Greedy)\n",
    "\n",
    "### P-test and paired t-test"
   ]
  },
  {
   "cell_type": "code",
   "execution_count": 1,
   "metadata": {},
   "outputs": [],
   "source": [
    "import json\n",
    "import matplotlib\n",
    "import matplotlib.pyplot as plt\n",
    "import numpy as np\n",
    "import pandas as pd\n",
    "import seaborn as sns\n",
    "\n",
    "import os\n",
    "import sys\n",
    "import re\n",
    "sys.path.append(os.path.join(os.getcwd(), \"..\"))\n",
    "\n",
    "from src.extra.io import save_plot\n",
    "\n",
    "matplotlib.rcParams['font.family'] = \"monospace\"\n",
    "%matplotlib inline"
   ]
  },
  {
   "cell_type": "code",
   "execution_count": 2,
   "metadata": {},
   "outputs": [],
   "source": [
    "def collect_results(folder, size, col, algos):\n",
    "    results = []\n",
    "    for filename in os.listdir(folder):\n",
    "        if f't{size}_s' in filename:\n",
    "            with open(f'{folder}/{filename}') as file:\n",
    "                results += json.load(file)\n",
    "    \n",
    "    return [[model_results[algo][col] for model_results in results if algo in model_results] for algo in algos]"
   ]
  },
  {
   "cell_type": "code",
   "execution_count": 3,
   "metadata": {},
   "outputs": [],
   "source": [
    "def get_model_size(filename):\n",
    "    model_size = re.search(r't\\d+_s\\d+', filename).group(0)\n",
    "    model_size = model_size.replace('t', '').replace('_s', ' Tasks, ') + ' Servers'\n",
    "    return model_size"
   ]
  },
  {
   "cell_type": "code",
   "execution_count": 4,
   "metadata": {},
   "outputs": [],
   "source": [
    "def performance_difference(filename, algo_1, algo_2, metric='social welfare'):\n",
    "    with open(filename) as file:\n",
    "        results_data = json.load(file)\n",
    "    \n",
    "    if not all(algo_1 in result and algo_2 in result for result in results_data):\n",
    "        return f'{\" and \".join([algo for algo in [algo_1, algo_2] if not all(algo in result for result in results_data)])} is missing'\n",
    "        \n",
    "    algo_1_results = np.array([result[algo_1][metric] for result in results_data])\n",
    "    algo_2_results = np.array([result[algo_2][metric] for result in results_data])\n",
    "    \n",
    "    return f'{algo_1_results.mean():.3f}, {algo_2_results.mean():.3f}' \\\n",
    "        f'{algo_1_results.mean() / algo_2_results.mean():.3f}%, {(algo_1_results / algo_2_results).mean():.3f}%'"
   ]
  },
  {
   "cell_type": "code",
   "execution_count": 2,
   "metadata": {},
   "outputs": [],
   "source": [
    "greedy_algo = 'Greedy Utility * deadline / Sum, Sum, Percent Sum'\n",
    "greedy_algos_names = ['Server\\nRelaxed\\nElastic\\nOptimal', 'Elastic\\nOptimal', \n",
    "                      'Elastic\\nGreedy\\nAlgorithm', 'Non-elastic\\nOptimal']"
   ]
  },
  {
   "cell_type": "markdown",
   "metadata": {},
   "source": [
    "## Synthetic greedy with a range of settings"
   ]
  },
  {
   "cell_type": "code",
   "execution_count": 3,
   "metadata": {},
   "outputs": [
    {
     "ename": "NameError",
     "evalue": "name 'os' is not defined",
     "output_type": "error",
     "traceback": [
      "\u001b[0;31m---------------------------------------------------------------------------\u001b[0m",
      "\u001b[0;31mNameError\u001b[0m                                 Traceback (most recent call last)",
      "\u001b[0;32m<ipython-input-3-41cf0e29749e>\u001b[0m in \u001b[0;36m<module>\u001b[0;34m\u001b[0m\n\u001b[1;32m      3\u001b[0m \u001b[0;34m\u001b[0m\u001b[0m\n\u001b[1;32m      4\u001b[0m sizes = sorted(set(int(re.search(r't\\d+', filename).group(0).replace('t', ''))\n\u001b[0;32m----> 5\u001b[0;31m                   for filename in os.listdir(greedy_folder)))\n\u001b[0m\u001b[1;32m      6\u001b[0m \u001b[0msizes\u001b[0m\u001b[0;34m\u001b[0m\u001b[0;34m\u001b[0m\u001b[0m\n",
      "\u001b[0;31mNameError\u001b[0m: name 'os' is not defined"
     ]
    }
   ],
   "source": [
    "greedy_algos = ['Server Relaxed Flexible Optimal', 'Elastic Optimal', greedy_algo, 'Non-elastic Optimal']\n",
    "greedy_folder = '../data/greedy'\n",
    "\n",
    "sizes = sorted(set(int(re.search(r't\\d+', filename).group(0).replace('t', ''))\n",
    "                  for filename in os.listdir(greedy_folder)))\n",
    "sizes"
   ]
  },
  {
   "cell_type": "code",
   "execution_count": null,
   "metadata": {},
   "outputs": [],
   "source": [
    "greedy_size = {}\n",
    "for filename in sorted(os.listdir(greedy_folder), key=lambda f: int(re.search(r't\\d+', f).group(0).replace('t', ''))):\n",
    "    with open(f'{greedy_folder}/{filename}') as file:\n",
    "        greedy_size[filename] = len(json.load(file))\n",
    "        \n",
    "greedy_size"
   ]
  },
  {
   "cell_type": "code",
   "execution_count": 7,
   "metadata": {},
   "outputs": [
    {
     "name": "stdout",
     "output_type": "stream",
     "text": [
      "Save file location: figs/eps/greedy_social_welfare.eps\n",
      "Save file location: figs/png/greedy_social_welfare.png\n",
      "Save file location: figs/pdf/greedy_social_welfare.pdf\n"
     ]
    },
    {
     "data": {
      "image/png": "[encoded data removed]",
      "text/plain": [
       "<Figure size 864x216 with 4 Axes>"
      ]
     },
     "metadata": {
      "needs_background": "light"
     },
     "output_type": "display_data"
    }
   ],
   "source": [
    "fig, axs = plt.subplots(1, 4, figsize=(12, 3))\n",
    "for ax, size in zip(axs, sizes):\n",
    "    model_size_result = collect_results(greedy_folder, size, 'social welfare', greedy_algos)\n",
    "    ax.boxplot(model_size_result, vert=False, widths=0.9)\n",
    "    \n",
    "    ax.set_xlabel('Social Welfare')\n",
    "    ax.set_yticklabels([''] * len(greedy_algos))\n",
    "    ax.set_title(get_model_size(next(filename for filename in os.listdir(greedy_folder) \n",
    "                                     if f't{size}_s' in filename)))\n",
    "\n",
    "axs[0].set_yticklabels(greedy_algos_names)\n",
    "fig.tight_layout()\n",
    "save_plot('greedy_social_welfare')"
   ]
  },
  {
   "cell_type": "code",
   "execution_count": null,
   "metadata": {},
   "outputs": [],
   "source": [
    "print('\\tPerformance difference in social welfare')\n",
    "for algo_1, algo_2 in (('non-elastic optimal', 'elastic optimal'), (greedy_algo, 'elastic optimal'), \n",
    "                       ('non-elastic optimal', greedy_algo), (greedy_algo, 'server relaxed elastic optimal')):\n",
    "    print(f'{algo_1.title()} vs {algo_2.title()}')\n",
    "    for size in sizes:\n",
    "        print(f'\\t{size}: {performance_difference(size, algo_1, algo_2)}')"
   ]
  },
  {
   "cell_type": "code",
   "execution_count": 12,
   "metadata": {},
   "outputs": [
    {
     "name": "stdout",
     "output_type": "stream",
     "text": [
      "10: 0.921\n",
      "20: 0.7594166666666666\n",
      "40: 0.7810799999999999\n",
      "80: 0.7899200000000001\n",
      "160: 0.8038\n"
     ]
    }
   ],
   "source": [
    "for size in sizes:\n",
    "    greedy_results = collect_results(greedy_folder, size, 'social welfare percent', [greedy_algo])\n",
    "    print(f'{size}: {np.mean(greedy_results)}')"
   ]
  },
  {
   "cell_type": "markdown",
   "metadata": {},
   "source": [
    "### Greedy  resource usage"
   ]
  },
  {
   "cell_type": "code",
   "execution_count": null,
   "metadata": {},
   "outputs": [],
   "source": [
    "fig, axs = plt.subplots(len(greedy_filenames), 4, figsize=(14, 3*len(greedy_filenames)))\n",
    "for pos, filename in enumerate(greedy_filenames):\n",
    "    print(filename)\n",
    "    with open(f'{greedy_folder}/{filename}') as file:\n",
    "        data = json.load(file)\n",
    "\n",
    "    algo_resource_usage = {algo: {'storage': [], 'compute': [], 'bandwidth': []} for algo in greedy_algos}\n",
    "    for result in data:\n",
    "        for algo in greedy_algos:\n",
    "            if algo in result:\n",
    "                algo_resource_usage[algo]['storage'] += list(result[algo]['server storage usage'].values())\n",
    "                algo_resource_usage[algo]['compute'] += list(result[algo]['server compute usage'].values())\n",
    "                algo_resource_usage[algo]['bandwidth'] += list(result[algo]['server bandwidth usage'].values())\n",
    "\n",
    "    for ax, (algo, resource_usage), name in zip(axs[pos], algo_resource_usage.items(), greedy_algos_names):\n",
    "        ax.set_title(name)\n",
    "        for resource, usage in resource_usage.items():\n",
    "            ax.hist(usage, bins=10, label=resource)\n",
    "        ax.legend()\n",
    "    axs[pos, 0].set_ylabel(get_model_size(filename))\n",
    "\n",
    "plt.tight_layout()"
   ]
  },
  {
   "cell_type": "markdown",
   "metadata": {},
   "source": [
    "## Synthetic auction with a range of settings"
   ]
  },
  {
   "cell_type": "code",
   "execution_count": 37,
   "metadata": {},
   "outputs": [
    {
     "data": {
      "text/plain": [
       "['auctions_synthetic_r_t10_s2_dt06-11_11-37-18.json',\n",
       " 'auctions_synthetic_r_t15_s3_dt06-11_11-37-18.json',\n",
       " 'auctions_synthetic_r_t30_s6_dt06-11_11-38-03.json',\n",
       " 'auctions_synthetic_r_t40_s8_dt06-11_11-37-05.json']"
      ]
     },
     "execution_count": 37,
     "metadata": {},
     "output_type": "execute_result"
    }
   ],
   "source": [
    "auction_folder = '../data/auctions/'\n",
    "auction_filenames = sorted(os.listdir(auction_folder))\n",
    "\n",
    "auction_filenames"
   ]
  },
  {
   "cell_type": "code",
   "execution_count": 50,
   "metadata": {},
   "outputs": [],
   "source": [
    "critical_value_name = 'Critical Value Auction' + greedy_algo.replace('Greedy', '')\n",
    "auction_algos = ['Fixed VCG', 'Optimal DIA', critical_value_name, 'Flexible VCG']\n",
    "auction_algo_names = ['Non-Elastic\\nVCG Auction', 'Elastic\\nDecentralised\\nIterative Auction', \n",
    "                      'Elastic Critical\\nValue Auction', 'Elastic VCG\\nAuction']"
   ]
  },
  {
   "cell_type": "code",
   "execution_count": 51,
   "metadata": {},
   "outputs": [
    {
     "name": "stdout",
     "output_type": "stream",
     "text": [
      "Save file location: figs/eps/auctions_social_welfare.eps\n",
      "Save file location: figs/png/auctions_social_welfare.png\n",
      "Save file location: figs/pdf/auctions_social_welfare.pdf\n"
     ]
    },
    {
     "data": {
      "image/png": "[encoded data removed]",
      "text/plain": [
       "<Figure size 1008x252 with 4 Axes>"
      ]
     },
     "metadata": {
      "needs_background": "light"
     },
     "output_type": "display_data"
    }
   ],
   "source": [
    "fig, axs = plt.subplots(1, len(auction_filenames), figsize=(14, 3.5))\n",
    "for ax, filename in zip(axs, auction_filenames):\n",
    "    results = collect_results(f'{auction_folder}/{filename}', 'social welfare', auction_algos)\n",
    "    ax.boxplot(results, vert=False, widths=0.9)\n",
    "    ax.set_xlabel('Social welfare')\n",
    "    ax.set_yticklabels(['', '', '', ''])\n",
    "    ax.set_title(get_model_size(filename))\n",
    "    \n",
    "axs[0].set_yticklabels(auction_algo_names)\n",
    "fig.tight_layout()\n",
    "save_plot('auctions_social_welfare')"
   ]
  },
  {
   "cell_type": "code",
   "execution_count": 53,
   "metadata": {},
   "outputs": [
    {
     "name": "stdout",
     "output_type": "stream",
     "text": [
      "Save file location: figs/eps/auctions_revenue.eps\n",
      "Save file location: figs/png/auctions_revenue.png\n",
      "Save file location: figs/pdf/auctions_revenue.pdf\n"
     ]
    },
    {
     "data": {
      "image/png": "[encoded data removed]",
      "text/plain": [
       "<Figure size 1008x252 with 4 Axes>"
      ]
     },
     "metadata": {
      "needs_background": "light"
     },
     "output_type": "display_data"
    }
   ],
   "source": [
    "fig, axs = plt.subplots(1, len(auction_filenames), figsize=(14, 3.5))\n",
    "for ax, filename in zip(axs, auction_filenames):\n",
    "    results = collect_results(f'{auction_folder}/{filename}', 'total revenue', auction_algos)\n",
    "    ax.boxplot(results, vert=False, widths=0.9)\n",
    "    ax.set_xlabel('Revenue')\n",
    "    ax.set_yticklabels(['', '', '', ''])\n",
    "    ax.set_title(get_model_size(filename))\n",
    "    \n",
    "axs[0].set_yticklabels(auction_algo_names)\n",
    "fig.tight_layout()\n",
    "save_plot('auctions_revenue')"
   ]
  },
  {
   "cell_type": "code",
   "execution_count": null,
   "metadata": {},
   "outputs": [],
   "source": [
    "['Fixed VCG', 'Optimal DIA', critical_value_name, 'Flexible VCG']"
   ]
  },
  {
   "cell_type": "code",
   "execution_count": null,
   "metadata": {},
   "outputs": [],
   "source": [
    "print('\\tPerformance difference in social welfare')\n",
    "for algo_1, algo_2 in (('Fixed VCG', 'Flexible VCG'), (critical_value_name, 'Flexible VCG'), \n",
    "                       ('Fixed VCG', critical_value_name), (greedy_name, 'Optimal DIA')):\n",
    "    print(f'{algo_1.title()} vs {algo_2.title()}')\n",
    "    for filename in auction_filenames:\n",
    "        print(f'\\t{get_model_name(filename)}: {performance_difference(filename, algo_1, algo_2)}')"
   ]
  },
  {
   "cell_type": "code",
   "execution_count": null,
   "metadata": {},
   "outputs": [],
   "source": [
    "print('\\tPerformance difference in revenue')\n",
    "for algo_1, algo_2 in (('Fixed VCG', 'Flexible VCG'), (critical_value_name, 'Flexible VCG'), \n",
    "                       ('Fixed VCG', critical_value_name), (greedy_name, 'Optimal DIA')):\n",
    "    print(f'{algo_1.title()} vs {algo_2.title()}')\n",
    "    for filename in auction_filenames:\n",
    "        print(f'\\t{get_model_name(filename)}: {performance_difference(filename, algo_1, algo_2, \"revenue\")}')"
   ]
  }
 ],
 "metadata": {
  "kernelspec": {
   "display_name": "Python 3",
   "language": "python",
   "name": "python3"
  },
  "language_info": {
   "codemirror_mode": {
    "name": "ipython",
    "version": 3
   },
   "file_extension": ".py",
   "mimetype": "text/x-python",
   "name": "python",
   "nbconvert_exporter": "python",
   "pygments_lexer": "ipython3",
   "version": "3.8.10"
  }
 },
 "nbformat": 4,
 "nbformat_minor": 4
}

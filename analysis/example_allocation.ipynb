{
 "cells": [
  {
   "cell_type": "code",
   "execution_count": 1,
   "metadata": {},
   "outputs": [
    {
     "name": "stdout",
     "output_type": "stream",
     "text": [
      "Current Working Directory: C:\\Users\\markm\\Documents\\programming\\Flexible-Cloud-Resource\\analysis\n"
     ]
    }
   ],
   "source": [
    "from __future__ import annotations\n",
    "\n",
    "from typing import  List\n",
    "import os\n",
    "import sys\n",
    "module_path = os.path.abspath(os.path.join('..'))\n",
    "if module_path not in sys.path:\n",
    "    sys.path.append(module_path)\n",
    "    \n",
    "print(f'Current Working Directory: {os.getcwd()}')"
   ]
  },
  {
   "cell_type": "code",
   "execution_count": 2,
   "metadata": {},
   "outputs": [
    {
     "ename": "ImportError",
     "evalue": "cannot import name 'FixedSumPowerSpeeds' from 'src.core.fixed_task' (C:\\Users\\markm\\Documents\\programming\\Flexible-Cloud-Resource\\src\\core\\fixed_task.py)",
     "output_type": "error",
     "traceback": [
      "\u001b[1;31m---------------------------------------------------------------------------\u001b[0m",
      "\u001b[1;31mImportError\u001b[0m                               Traceback (most recent call last)",
      "\u001b[1;32m<ipython-input-2-b8fe07f50dec>\u001b[0m in \u001b[0;36m<module>\u001b[1;34m\u001b[0m\n\u001b[0;32m      1\u001b[0m \u001b[1;32mfrom\u001b[0m \u001b[0msrc\u001b[0m\u001b[1;33m.\u001b[0m\u001b[0mextra\u001b[0m\u001b[1;33m.\u001b[0m\u001b[0mvisualise\u001b[0m \u001b[1;32mimport\u001b[0m \u001b[0mplot_allocation_results\u001b[0m\u001b[1;33m,\u001b[0m \u001b[0mImageFormat\u001b[0m\u001b[1;33m\u001b[0m\u001b[1;33m\u001b[0m\u001b[0m\n\u001b[0;32m      2\u001b[0m \u001b[1;32mfrom\u001b[0m \u001b[0msrc\u001b[0m\u001b[1;33m.\u001b[0m\u001b[0mcore\u001b[0m\u001b[1;33m.\u001b[0m\u001b[0mcore\u001b[0m \u001b[1;32mimport\u001b[0m \u001b[0mreset_model\u001b[0m\u001b[1;33m\u001b[0m\u001b[1;33m\u001b[0m\u001b[0m\n\u001b[1;32m----> 3\u001b[1;33m \u001b[1;32mfrom\u001b[0m \u001b[0msrc\u001b[0m\u001b[1;33m.\u001b[0m\u001b[0mcore\u001b[0m\u001b[1;33m.\u001b[0m\u001b[0mfixed_task\u001b[0m \u001b[1;32mimport\u001b[0m \u001b[0mFixedTask\u001b[0m\u001b[1;33m,\u001b[0m \u001b[0mFixedSumPowerSpeeds\u001b[0m\u001b[1;33m\u001b[0m\u001b[1;33m\u001b[0m\u001b[0m\n\u001b[0m\u001b[0;32m      4\u001b[0m \u001b[1;32mfrom\u001b[0m \u001b[0msrc\u001b[0m\u001b[1;33m.\u001b[0m\u001b[0mcore\u001b[0m\u001b[1;33m.\u001b[0m\u001b[0mserver\u001b[0m \u001b[1;32mimport\u001b[0m \u001b[0mServer\u001b[0m\u001b[1;33m\u001b[0m\u001b[1;33m\u001b[0m\u001b[0m\n\u001b[0;32m      5\u001b[0m \u001b[1;32mfrom\u001b[0m \u001b[0msrc\u001b[0m\u001b[1;33m.\u001b[0m\u001b[0mcore\u001b[0m\u001b[1;33m.\u001b[0m\u001b[0mtask\u001b[0m \u001b[1;32mimport\u001b[0m \u001b[0mTask\u001b[0m\u001b[1;33m\u001b[0m\u001b[1;33m\u001b[0m\u001b[0m\n",
      "\u001b[1;31mImportError\u001b[0m: cannot import name 'FixedSumPowerSpeeds' from 'src.core.fixed_task' (C:\\Users\\markm\\Documents\\programming\\Flexible-Cloud-Resource\\src\\core\\fixed_task.py)"
     ]
    }
   ],
   "source": [
    "from src.extra.visualise import plot_allocation_results, ImageFormat\n",
    "from src.core.core import reset_model\n",
    "from src.core.fixed_task import FixedTask, FixedSumPowerSpeeds\n",
    "from src.core.server import Server\n",
    "from src.core.task import Task\n",
    "from src.greedy.greedy import greedy_algorithm\n",
    "from src.greedy.resource_allocation_policy import SumPowPercentage\n",
    "from src.greedy.server_selection_policy import ProductResources\n",
    "from src.greedy.value_density import UtilityDeadlinePerResource\n",
    "from src.optimal.fixed_optimal import fixed_optimal\n",
    "from src.optimal.flexible_optimal import flexible_optimal"
   ]
  },
  {
   "cell_type": "code",
   "execution_count": null,
   "metadata": {},
   "outputs": [],
   "source": [
    "tasks = [\n",
    "    Task(\"Task 1\",  required_storage=100, required_computation=100, required_results_data=50, deadline=10, value=100),\n",
    "    Task(\"Task 2\",  required_storage=75,  required_computation=125, required_results_data=40, deadline=10, value=90),\n",
    "    Task(\"Task 3\",  required_storage=125, required_computation=110, required_results_data=45, deadline=10, value=110),\n",
    "    Task(\"Task 4\",  required_storage=100, required_computation=75,  required_results_data=60, deadline=10, value=75),\n",
    "    Task(\"Task 5\",  required_storage=85,  required_computation=90,  required_results_data=55, deadline=10, value=125),\n",
    "    Task(\"Task 6\",  required_storage=75,  required_computation=120, required_results_data=40, deadline=10, value=100),\n",
    "    Task(\"Task 7\",  required_storage=125, required_computation=100, required_results_data=50, deadline=10, value=80),\n",
    "    Task(\"Task 8\",  required_storage=115, required_computation=75,  required_results_data=55, deadline=10, value=110),\n",
    "    Task(\"Task 9\",  required_storage=100, required_computation=110, required_results_data=60, deadline=10, value=120),\n",
    "    Task(\"Task 10\", required_storage=90,  required_computation=120, required_results_data=40, deadline=10, value=90),\n",
    "    Task(\"Task 11\", required_storage=110, required_computation=90,  required_results_data=45, deadline=10, value=100),\n",
    "    Task(\"Task 12\", required_storage=100, required_computation=80,  required_results_data=55, deadline=10, value=100)\n",
    "]\n",
    "\n",
    "servers = [\n",
    "    Server(\"Server 1\", storage_capacity=500, computation_capacity=100, bandwidth_capacity=220),\n",
    "    Server(\"Server 2\", storage_capacity=500, computation_capacity=100, bandwidth_capacity=210),\n",
    "    Server(\"Server 3\", storage_capacity=500, computation_capacity=90, bandwidth_capacity=250)\n",
    "]"
   ]
  },
  {
   "cell_type": "code",
   "execution_count": null,
   "metadata": {},
   "outputs": [],
   "source": [
    "def print_tasks(tasks: List[Task]):\n",
    "    max_task_name_len = max(len(task.name) for task in tasks) + 1\n",
    "    print(\"{:<{}}| Value |{:^9}|{:^13}|{:^9}|{:^10}|{:^9}|{:^9}|{:^9}| {}\"\n",
    "          .format(\"Name\", max_task_name_len, \"Storage\", \"Computation\", \"Results\", \"Deadline\", \n",
    "                  \"Loading\", \"Compute\", \"Sending\", \"Server\"))\n",
    "    \n",
    "    for task in tasks:\n",
    "        print(\"{:<{name_len}}|{:^7.1f}|{:^9}|{:^13}|{:^9}|{:^10}|{:^9}|{:^9}|{:^9}|{:^10}\"\n",
    "              .format(task.name, task.value, task.required_storage, task.required_computation, task.required_results_data,\n",
    "                      task.deadline, task.loading_speed, task.compute_speed, task.sending_speed,\n",
    "                      task.running_server.name if task.running_server else \"None\", name_len=max_task_name_len))"
   ]
  },
  {
   "cell_type": "markdown",
   "metadata": {},
   "source": [
    "### Optimal Solution"
   ]
  },
  {
   "cell_type": "code",
   "execution_count": null,
   "metadata": {},
   "outputs": [],
   "source": [
    "optimal_results = flexible_optimal(tasks, servers, time_limit=5)\n",
    "minimise_resource_allocation(tasks, servers)\n",
    "\n",
    "print_tasks(tasks)\n",
    "plot_allocation_results(tasks, servers, \"Optimal Flexible Resource Allocation\")\n",
    "reset_model(tasks, servers)"
   ]
  },
  {
   "cell_type": "markdown",
   "metadata": {},
   "source": [
    "### Fixed Solution"
   ]
  },
  {
   "cell_type": "code",
   "execution_count": null,
   "metadata": {},
   "outputs": [],
   "source": [
    "fixed_tasks = [FixedTask(task, FixedSumPowerSpeeds(), fixed_name=False) for task in tasks]\n",
    "fixed_results = fixed_optimal(fixed_tasks, servers, time_limit=5)\n",
    "\n",
    "print_tasks(fixed_tasks)\n",
    "plot_allocation_results(fixed_tasks, servers, \"Optimal Fixed Resource Allocation\")\n",
    "reset_model(tasks, servers)"
   ]
  },
  {
   "cell_type": "markdown",
   "metadata": {},
   "source": [
    "### Greedy Solution"
   ]
  },
  {
   "cell_type": "code",
   "execution_count": null,
   "metadata": {},
   "outputs": [],
   "source": [
    "greedy_results = greedy_algorithm(tasks, servers, UtilityDeadlinePerResource(), ProductResources(), SumPowPercentage())\n",
    "\n",
    "print_tasks(tasks)\n",
    "plot_allocation_results(tasks, servers, \"Greedy Flexible Resource Allocation\")"
   ]
  },
  {
   "cell_type": "markdown",
   "metadata": {},
   "source": [
    "### Optimal, Fixed and Greedy results"
   ]
  },
  {
   "cell_type": "code",
   "execution_count": null,
   "metadata": {},
   "outputs": [],
   "source": [
    "results = {'Optimal': optimal_results, 'Fixed': fixed_results, 'Greedy': greedy_results}\n",
    "\n",
    "max_name_len = max(len(name) for name in results.keys())\n",
    "max_storage_len = max(len(str(list(result.server_storage_used.values()))) for result in results.values())\n",
    "max_computation_len = max(len(str(list(result.server_computation_used.values()))) for result in results.values())\n",
    "max_bandwidth_len = max(len(str(list(result.server_bandwidth_used.values()))) for result in results.values())\n",
    "\n",
    "print(f\"{'Name':<{max_name_len}} | Social Welfare | {'Storage':^{max_storage_len}} | {'Computation':^{max_computation_len}} | \"\n",
    "      f\"{'Bandwidth':^{max_bandwidth_len}} | Num Jobs\")\n",
    "for name, result in results.items():\n",
    "    print(f\"{name:<{max_name_len}} | {result.social_welfare:^5} | \"\n",
    "          f\"{str(list(result.server_storage_used.values())):^{max_storage_len}} | \"\n",
    "          f\"{str(list(result.server_computation_used.values())):^{max_computation_len}} | \"\n",
    "          f\"{str(list(result.server_bandwidth_used.values())):^{max_bandwidth_len}} | \"\n",
    "          f\"{str(list(result.server_num_tasks_allocated.values()))}\")"
   ]
  }
 ],
 "metadata": {
  "kernelspec": {
   "display_name": "Python 3",
   "language": "python",
   "name": "python3"
  },
  "language_info": {
   "codemirror_mode": {
    "name": "ipython",
    "version": 3
   },
   "file_extension": ".py",
   "mimetype": "text/x-python",
   "name": "python",
   "nbconvert_exporter": "python",
   "pygments_lexer": "ipython3",
   "version": "3.7.7"
  }
 },
 "nbformat": 4,
 "nbformat_minor": 1
}

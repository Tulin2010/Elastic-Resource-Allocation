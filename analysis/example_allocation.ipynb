{
 "cells": [
  {
   "cell_type": "code",
   "execution_count": 1,
   "metadata": {},
   "outputs": [
    {
     "name": "stdout",
     "output_type": "stream",
     "text": [
      "Current Working Directory: C:\\Users\\markm\\Documents\\programming\\Flexible-Cloud-Resource\\analysis\n"
     ]
    }
   ],
   "source": [
    "from __future__ import annotations\n",
    "\n",
    "from typing import  List\n",
    "import os\n",
    "import sys\n",
    "module_path = os.path.abspath(os.path.join('..'))\n",
    "if module_path not in sys.path:\n",
    "    sys.path.append(module_path)\n",
    "    \n",
    "print(f'Current Working Directory: {os.getcwd()}')"
   ]
  },
  {
   "cell_type": "code",
   "execution_count": 2,
   "metadata": {},
   "outputs": [],
   "source": [
    "import matplotlib\n",
    "import matplotlib.pyplot as plt\n",
    "import numpy as np\n",
    "import pandas as pd\n",
    "from docplex.cp.model import CpoModel, CpoVariable, SOLVE_STATUS_FEASIBLE, SOLVE_STATUS_OPTIMAL\n",
    "\n",
    "from src.core.core import server_task_allocation\n",
    "from src.extra.io import ImageFormat, save_plot\n",
    "from src.core.core import reset_model\n",
    "from src.core.fixed_task import FixedTask, SumSpeedsFixedPolicy\n",
    "from src.core.server import Server\n",
    "from src.core.task import Task\n",
    "from src.greedy.greedy import greedy_algorithm\n",
    "from src.greedy.resource_allocation_policy import SumPowPercentage\n",
    "from src.greedy.server_selection_policy import ProductResources\n",
    "from src.greedy.value_density import UtilityDeadlinePerResource\n",
    "from src.optimal.fixed_optimal import fixed_optimal\n",
    "from src.optimal.flexible_optimal import flexible_optimal"
   ]
  },
  {
   "cell_type": "code",
   "execution_count": 3,
   "metadata": {},
   "outputs": [
    {
     "name": "stderr",
     "output_type": "stream",
     "text": [
      "c:\\users\\markm\\anaconda3\\envs\\flexible-cloud-resource\\lib\\site-packages\\ipykernel_launcher.py:3: MatplotlibDeprecationWarning: Support for setting the 'text.latex.preamble' or 'pgf.preamble' rcParam to a list of strings is deprecated since 3.3 and will be removed two minor releases later; set it to a single string instead.\n",
      "  This is separate from the ipykernel package so we can avoid doing imports until\n"
     ]
    }
   ],
   "source": [
    "matplotlib.rcParams['font.family'] = 'monospace'\n",
    "matplotlib.rc('text', usetex=True)\n",
    "matplotlib.rcParams['text.latex.preamble'] = [r'\\usepackage{sfmath} \\boldmath']\n",
    "matplotlib.rc('font', weight='bold')"
   ]
  },
  {
   "cell_type": "markdown",
   "metadata": {},
   "source": [
    "### Model Setting"
   ]
  },
  {
   "cell_type": "code",
   "execution_count": 4,
   "metadata": {},
   "outputs": [],
   "source": [
    "tasks = [\n",
    "    Task(\"Task 1\",  required_storage=100, required_computation=100, required_results_data=50, deadline=10, value=100),\n",
    "    Task(\"Task 2\",  required_storage=75,  required_computation=125, required_results_data=40, deadline=10, value=90),\n",
    "    Task(\"Task 3\",  required_storage=125, required_computation=110, required_results_data=45, deadline=10, value=110),\n",
    "    Task(\"Task 4\",  required_storage=100, required_computation=75,  required_results_data=60, deadline=10, value=75),\n",
    "    Task(\"Task 5\",  required_storage=85,  required_computation=90,  required_results_data=55, deadline=10, value=125),\n",
    "    Task(\"Task 6\",  required_storage=75,  required_computation=120, required_results_data=40, deadline=10, value=100),\n",
    "    Task(\"Task 7\",  required_storage=125, required_computation=100, required_results_data=50, deadline=10, value=80),\n",
    "    Task(\"Task 8\",  required_storage=115, required_computation=75,  required_results_data=55, deadline=10, value=110),\n",
    "    Task(\"Task 9\",  required_storage=100, required_computation=110, required_results_data=60, deadline=10, value=120),\n",
    "    Task(\"Task 10\", required_storage=90,  required_computation=120, required_results_data=40, deadline=10, value=90),\n",
    "    Task(\"Task 11\", required_storage=110, required_computation=90,  required_results_data=45, deadline=10, value=100),\n",
    "    Task(\"Task 12\", required_storage=100, required_computation=80,  required_results_data=55, deadline=10, value=100)\n",
    "]\n",
    "\n",
    "servers = [\n",
    "    Server(\"Server 1\", storage_capacity=500, computation_capacity=95, bandwidth_capacity=220),\n",
    "    Server(\"Server 2\", storage_capacity=500, computation_capacity=95, bandwidth_capacity=210),\n",
    "    Server(\"Server 3\", storage_capacity=500, computation_capacity=90, bandwidth_capacity=250)\n",
    "]"
   ]
  },
  {
   "cell_type": "code",
   "execution_count": 5,
   "metadata": {},
   "outputs": [],
   "source": [
    "def print_tasks(tasks: List[Task]):\n",
    "    print(f'Social welfare: {sum(task.value for task in tasks if task.running_server)}, '\n",
    "          f'percentage tasks allocated: {sum(task.running_server is not None for task in tasks)}')\n",
    "    max_task_name_len = max(len(task.name) for task in tasks) + 1\n",
    "    print(\"{:<{}}| Value |{:^9}|{:^13}|{:^9}|{:^10}|{:^9}|{:^9}|{:^9}| {}\"\n",
    "          .format(\"Name\", max_task_name_len, \"Storage\", \"Computation\", \"Results\", \"Deadline\", \n",
    "                  \"Loading\", \"Compute\", \"Sending\", \"Server\"))\n",
    "    \n",
    "    for task in tasks:\n",
    "        print(\"{:<{name_len}}|{:^7.1f}|{:^9}|{:^13}|{:^9}|{:^10}|{:^9}|{:^9}|{:^9}|{:^10}\"\n",
    "              .format(task.name, task.value, task.required_storage, task.required_computation, task.required_results_data,\n",
    "                      task.deadline, task.loading_speed, task.compute_speed, task.sending_speed,\n",
    "                      task.running_server.name if task.running_server else \"None\", name_len=max_task_name_len))"
   ]
  },
  {
   "cell_type": "markdown",
   "metadata": {},
   "source": [
    "### Plot allocation results"
   ]
  },
  {
   "cell_type": "code",
   "execution_count": 6,
   "metadata": {},
   "outputs": [],
   "source": [
    "def plot_allocation_results(tasks: List[Task], servers: List[Server], title: str, large_txt: int = 14, small_txt: int = 13,\n",
    "                            image_formats: Iterable[ImageFormat] = (ImageFormat.PNG,)):\n",
    "    \"\"\"\n",
    "    Plots the allocation results\n",
    "\n",
    "    :param tasks: List of tasks\n",
    "    :param servers: List of servers\n",
    "    :param title: The title\n",
    "    :param image_formats: The save image format list\n",
    "    \"\"\"\n",
    "\n",
    "    allocated_tasks = [task for task in tasks if task.running_server]\n",
    "    loading_df = pd.DataFrame(\n",
    "        [[task.required_storage / server.storage_capacity if task.running_server == server else 0\n",
    "          for task in allocated_tasks] for server in servers],\n",
    "        index=[server.name for server in servers], columns=[task.name for task in allocated_tasks])\n",
    "    compute_df = pd.DataFrame(\n",
    "        [[task.compute_speed / server.computation_capacity if task.running_server == server else 0\n",
    "          for task in allocated_tasks] for server in servers],\n",
    "        index=[server.name for server in servers], columns=[task.name for task in allocated_tasks])\n",
    "    sending_df = pd.DataFrame(\n",
    "        [[(task.loading_speed + task.sending_speed) / server.bandwidth_capacity if task.running_server == server else 0\n",
    "          for task in allocated_tasks] for server in servers],\n",
    "        index=[server.name for server in servers], columns=[task.name for task in allocated_tasks])\n",
    "    resources_df = [loading_df, compute_df, sending_df]\n",
    "\n",
    "    n_col, n_ind = len(resources_df[0].columns), len(resources_df[0].index)\n",
    "    hatching = '\\\\'\n",
    "\n",
    "    fig, axe = plt.subplots(figsize=(7, 4))\n",
    "    for resource_df in resources_df:  # for each data frame\n",
    "        axe = resource_df.plot(kind='bar', linewidth=0, stacked=True, ax=axe, legend=False, grid=False)\n",
    "\n",
    "    h, _l = axe.get_legend_handles_labels()  # get the handles we want to modify\n",
    "    for i in range(0, 3 * n_col, n_col):\n",
    "        for j, pa in enumerate(h[i:i + n_col]):\n",
    "            for rect in pa.patches:\n",
    "                rect.set_x(rect.get_x() + 1 / float(3 + 1) * i / float(n_col) - 0.125)\n",
    "                rect.set_hatch(hatching * int(i / n_col))\n",
    "                rect.set_width(1 / float(3 + 1))\n",
    "\n",
    "    axe.set_xlabel(r'\\textbf{Servers}', fontsize=large_txt)\n",
    "    axe.set_xticks((np.arange(0, 2 * n_ind, 2) + 1 / float(3 + 1)) / 2. - 0.125)\n",
    "    axe.set_xticklabels(resources_df[0].index, rotation=0, fontsize=small_txt)\n",
    "\n",
    "    axe.set_ylabel(r'\\textbf{Resource Usage}', fontsize=large_txt)\n",
    "    axe.set_ylim((0.0, 1.0))\n",
    "    axe.set_yticks([0.0, 0.2, 0.4, 0.6, 0.8, 1.0])\n",
    "    axe.set_yticklabels([r'0\\%', r'20\\%', r'40\\%', r'60\\%', r'80\\%', r'100\\%'], fontsize=small_txt)\n",
    "\n",
    "    # axe.set_title(title, fontsize=16)\n",
    "\n",
    "    pos = 1 - 0.0625 * sum(task.running_server is not None for task in tasks) - 0.08\n",
    "    server_resources_legend = [axe.bar(0, 0, color=\"gray\", hatch=hatching * i) for i in range(3)]\n",
    "    tasks_legend = axe.legend(h[:n_col], _l[:n_col], loc=[1.025, pos], title=r'Tasks')  # 0.17\n",
    "    plt.legend(server_resources_legend, ['Storage', 'Computation', 'Bandwidth'],\n",
    "               loc=[1.025, pos - 0.29], title=r'Server resources')  # -0.12\n",
    "    axe.add_artist(tasks_legend)\n",
    "\n",
    "    plt.tight_layout()\n",
    "\n",
    "    save_plot(title.lower().replace(' ', '_'), 'example_allocation', image_formats=image_formats)\n",
    "    plt.show()"
   ]
  },
  {
   "cell_type": "markdown",
   "metadata": {},
   "source": [
    "### Minimise flexible resource allocation"
   ]
  },
  {
   "cell_type": "code",
   "execution_count": 7,
   "metadata": {},
   "outputs": [],
   "source": [
    "def minimise_resource_allocation(tasks: List[Task], servers: List[Server], time_limit: int = 1):\n",
    "    \"\"\"\n",
    "    Minimise resource allocation of a list of servers\n",
    "\n",
    "    :param tasks: List of new tasks to the server (this is important for the online flexible case)\n",
    "    :param servers: List of servers\n",
    "    :param time_limit: Solve time limit\n",
    "    \"\"\"\n",
    "    for server in servers:\n",
    "        server_new_tasks = [task for task in server.allocated_tasks if task in tasks]\n",
    "        model = CpoModel('MinimumAllocation')\n",
    "\n",
    "        loading_speeds: Dict[Task, CpoVariable] = {}\n",
    "        compute_speeds: Dict[Task, CpoVariable] = {}\n",
    "        sending_speeds: Dict[Task, CpoVariable] = {}\n",
    "\n",
    "        # The maximum bandwidth and the computation that the speed can be\n",
    "        max_bandwidth = sum(task.loading_speed + task.sending_speed for task in server_new_tasks)\n",
    "        max_computation = sum(task.compute_speed for task in server_new_tasks)\n",
    "\n",
    "        # Loop over each task to allocate the variables and add the deadline constraints\n",
    "        for task in server_new_tasks:\n",
    "            loading_speeds[task] = model.integer_var(min=1, max=max_bandwidth)\n",
    "            compute_speeds[task] = model.integer_var(min=1, max=max_computation)\n",
    "            sending_speeds[task] = model.integer_var(min=1, max=max_bandwidth)\n",
    "\n",
    "            model.add((task.required_storage / loading_speeds[task]) +\n",
    "                      (task.required_computation / compute_speeds[task]) +\n",
    "                      (task.required_results_data / sending_speeds[task]) <= task.deadline)\n",
    "\n",
    "        model.add(sum(compute_speeds[task] for task in server_new_tasks) <= max_computation)\n",
    "        model.add(sum(loading_speeds[task] + sending_speeds[task] for task in server_new_tasks) <= max_bandwidth)\n",
    "\n",
    "        model.minimize(\n",
    "            (sum(loading_speeds[task] + sending_speeds[task] for task in server_new_tasks) / max_bandwidth) ** 3 +\n",
    "            (sum(compute_speeds[task] for task in server_new_tasks) / max_computation) ** 3)\n",
    "\n",
    "        model_solution = model.solve(log_output=None, TimeLimit=time_limit)\n",
    "\n",
    "        # Check that it is solved\n",
    "        if model_solution.get_solve_status() != SOLVE_STATUS_FEASIBLE and \\\n",
    "                model_solution.get_solve_status() != SOLVE_STATUS_OPTIMAL:\n",
    "            print(f'Minimise {server.name} server resources allocated failed: {model_solution.get_solve_status()}')\n",
    "            continue\n",
    "\n",
    "        allocated_tasks = server.allocated_tasks.copy()\n",
    "        server.reset_allocations()\n",
    "        for task in allocated_tasks:\n",
    "            if task in server_new_tasks:\n",
    "                task.reset_allocation()\n",
    "                server_task_allocation(server, task,\n",
    "                                       model_solution.get_value(loading_speeds[task]),\n",
    "                                       model_solution.get_value(compute_speeds[task]),\n",
    "                                       model_solution.get_value(sending_speeds[task]))\n",
    "            else:\n",
    "                server.allocate_task(task)"
   ]
  },
  {
   "cell_type": "markdown",
   "metadata": {},
   "source": [
    "### Optimal Solution"
   ]
  },
  {
   "cell_type": "code",
   "execution_count": 8,
   "metadata": {},
   "outputs": [
    {
     "name": "stdout",
     "output_type": "stream",
     "text": [
      "Minimise Server 1 server resources allocated failed: Unknown\n",
      "Social welfare: 1200, percentage tasks allocated: 12\n",
      "Name    | Value | Storage | Computation | Results | Deadline | Loading | Compute | Sending | Server\n",
      "Task 1  | 100.0 |   100   |     100     |   50    |    10    |   34    |   22    |   20    | Server 2 \n",
      "Task 2  | 90.0  |   75    |     125     |   40    |    10    |   17    |   36    |   20    | Server 1 \n",
      "Task 3  | 110.0 |   125   |     110     |   45    |    10    |   40    |   22    |   24    | Server 3 \n",
      "Task 4  | 75.0  |   100   |     75      |   60    |    10    |   33    |   23    |   17    | Server 1 \n",
      "Task 5  | 125.0 |   85    |     90      |   55    |    10    |   43    |   16    |   24    | Server 1 \n",
      "Task 6  | 100.0 |   75    |     120     |   40    |    10    |   26    |   24    |   19    | Server 2 \n",
      "Task 7  | 80.0  |   125   |     100     |   50    |    10    |   41    |   21    |   23    | Server 3 \n",
      "Task 8  | 110.0 |   115   |     75      |   55    |    10    |   35    |   17    |   24    | Server 3 \n",
      "Task 9  | 120.0 |   100   |     110     |   60    |    10    |   36    |   22    |   27    | Server 3 \n",
      "Task 10 | 90.0  |   90    |     120     |   40    |    10    |   34    |   23    |   19    | Server 2 \n",
      "Task 11 | 100.0 |   110   |     90      |   45    |    10    |   42    |   18    |   22    | Server 1 \n",
      "Task 12 | 100.0 |   100   |     80      |   55    |    10    |   33    |   19    |   20    | Server 2 \n",
      "Save file location: figs/example_allocation/png/optimal_flexible_resource_allocation.png\n"
     ]
    },
    {
     "data": {
      "image/png": "[encoded data removed]",
      "text/plain": [
       "<Figure size 504x288 with 1 Axes>"
      ]
     },
     "metadata": {
      "needs_background": "light"
     },
     "output_type": "display_data"
    }
   ],
   "source": [
    "optimal_results = flexible_optimal(tasks, servers, time_limit=5)\n",
    "minimise_resource_allocation(tasks, servers)\n",
    "\n",
    "print_tasks(tasks)\n",
    "plot_allocation_results(tasks, servers, \"Optimal Flexible Resource Allocation\")\n",
    "reset_model(tasks, servers)"
   ]
  },
  {
   "cell_type": "markdown",
   "metadata": {},
   "source": [
    "### Fixed Solution"
   ]
  },
  {
   "cell_type": "code",
   "execution_count": 9,
   "metadata": {},
   "outputs": [
    {
     "name": "stdout",
     "output_type": "stream",
     "text": [
      "Social welfare: 955, percentage tasks allocated: 9\n",
      "Name    | Value | Storage | Computation | Results | Deadline | Loading | Compute | Sending | Server\n",
      "Task 1  | 100.0 |   100   |     100     |   50    |    10    |   24    |   30    |   20    | Server 1 \n",
      "Task 2  | 90.0  |   75    |     125     |   40    |    10    |   23    |   27    |   19    |   None   \n",
      "Task 3  | 110.0 |   125   |     110     |   45    |    10    |   35    |   28    |   18    | Server 1 \n",
      "Task 4  | 75.0  |   100   |     75      |   60    |    10    |   25    |   25    |   20    |   None   \n",
      "Task 5  | 125.0 |   85    |     90      |   55    |    10    |   21    |   27    |   21    | Server 3 \n",
      "Task 6  | 100.0 |   75    |     120     |   40    |    10    |   20    |   29    |   19    | Server 2 \n",
      "Task 7  | 80.0  |   125   |     100     |   50    |    10    |   33    |   28    |   19    |   None   \n",
      "Task 8  | 110.0 |   115   |     75      |   55    |    10    |   30    |   22    |   20    | Server 2 \n",
      "Task 9  | 120.0 |   100   |     110     |   60    |    10    |   30    |   28    |   22    | Server 1 \n",
      "Task 10 | 90.0  |   90    |     120     |   40    |    10    |   27    |   27    |   18    | Server 3 \n",
      "Task 11 | 100.0 |   110   |     90      |   45    |    10    |   25    |   27    |   20    | Server 2 \n",
      "Task 12 | 100.0 |   100   |     80      |   55    |    10    |   24    |   24    |   22    | Server 3 \n",
      "Save file location: figs/example_allocation/png/optimal_fixed_resource_allocation.png\n"
     ]
    },
    {
     "data": {
      "image/png": "[encoded data removed]",
      "text/plain": [
       "<Figure size 504x288 with 1 Axes>"
      ]
     },
     "metadata": {
      "needs_background": "light"
     },
     "output_type": "display_data"
    }
   ],
   "source": [
    "fixed_tasks = [FixedTask(task, SumSpeedsFixedPolicy(), fixed_name=False) for task in tasks]\n",
    "fixed_results = fixed_optimal(fixed_tasks, servers, time_limit=5)\n",
    "\n",
    "print_tasks(fixed_tasks)\n",
    "plot_allocation_results(fixed_tasks, servers, \"Optimal Fixed Resource Allocation\")\n",
    "reset_model(tasks, servers)"
   ]
  },
  {
   "cell_type": "markdown",
   "metadata": {},
   "source": [
    "### Greedy Solution"
   ]
  },
  {
   "cell_type": "code",
   "execution_count": 10,
   "metadata": {},
   "outputs": [
    {
     "name": "stdout",
     "output_type": "stream",
     "text": [
      "Social welfare: 1200, percentage tasks allocated: 12\n",
      "Name    | Value | Storage | Computation | Results | Deadline | Loading | Compute | Sending | Server\n",
      "Task 1  | 100.0 |   100   |     100     |   50    |    10    |   32    |   23    |   20    | Server 1 \n",
      "Task 2  | 90.0  |   75    |     125     |   40    |    10    |   30    |   22    |   22    | Server 3 \n",
      "Task 3  | 110.0 |   125   |     110     |   45    |    10    |   33    |   26    |   23    | Server 1 \n",
      "Task 4  | 75.0  |   100   |     75      |   60    |    10    |   30    |   18    |   24    | Server 3 \n",
      "Task 5  | 125.0 |   85    |     90      |   55    |    10    |   26    |   21    |   23    | Server 2 \n",
      "Task 6  | 100.0 |   75    |     120     |   40    |    10    |   25    |   24    |   20    | Server 2 \n",
      "Task 7  | 80.0  |   125   |     100     |   50    |    10    |   42    |   20    |   25    | Server 3 \n",
      "Task 8  | 110.0 |   115   |     75      |   55    |    10    |   32    |   20    |   21    | Server 2 \n",
      "Task 9  | 120.0 |   100   |     110     |   60    |    10    |   31    |   26    |   24    | Server 2 \n",
      "Task 10 | 90.0  |   90    |     120     |   40    |    10    |   33    |   22    |   22    | Server 3 \n",
      "Task 11 | 100.0 |   110   |     90      |   45    |    10    |   33    |   21    |   19    | Server 1 \n",
      "Task 12 | 100.0 |   100   |     80      |   55    |    10    |   27    |   20    |   24    | Server 1 \n",
      "Save file location: figs/example_allocation/png/greedy_flexible_resource_allocation.png\n"
     ]
    },
    {
     "data": {
      "image/png": "[encoded data removed]",
      "text/plain": [
       "<Figure size 504x288 with 1 Axes>"
      ]
     },
     "metadata": {
      "needs_background": "light"
     },
     "output_type": "display_data"
    }
   ],
   "source": [
    "greedy_results = greedy_algorithm(tasks, servers, UtilityDeadlinePerResource(), ProductResources(), SumPowPercentage())\n",
    "\n",
    "print_tasks(tasks)\n",
    "plot_allocation_results(tasks, servers, \"Greedy Flexible Resource Allocation\")\n",
    "reset_model(tasks, servers)"
   ]
  },
  {
   "cell_type": "markdown",
   "metadata": {},
   "source": [
    "### Optimal, Fixed and Greedy results"
   ]
  },
  {
   "cell_type": "code",
   "execution_count": 11,
   "metadata": {},
   "outputs": [
    {
     "data": {
      "text/plain": [
       "'results = {\\'Optimal\\': optimal_results, \\'Fixed\\': fixed_results, \\'Greedy\\': greedy_results}\\n\\nmax_name_len = max(len(name) for name in results.keys())\\nmax_storage_len = max(len(str(list(result.server_storage_used.values()))) for result in results.values())\\nmax_computation_len = max(len(str(list(result.server_computation_used.values()))) for result in results.values())\\nmax_bandwidth_len = max(len(str(list(result.server_bandwidth_used.values()))) for result in results.values())\\n\\nprint(f\"{\\'Name\\':<{max_name_len}} | Social Welfare | {\\'Storage\\':^{max_storage_len}} | {\\'Computation\\':^{max_computation_len}} | \"\\n      f\"{\\'Bandwidth\\':^{max_bandwidth_len}} | Num Jobs\")\\nfor name, result in results.items():\\n    print(f\"{name:<{max_name_len}} | {result.social_welfare:^5} | \"\\n          f\"{str(list(result.server_storage_used.values())):^{max_storage_len}} | \"\\n          f\"{str(list(result.server_computation_used.values())):^{max_computation_len}} | \"\\n          f\"{str(list(result.server_bandwidth_used.values())):^{max_bandwidth_len}} | \"\\n          f\"{str(list(result.server_num_tasks_allocated.values()))}\")'"
      ]
     },
     "execution_count": 11,
     "metadata": {},
     "output_type": "execute_result"
    }
   ],
   "source": [
    "\"\"\"results = {'Optimal': optimal_results, 'Fixed': fixed_results, 'Greedy': greedy_results}\n",
    "\n",
    "max_name_len = max(len(name) for name in results.keys())\n",
    "max_storage_len = max(len(str(list(result.server_storage_used.values()))) for result in results.values())\n",
    "max_computation_len = max(len(str(list(result.server_computation_used.values()))) for result in results.values())\n",
    "max_bandwidth_len = max(len(str(list(result.server_bandwidth_used.values()))) for result in results.values())\n",
    "\n",
    "print(f\"{'Name':<{max_name_len}} | Social Welfare | {'Storage':^{max_storage_len}} | {'Computation':^{max_computation_len}} | \"\n",
    "      f\"{'Bandwidth':^{max_bandwidth_len}} | Num Jobs\")\n",
    "for name, result in results.items():\n",
    "    print(f\"{name:<{max_name_len}} | {result.social_welfare:^5} | \"\n",
    "          f\"{str(list(result.server_storage_used.values())):^{max_storage_len}} | \"\n",
    "          f\"{str(list(result.server_computation_used.values())):^{max_computation_len}} | \"\n",
    "          f\"{str(list(result.server_bandwidth_used.values())):^{max_bandwidth_len}} | \"\n",
    "          f\"{str(list(result.server_num_tasks_allocated.values()))}\")\"\"\""
   ]
  },
  {
   "cell_type": "markdown",
   "metadata": {},
   "source": [
    "## Model to latex converter"
   ]
  },
  {
   "cell_type": "code",
   "execution_count": 12,
   "metadata": {},
   "outputs": [
    {
     "name": "stdout",
     "output_type": "stream",
     "text": [
      "Task 1 & 100 & 100 & 100 & 50 & 10 & 24 & 30 & 20 \\\\ \\hline\n",
      "Task 2 & 90 & 75 & 125 & 40 & 10 & 23 & 27 & 19 \\\\ \\hline\n",
      "Task 3 & 110 & 125 & 110 & 45 & 10 & 35 & 28 & 18 \\\\ \\hline\n",
      "Task 4 & 75 & 100 & 75 & 60 & 10 & 25 & 25 & 20 \\\\ \\hline\n",
      "Task 5 & 125 & 85 & 90 & 55 & 10 & 21 & 27 & 21 \\\\ \\hline\n",
      "Task 6 & 100 & 75 & 120 & 40 & 10 & 20 & 29 & 19 \\\\ \\hline\n",
      "Task 7 & 80 & 125 & 100 & 50 & 10 & 33 & 28 & 19 \\\\ \\hline\n",
      "Task 8 & 110 & 115 & 75 & 55 & 10 & 30 & 22 & 20 \\\\ \\hline\n",
      "Task 9 & 120 & 100 & 110 & 60 & 10 & 30 & 28 & 22 \\\\ \\hline\n",
      "Task 10 & 90 & 90 & 120 & 40 & 10 & 27 & 27 & 18 \\\\ \\hline\n",
      "Task 11 & 100 & 110 & 90 & 45 & 10 & 25 & 27 & 20 \\\\ \\hline\n",
      "Task 12 & 100 & 100 & 80 & 55 & 10 & 24 & 24 & 22 \\\\ \\hline\n",
      "\n",
      "Server 1 & 500 & 95 & 220 \\\\ \\hline\n",
      "Server 2 & 500 & 95 & 210 \\\\ \\hline\n",
      "Server 3 & 500 & 90 & 250 \\\\ \\hline\n"
     ]
    }
   ],
   "source": [
    "for task in fixed_tasks:\n",
    "    print(f'{task.name} & {task.value} & {task.required_storage} & {task.required_computation} & '\n",
    "          f'{task.required_results_data} & {task.deadline} & {task.loading_speed} & {task.compute_speed} & '\n",
    "          f'{task.sending_speed} \\\\\\\\ \\\\hline')\n",
    "print('')\n",
    "for server in servers:    \n",
    "    print(f'{server.name} & {server.storage_capacity} & {server.computation_capacity} & {server.bandwidth_capacity} \\\\\\\\ \\\\hline')"
   ]
  }
 ],
 "metadata": {
  "kernelspec": {
   "display_name": "Python 3",
   "language": "python",
   "name": "python3"
  },
  "language_info": {
   "codemirror_mode": {
    "name": "ipython",
    "version": 3
   },
   "file_extension": ".py",
   "mimetype": "text/x-python",
   "name": "python",
   "nbconvert_exporter": "python",
   "pygments_lexer": "ipython3",
   "version": "3.7.7"
  }
 },
 "nbformat": 4,
 "nbformat_minor": 1
}

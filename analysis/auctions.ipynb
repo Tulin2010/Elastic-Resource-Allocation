{
 "cells": [
  {
   "cell_type": "markdown",
   "metadata": {},
   "source": [
    "# Analysis of Auction mechanisms"
   ]
  },
  {
   "cell_type": "code",
   "execution_count": 3,
   "metadata": {},
   "outputs": [],
   "source": [
    "from __future__ import annotations\n",
    "\n",
    "import json\n",
    "from typing import List\n",
    "\n",
    "import matplotlib\n",
    "import matplotlib.pyplot as plt\n",
    "import numpy as np\n",
    "import pandas as pd\n",
    "import seaborn as sns\n",
    "\n",
    "matplotlib.rcParams['font.family'] = \"monospace\"\n",
    "%matplotlib inline"
   ]
  },
  {
   "cell_type": "code",
   "execution_count": 4,
   "metadata": {},
   "outputs": [
    {
     "ename": "FileNotFoundError",
     "evalue": "[Errno 2] No such file or directory: '../data/auctions_caroline_oneshot.json'",
     "output_type": "error",
     "traceback": [
      "\u001b[1;31m---------------------------------------------------------------------------\u001b[0m",
      "\u001b[1;31mFileNotFoundError\u001b[0m                         Traceback (most recent call last)",
      "\u001b[1;32m<ipython-input-4-905faef2862e>\u001b[0m in \u001b[0;36m<module>\u001b[1;34m\u001b[0m\n\u001b[0;32m      1\u001b[0m \u001b[0mresults_filename\u001b[0m \u001b[1;33m=\u001b[0m \u001b[1;34m\"../data/auctions_caroline_oneshot.json\"\u001b[0m\u001b[1;33m\u001b[0m\u001b[1;33m\u001b[0m\u001b[0m\n\u001b[0;32m      2\u001b[0m \u001b[1;33m\u001b[0m\u001b[0m\n\u001b[1;32m----> 3\u001b[1;33m \u001b[1;32mwith\u001b[0m \u001b[0mopen\u001b[0m\u001b[1;33m(\u001b[0m\u001b[0mresults_filename\u001b[0m\u001b[1;33m)\u001b[0m \u001b[1;32mas\u001b[0m \u001b[0mfile\u001b[0m\u001b[1;33m:\u001b[0m\u001b[1;33m\u001b[0m\u001b[1;33m\u001b[0m\u001b[0m\n\u001b[0m\u001b[0;32m      4\u001b[0m     \u001b[0mresults_data\u001b[0m \u001b[1;33m=\u001b[0m \u001b[0mjson\u001b[0m\u001b[1;33m.\u001b[0m\u001b[0mload\u001b[0m\u001b[1;33m(\u001b[0m\u001b[0mfile\u001b[0m\u001b[1;33m)\u001b[0m\u001b[1;33m\u001b[0m\u001b[1;33m\u001b[0m\u001b[0m\n",
      "\u001b[1;31mFileNotFoundError\u001b[0m: [Errno 2] No such file or directory: '../data/auctions_caroline_oneshot.json'"
     ]
    }
   ],
   "source": [
    "results_filename = \"../data/auctions_caroline_oneshot.json\"\n",
    "\n",
    "with open(results_filename) as file:\n",
    "    results_data = json.load(file)"
   ]
  },
  {
   "cell_type": "code",
   "execution_count": null,
   "metadata": {},
   "outputs": [],
   "source": [
    "auction_results = {}\n",
    "for model_results in results_data:\n",
    "    for auction, auction_result in model_results.items():\n",
    "        if auction == 'model':\n",
    "            continue\n",
    "        if auction in auction_results:\n",
    "            auction_results[auction].append(auction_result)\n",
    "        else:\n",
    "            auction_results[auction] = [auction_result]\n",
    "            \n",
    "print(f'Number of algorithms: {len(auction_results)}')"
   ]
  },
  {
   "cell_type": "markdown",
   "metadata": {},
   "source": [
    "## Auction results"
   ]
  },
  {
   "cell_type": "code",
   "execution_count": null,
   "metadata": {},
   "outputs": [],
   "source": [
    "auction_avg_results = []\n",
    "for algorithm, results in algorithm_results.items():\n",
    "    auction_avg_results.append([\n",
    "        algorithm,\n",
    "        np.mean([r['social welfare'] for r in results]), \n",
    "        np.mean([r['social welfare percent'] for r in results]), \n",
    "        np.mean([r['percentage tasks allocated'] for r in results]),\n",
    "        np.mean([r['revenue'] for r in results]),\n",
    "        np.mean([r['solve time'] for r in results])\n",
    "    ])\n",
    "    \n",
    "auction_df = pd.DataFrame(auction_avg_results, columns=['name', 'social welfare', 'social welfare percent',\n",
    "                                                        'percentage tasks allocated', 'revenue', 'solve time'])\n",
    "auction_df = auction_df.sort_values(by='social welfare', ascending=False)"
   ]
  },
  {
   "cell_type": "code",
   "execution_count": null,
   "metadata": {},
   "outputs": [],
   "source": [
    "system_fig, (ax_sw, ax_swp, ax_pta, ax_rev) = plt.subplots(1, 4, figsize=(12,12))\n",
    "ax_sw.barh(algorithm_df['name'], auction_df['social welfare'])\n",
    "ax_sw.set_title('Social Welfare')\n",
    "\n",
    "ax_swp.barh(auction_df['name'], auction_df['social welfare percent'])\n",
    "plt.setp(ax_swp.get_yticklabels(), visible=False)\n",
    "ax_swp.set_title('Social Welfare Percentage')\n",
    "\n",
    "ax_pta.barh(auction_df['name'], auction_df['percentage tasks allocated'])\n",
    "plt.setp(ax_pta.get_yticklabels(), visible=False)\n",
    "ax_pta.set_title('Percentage Tasks Allocated')\n",
    "\n",
    "ax_rev.barh(auction_df['name'], auction_df['revenue'])\n",
    "plt.setp(ax_rev.get_yticklabels(), visible=False)\n",
    "ax_rev.set_title('Revenue')"
   ]
  },
  {
   "cell_type": "markdown",
   "metadata": {},
   "source": [
    "## DIA vs Critical Value Auction Task Price Difference"
   ]
  },
  {
   "cell_type": "code",
   "execution_count": null,
   "metadata": {},
   "outputs": [],
   "source": []
  }
 ],
 "metadata": {
  "kernelspec": {
   "display_name": "Python 3",
   "language": "python",
   "name": "python3"
  },
  "language_info": {
   "codemirror_mode": {
    "name": "ipython",
    "version": 3
   },
   "file_extension": ".py",
   "mimetype": "text/x-python",
   "name": "python",
   "nbconvert_exporter": "python",
   "pygments_lexer": "ipython3",
   "version": "3.7.7"
  }
 },
 "nbformat": 4,
 "nbformat_minor": 2
}

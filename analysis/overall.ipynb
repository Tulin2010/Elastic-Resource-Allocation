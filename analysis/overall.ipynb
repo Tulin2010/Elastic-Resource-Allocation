{
 "cells": [
  {
   "cell_type": "markdown",
   "metadata": {},
   "source": [
    "## Figures\n",
    "\n",
    "* Alibaba foreknowledge vs requested social welfare with a range of results data ranges\n",
    "* Synthetic greedy with a range of settings\n",
    "* Synthetic greedy resource ratio\n",
    "* Synthetic auction with a range of settings\n",
    "* Synthetic DIA heuristic grid search\n",
    "* Synthetic DIA mutation ???\n",
    "* Synthetic online batch sizes\n",
    "\n",
    "## Model sizes\n",
    "* 10 Tasks, 2 Servers (Elastic, Non elastic and Greedy)\n",
    "* 15 Tasks, 3 Servers (Elastic, Non elastic and Greedy)\n",
    "* 25 Tasks, 5 Servers (Non elastic and Greedy)\n",
    "* 50 Tasks, 10 Servers (Greedy)\n",
    "* 75 Tasks, 15 Servers (Greedy)"
   ]
  },
  {
   "cell_type": "code",
   "execution_count": 27,
   "metadata": {},
   "outputs": [],
   "source": [
    "import json\n",
    "import matplotlib\n",
    "import matplotlib.pyplot as plt\n",
    "import numpy as np\n",
    "import pandas as pd\n",
    "\n",
    "import os\n",
    "import sys\n",
    "sys.path.append(os.path.join(os.getcwd(), \"..\"))\n",
    "\n",
    "from src.extra.io import save_plot\n",
    "\n",
    "matplotlib.rcParams['font.family'] = \"monospace\"\n",
    "%matplotlib inline"
   ]
  },
  {
   "cell_type": "code",
   "execution_count": 28,
   "metadata": {},
   "outputs": [],
   "source": [
    "def collect_results(filename, col, algos):\n",
    "    with open(filename) as file:\n",
    "        results = json.load(file)\n",
    "        return [[model_results[algo][col] for model_results in results if algo in model_results] \n",
    "                for algo in algos]"
   ]
  },
  {
   "cell_type": "code",
   "execution_count": 29,
   "metadata": {},
   "outputs": [],
   "source": [
    "greedy_algo = 'Greedy Utility * deadline / Sum, Sum, Percent Sum'"
   ]
  },
  {
   "cell_type": "markdown",
   "metadata": {},
   "source": [
    "## Alibaba foreknowledge vs requested social welfare with a range of results data ranges"
   ]
  },
  {
   "cell_type": "code",
   "execution_count": 30,
   "metadata": {},
   "outputs": [],
   "source": [
    "alibaba_filenames = ['foreknowledge_alibaba_r_t10_s2_dt04-27_09-53-14.json', \n",
    "                     'foreknowledge_alibaba_r_t15_s3_dt04-27_09-52-26.json', \n",
    "                     'foreknowledge_alibaba_r_t20_s4_dt04-27_09-57-56.json']\n",
    "model_sizes = ['10 Tasks, 2 Servers', '15 Tasks, 3 Servers', '20 Tasks, 4 Servers']"
   ]
  },
  {
   "cell_type": "code",
   "execution_count": 31,
   "metadata": {},
   "outputs": [
    {
     "name": "stdout",
     "output_type": "stream",
     "text": [
      "Save file location: figs/eps/alibaba_foreknowledge.eps\n",
      "Save file location: figs/png/alibaba_foreknowledge.png\n",
      "Save file location: figs/pdf/alibaba_foreknowledge.pdf\n"
     ]
    },
    {
     "data": {
      "image/png": "[encoded data removed]",
      "text/plain": [
       "<Figure size 864x216 with 3 Axes>"
      ]
     },
     "metadata": {
      "needs_background": "light"
     },
     "output_type": "display_data"
    }
   ],
   "source": [
    "algos = ['foreknowledge fixed optimal', f'foreknowledge {greedy_algo}', 'foreknowledge flexible optimal']\n",
    "fig, axs = plt.subplots(1, len(alibaba_filenames), figsize=(12, 3))\n",
    "for ax, filename, model_size in zip(axs, alibaba_filenames, model_sizes):\n",
    "    model_size_result = collect_results(f'../data/alibaba/{filename}', 'social welfare percent', algos)\n",
    "    ax.boxplot(model_size_result, vert=False, widths=0.9)\n",
    "    ax.set_xlabel('Social Welfare Percentage')\n",
    "    ax.set_yticklabels([''] * len(algos))\n",
    "    ax.set_title(model_size)\n",
    "\n",
    "axs[0].set_yticklabels(['Non-elastic\\nOptimal', 'Greedy\\nAlgorithm', 'Elastic\\nOptimal'])\n",
    "fig.tight_layout()\n",
    "save_plot('alibaba_foreknowledge')"
   ]
  },
  {
   "cell_type": "code",
   "execution_count": 32,
   "metadata": {},
   "outputs": [
    {
     "name": "stdout",
     "output_type": "stream",
     "text": [
      "Save file location: figs/eps/alibaba_requested.eps\n",
      "Save file location: figs/png/alibaba_requested.png\n",
      "Save file location: figs/pdf/alibaba_requested.pdf\n"
     ]
    },
    {
     "data": {
      "image/png": "[encoded data removed]",
      "text/plain": [
       "<Figure size 864x216 with 3 Axes>"
      ]
     },
     "metadata": {
      "needs_background": "light"
     },
     "output_type": "display_data"
    }
   ],
   "source": [
    "algos = ['requested fixed optimal', f'requested {greedy_algo}', 'requested flexible optimal']\n",
    "fig, axs = plt.subplots(1, len(alibaba_filenames), figsize=(12, 3))\n",
    "for ax, filename, model_size in zip(axs, alibaba_filenames, model_sizes):\n",
    "    model_size_result = collect_results(f'../data/alibaba/{filename}', 'social welfare percent', algos)\n",
    "    ax.boxplot(model_size_result, vert=False, widths=0.9)\n",
    "    ax.set_xlabel('Social Welfare Percentage')\n",
    "    ax.set_yticklabels([''] * len(algos))\n",
    "    ax.set_title(model_size)\n",
    "\n",
    "axs[0].set_yticklabels(['Non-elastic\\nOptimal', 'Greedy\\nAlgorithm', 'Elastic\\nOptimal'])\n",
    "fig.tight_layout()\n",
    "save_plot('alibaba_requested')"
   ]
  },
  {
   "cell_type": "markdown",
   "metadata": {},
   "source": [
    "## Synthetic greedy with a range of settings"
   ]
  },
  {
   "cell_type": "code",
   "execution_count": 25,
   "metadata": {},
   "outputs": [
    {
     "data": {
      "text/plain": [
       "['greedy_paper_r_t30_s6_dt07-27_13-24-29.json',\n",
       " 'greedy_paper_r_t10_s2_dt09-18_12-10-34.json',\n",
       " 'greedy_paper_r_t40_s8_dt09-21_23-15-05.json',\n",
       " 'lower_bound_paper_r_t40_s8_dt10-09_18-00-38.json',\n",
       " 'greedy_paper_r_t10_s2_dt09-26_01-10-53.json',\n",
       " 'greedy_paper_r_t30_s6_dt09-21_23-15-05.json',\n",
       " 'greedy_paper_r_t10_s2_dt09-19_19-34-58.json',\n",
       " 'lower_bound_paper_r_t40_s8_dt10-09_16-54-11.json',\n",
       " 'greedy_paper_r_t40_s8_dt07-14_15-06-16.json',\n",
       " 'greedy_paper_r_t40_s8_dt10-08_16-29-05.json',\n",
       " 'greedy_paper_r_t15_s3_dt09-19_19-34-58.json',\n",
       " 'greedy_paper_r_t10_s2_dt10-08_23-30-03.json',\n",
       " 'greedy_paper_r_t15_s3_dt09-16_16-21-25.json']"
      ]
     },
     "execution_count": 25,
     "metadata": {},
     "output_type": "execute_result"
    }
   ],
   "source": [
    "os.listdir('../data/greedy/')"
   ]
  },
  {
   "cell_type": "code",
   "execution_count": null,
   "metadata": {},
   "outputs": [],
   "source": [
    "greedy_filenames = ['', '', '', '']\n",
    "model_sizes = ['' ,'', '', '']\n",
    "algos = ['Server Relaxed Flexible Optimal', 'Flexible Optimal', greedy_algo, 'Fixed Optimal']\n",
    "\n",
    "fig, axs = plt.subplots(1, 4, figsize=(12, 3.5))\n",
    "for ax, filename, name in zip(axs, greedy_filenames, file_type):\n",
    "    results = collect_results(f'greedy/{filename}', 'social welfare percent', algos)\n",
    "    ax.boxplot(results, vert=False, widths=0.9)\n",
    "    ax.set_xlabel('Social welfare percentage')\n",
    "    ax.set_yticklabels(['', '', '', ''])\n",
    "    ax.set_title(name)\n",
    "    \n",
    "axs[0].set_yticklabels(['Non-elastic\\nOptimal', 'Greedy\\nAlgorithm', 'Elastic\\nOptimal', \n",
    "                        'Server\\nRelaxed\\nElastic\\nOptimal'])\n",
    "fig.tight_layout()\n",
    "save_plot('greedy_social_welfare')"
   ]
  },
  {
   "cell_type": "markdown",
   "metadata": {},
   "source": [
    "## Synthetic greedy resource ratio"
   ]
  },
  {
   "cell_type": "code",
   "execution_count": null,
   "metadata": {},
   "outputs": [],
   "source": [
    "os.listdir('../data/resource_ratio')"
   ]
  },
  {
   "cell_type": "code",
   "execution_count": null,
   "metadata": {},
   "outputs": [],
   "source": [
    "algorithms = [('Greedy Algorithm', greedy_algo), ('Fixed Resource Allocation', 'Fixed Optimal')]\n",
    "\n",
    "with open('../data/resource_ratio/') as file:\n",
    "    ratio_data = json.load(file)"
   ]
  },
  {
   "cell_type": "code",
   "execution_count": null,
   "metadata": {},
   "outputs": [],
   "source": [
    "fig, axs = plt.subplots(1, 3, figsize=(14, 4))\n",
    "for ax, resource in zip(axs, ['server storage used', 'server computation used', 'server bandwidth used']):\n",
    "    for name, algo in algorithms:\n",
    "        ratio_results = []\n",
    "        ax.errorbars(ratios, np.mean(ratio_results, axis=1), \n",
    "                     yerr=1.96 * np.std(social_welfares, axis=1) / np.sqrt(len(results_data)), label=name)\n",
    "        \n",
    "    ax.set_xticklabels([])\n",
    "    ax.set_xticks(ratios)\n",
    "    ax.set_xlabel('Ratio of Computation:Bandwidth')\n",
    "    ax.set_ylabel('Resource Usage (%)')\n",
    "\n",
    "plt.legend()\n",
    "save_plot('resource_ratio_server_usage')"
   ]
  },
  {
   "cell_type": "code",
   "execution_count": null,
   "metadata": {},
   "outputs": [],
   "source": [
    "fig, ax = plt.subplots(figsize=(5, 4))\n",
    "for name, algo in algorithms:\n",
    "    social_welfares = [[result[f'ratio {ratio}'][algo]['social welfare'] for result in results_data] for ratio in ratios]\n",
    "    error = 1.96 * np.std(social_welfares, axis=1) / np.sqrt(len(results_data))\n",
    "    ax.errorbar(x=ratios, y=np.mean(social_welfares, axis=1), yerr=error, label=name)\n",
    "\n",
    "ax.set_ylabel('Social Welfare', fontsize=12)\n",
    "ax.set_yticks(fontsize=11)\n",
    "ax.set_xlabel('Ratio of Computation:Bandwidth', fontsize=12)\n",
    "ax.set_xticks(ticks=ratios, labels=ratio_labels, fontsize=11)\n",
    "\n",
    "plt.legend(fontsize=12)\n",
    "save_plot('resource_ratio_social_welfare')"
   ]
  },
  {
   "cell_type": "markdown",
   "metadata": {},
   "source": [
    "## Synthetic auction with a range of settings"
   ]
  },
  {
   "cell_type": "code",
   "execution_count": null,
   "metadata": {},
   "outputs": [],
   "source": [
    "auction_filenames = []\n",
    "file_type = []\n",
    "algos = ['', '', '', '']"
   ]
  },
  {
   "cell_type": "code",
   "execution_count": null,
   "metadata": {},
   "outputs": [],
   "source": [
    "fig, axs = plt.subplots(1, 4, figsize=(14, 3.5))\n",
    "for ax, filename, name in zip(axs, auction_filenames, file_type):\n",
    "    results = collect_results(f'../data/auction/{filename}', 'social welfare percent', algos)\n",
    "    ax.boxplot(results, vert=False, widths=0.9)\n",
    "    ax.set_xlabel('Social welfare percentage')\n",
    "    ax.set_yticklabels(['', '', '', ''])\n",
    "    ax.set_title(name)\n",
    "    \n",
    "axs[0].set_yticklabels(['', '', '', ''])\n",
    "fig.tight_layout()\n",
    "save_plot('auction_social_welfare')"
   ]
  },
  {
   "cell_type": "code",
   "execution_count": null,
   "metadata": {},
   "outputs": [],
   "source": [
    "fig, axs = plt.subplots(1, 4, figsize=(14, 3.5))\n",
    "for ax, filename, name in zip(axs, auction_filenames, file_type):\n",
    "    results = collect_results(f'../data/auction/{filename}', 'revenue', algos)\n",
    "    ax.boxplot(results, vert=False, widths=0.9)\n",
    "    ax.set_xlabel('Social welfare percentage')\n",
    "    ax.set_yticklabels(['', '', '', ''])\n",
    "    ax.set_title(name)\n",
    "    \n",
    "axs[0].set_yticklabels(['', '', '', ''])\n",
    "fig.tight_layout()\n",
    "save_plot('auction_revenue')"
   ]
  },
  {
   "cell_type": "markdown",
   "metadata": {},
   "source": [
    "## Synthetic DIA heuristic grid search"
   ]
  },
  {
   "cell_type": "code",
   "execution_count": null,
   "metadata": {},
   "outputs": [],
   "source": [
    "with open('../data/dia_heuristics/dia_heuristic_grid_search_paper_r_t30_s6_dt07-22_12-17-27.json') as file:\n",
    "    results_data = json.load(file)\n",
    "    \n",
    "heuristic_results = {}\n",
    "for model_results in results_data:\n",
    "    for heuristic, heuristic_result in model_results.items():\n",
    "        if heuristic == 'model':\n",
    "            continue\n",
    "        elif heuristic in heuristic_results:\n",
    "            heuristic_results[heuristic].append(heuristic_result)\n",
    "        else:\n",
    "            heuristic_results[heuristic] = [heuristic_result]"
   ]
  },
  {
   "cell_type": "code",
   "execution_count": null,
   "metadata": {},
   "outputs": [],
   "source": [
    "heuristic_avg_results = []\n",
    "for heuristic, results in heuristic_results.items():\n",
    "    heuristic_avg_results.append([\n",
    "        heuristic, results[0]['price change'], results[0]['initial price'],\n",
    "        [r['social welfare'] for r in results],\n",
    "        [r['social welfare percent'] for r in results],\n",
    "        [r['percentage tasks allocated'] for r in results],\n",
    "        [r['total revenue'] for r in results],\n",
    "        [r['rounds'] for r in results],\n",
    "        [r['solve time'] for r in results],\n",
    "        [task_price for r in results for task_price in r['task prices'].values()],\n",
    "        np.mean([r['social welfare'] for r in results]),\n",
    "        np.mean([r['total revenue'] for r in results]),\n",
    "        np.mean([r['rounds'] for r in results]),\n",
    "        np.mean([task_rounds for r in results for task_rounds in r['task rounds'].values()])\n",
    "    ])\n",
    "    \n",
    "heuristic_df = pd.DataFrame(heuristic_avg_results, columns=[\n",
    "    'name', 'price change', 'initial price', 'social welfare', 'social welfare percent', \n",
    "    'percentage tasks allocated', 'revenue', 'rounds', 'solve time', 'task prices', \n",
    "    'avg social welfare', 'avg revenue', 'avg rounds', 'avg task rounds',\n",
    "])\n",
    "heuristic_df = heuristic_df.sort_values(by=['price change', 'initial price'])"
   ]
  },
  {
   "cell_type": "code",
   "execution_count": null,
   "metadata": {},
   "outputs": [],
   "source": [
    "def difference(results_1, results_2):\n",
    "    sw, rev, rounds, solve_time, task_rounds = [], [], [], [], []\n",
    "    for r1, r2 in zip(results_1, results_2):\n",
    "        sw.append(r1['social welfare'] / r2['social welfare'])\n",
    "        rev.append(r1['total revenue'] / r2['total revenue'])\n",
    "        rounds.append(r1['rounds'] / r2['rounds'])\n",
    "        solve_time.append(r1['solve time'] / r2['solve time'])\n",
    "    return np.mean(sw), np.mean(rev), np.mean(rounds), np.mean(solve_time), sw, rev, rounds, solve_time\n",
    "\n",
    "min_heuristic_results = heuristic_results['IP: 20, PC: 1']\n",
    "heuristic_difference_results = [\n",
    "    [heuristic, results[0]['price change'], results[0]['initial price'], *difference(results, min_heuristic_results)]\n",
    "    for heuristic, results in heuristic_results.items()\n",
    "]\n",
    "heuristic_diff_df = pd.DataFrame(heuristic_difference_results, columns=[\n",
    "    'name', 'price change', 'initial price', \n",
    "    'social welfare diff', 'revenue diff', 'rounds diff', 'solve time diff',\n",
    "    'social welfare diff list', 'revenue diff list', 'rounds diff list', 'solve time diff list'\n",
    "])"
   ]
  },
  {
   "cell_type": "code",
   "execution_count": null,
   "metadata": {},
   "outputs": [],
   "source": [
    "def heuristic_heatmap(ax, col, df, label_df, label_col, title='', print_heatmap=True,\n",
    "                      initial_prices=['40', '35', '30', '25', '20'], price_changes=['1', '3', '5', '7', '10']):\n",
    "    ax.set_yticks(np.arange(len(price_changes)))\n",
    "    ax.set_yticklabels(list(reversed(price_changes)), fontsize=11)\n",
    "    ax.set_ylabel('Bid Increment', fontsize=13)\n",
    "    \n",
    "    ax.set_xticks(np.arange(len(initial_prices)))\n",
    "    ax.set_xticklabels(list(reversed(initial_prices)), fontsize=11)\n",
    "    ax.set_xlabel('Reserve Price', fontsize=13)\n",
    "    \n",
    "    heatmap = ax.imshow(df.pivot(index='price change', columns='initial price', values=col).sort_index(axis=0, ascending=False))\n",
    "    colour_bar = plt.colorbar(heatmap, shrink=0.82, ax=ax)\n",
    "    ax.set_title(title)\n",
    "    \n",
    "    for x, initial_price in enumerate(initial_prices):\n",
    "        for y, price_change in enumerate(price_changes):\n",
    "            label = label_df[label_df['name'] == f'IP: {initial_price}, PC: {price_change}'].get(label_col).values[0]\n",
    "            ax.text(len(initial_prices) - 1 - x, len(price_changes) - 1 - y, \n",
    "                    round(label), color='white', ha='center', va='center', weight='bold', fontsize=12)\n",
    "            \n",
    "    if print_heatmap:\n",
    "        print(f'\\n\\t{col}')\n",
    "        print(df.pivot(index='price change', columns='initial price', \n",
    "                       values=col).sort_index(axis=0, ascending=False))\n",
    "        print(f'\\n\\t{label_col}')\n",
    "        print(label_df.pivot(index='price change', columns='initial price', \n",
    "                             values=label_col).sort_index(axis=0, ascending=False))\n",
    "        print()"
   ]
  },
  {
   "cell_type": "code",
   "execution_count": null,
   "metadata": {},
   "outputs": [],
   "source": [
    "fig, (ax_social_welfare, ax_revenue, ax_rounds) = plt.subplots(1, 3, figsize=(15, 4.5))\n",
    "\n",
    "heuristic_heatmap(ax_social_welfare, 'social welfare diff', heuristic_diff_df, heuristic_df, 'avg social welfare', 'Social Welfare')\n",
    "heuristic_heatmap(ax_revenue, 'revenue diff', heuristic_diff_df, heuristic_df, 'avg revenue', 'Revenue')\n",
    "heuristic_heatmap(ax_rounds, 'rounds diff', heuristic_diff_df, heuristic_df, 'avg rounds', 'Rounds')\n",
    "\n",
    "plt.tight_layout()\n",
    "save_plot('dia_heuristic_grid_search')"
   ]
  },
  {
   "cell_type": "markdown",
   "metadata": {},
   "source": [
    "## Synthetic DIA mutation ???"
   ]
  },
  {
   "cell_type": "code",
   "execution_count": null,
   "metadata": {},
   "outputs": [],
   "source": []
  },
  {
   "cell_type": "markdown",
   "metadata": {},
   "source": [
    "## Synthetic online batch sizes"
   ]
  },
  {
   "cell_type": "code",
   "execution_count": null,
   "metadata": {},
   "outputs": [],
   "source": [
    "batch_sizes = []\n",
    "\n",
    "fig, ax = plt.subplots(figsize=(14, 3))\n",
    "\n",
    "\n",
    "plt.tight_layout()\n",
    "save_plot('online_batch_sizes')"
   ]
  }
 ],
 "metadata": {
  "kernelspec": {
   "display_name": "Python 3",
   "language": "python",
   "name": "python3"
  },
  "language_info": {
   "codemirror_mode": {
    "name": "ipython",
    "version": 3
   },
   "file_extension": ".py",
   "mimetype": "text/x-python",
   "name": "python",
   "nbconvert_exporter": "python",
   "pygments_lexer": "ipython3",
   "version": "3.8.5"
  }
 },
 "nbformat": 4,
 "nbformat_minor": 4
}

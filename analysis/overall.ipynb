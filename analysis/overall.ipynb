{
 "cells": [
  {
   "cell_type": "code",
   "execution_count": 1,
   "metadata": {},
   "outputs": [],
   "source": [
    "import json\n",
    "import matplotlib\n",
    "import matplotlib.pyplot as plt\n",
    "import numpy as np\n",
    "import pandas as pd\n",
    "\n",
    "import os\n",
    "import sys\n",
    "sys.path.append(os.path.join(os.getcwd(), \"..\"))\n",
    "\n",
    "from src.extra.io import save_plot\n",
    "\n",
    "matplotlib.rcParams['font.family'] = \"monospace\"\n",
    "%matplotlib inline"
   ]
  },
  {
   "cell_type": "code",
   "execution_count": null,
   "metadata": {},
   "outputs": [],
   "source": [
    "def collect_results(filename, col, algos):\n",
    "    with open(filename) as file:\n",
    "        results_data = json.load(file)\n",
    "        \n",
    "        data = [\n",
    "            [model_results[algo][col] for model_results in results_data if algo in model_results] algo in algos\n",
    "        ]\n",
    "    return data"
   ]
  },
  {
   "cell_type": "markdown",
   "metadata": {},
   "source": [
    "## Greedy algorithms"
   ]
  },
  {
   "cell_type": "code",
   "execution_count": null,
   "metadata": {},
   "outputs": [],
   "source": [
    "greedy_filenames = []\n",
    "file_type = []\n",
    "algos = ['', '', '', '']\n",
    "\n",
    "fig, axs = plt.subplots(1, 5, figsize=(14, 3.5))\n",
    "for ax, filename, name in zip(axs, greedy_filenames, file_type):\n",
    "    results = collect_results(f'ablibaba/greedy/{filename}', 'social welfare percent', algos)\n",
    "    ax.boxplot(results, vert=False, widths=0.9)\n",
    "    ax.set_xlabel('Social welfare percentage')\n",
    "    ax.set_yticklabels(['', '', '', ''])\n",
    "    ax.set_title(name)\n",
    "    \n",
    "axs[0].set_yticklabels(['Greedy\\nAlgorithm', 'Fixed\\nOptimal', 'Flexible\\nOptimal','Server\\nRelaxed'])\n",
    "fig.tight_layout()\n",
    "save_plot('multi_setting_social_welfare', 'greedy')"
   ]
  },
  {
   "cell_type": "markdown",
   "metadata": {},
   "source": [
    "## Server resource ratio"
   ]
  },
  {
   "cell_type": "code",
   "execution_count": null,
   "metadata": {},
   "outputs": [],
   "source": [
    "algorithms = [('Greedy Algorithm', greedy_name), ('Fixed Resource Allocation', 'Fixed Optimal')]\n",
    "with open('') as file:\n",
    "    results_data = json.load(file)"
   ]
  },
  {
   "cell_type": "code",
   "execution_count": null,
   "metadata": {},
   "outputs": [],
   "source": [
    "server_fig, (ax_storage_used, ax_computation_used, ax_bandwidth_used) = plt.subplots(1, 3, figsize=(16, 4))\n",
    "for ax, name, resource_func in [(ax_storage_used, 'server storage used', storage_usage), \n",
    "                 (ax_computation_used, 'server computation used', computational_usage), \n",
    "                 (ax_bandwidth_used, 'server bandwidth used', bandwidth_usage)]:\n",
    "    for name, algo in algorithms:\n",
    "        results = [resource_func(results_data[0][f'ratio {ratio}'][algo]) for ratio in ratios]\n",
    "        ax.plot(ratios, results, label=name)\n",
    "    ax.set_xticklabels(ratio_labels)\n",
    "    ax.set_xticks(ratios)\n",
    "    ax.set_ylabel('Resource Usage (%)')\n",
    "    ax.set_xlabel('Ratio of Computation:Bandwidth')\n",
    "    ax.set_title(prop)\n",
    "\n",
    "plt.legend()\n",
    "save_plot('server_resource_usage', 'resource_ratio')"
   ]
  },
  {
   "cell_type": "code",
   "execution_count": null,
   "metadata": {},
   "outputs": [],
   "source": [
    "fig, ax = plt.subplots(figsize=(5, 4))\n",
    "for name, algo in algorithms:\n",
    "    social_welfares = [[result[f'ratio {ratio}'][algo]['social welfare'] for result in results_data] for ratio in ratios]\n",
    "    error = 1.96 * np.std(social_welfares, axis=1) / np.sqrt(len(results_data))\n",
    "    ax.errorbar(x=ratios, y=np.mean(social_welfares, axis=1), yerr=error, label=name)\n",
    "\n",
    "ax.set_ylabel('Social Welfare', fontsize=12)\n",
    "ax.set_yticks(fontsize=11)\n",
    "ax.set_xlabel('Ratio of Computation:Bandwidth', fontsize=12)\n",
    "ax.set_xticks(ticks=ratios, labels=ratio_labels, fontsize=11)\n",
    "\n",
    "plt.legend(fontsize=12)\n",
    "save_plot('social_welfare', 'resource_ratio')"
   ]
  },
  {
   "cell_type": "markdown",
   "metadata": {},
   "source": [
    "## Auction algorithms"
   ]
  },
  {
   "cell_type": "code",
   "execution_count": null,
   "metadata": {},
   "outputs": [],
   "source": [
    "auction_filenames = []\n",
    "file_type = []\n",
    "algos = ['', '', '', '']"
   ]
  },
  {
   "cell_type": "code",
   "execution_count": null,
   "metadata": {},
   "outputs": [],
   "source": [
    "fig, axs = plt.subplots(1, 4, figsize=(14, 3.5))\n",
    "for ax, filename, name in zip(axs, auction_filenames, file_type):\n",
    "    results = collect_results(f'ablibaba/auction/{filename}', 'social welfare percent', algos)\n",
    "    ax.boxplot(results, vert=False, widths=0.9)\n",
    "    ax.set_xlabel('Social welfare percentage')\n",
    "    ax.set_yticklabels(['', '', '', ''])\n",
    "    ax.set_title(name)\n",
    "    \n",
    "axs[0].set_yticklabels(['', '', '', ''])\n",
    "fig.tight_layout()\n",
    "save_plot('multi_setting_social_welfare', 'auction')"
   ]
  },
  {
   "cell_type": "code",
   "execution_count": null,
   "metadata": {},
   "outputs": [],
   "source": [
    "fig, axs = plt.subplots(1, 4, figsize=(14, 3.5))\n",
    "for ax, filename, name in zip(axs, auction_filenames, file_type):\n",
    "    results = collect_results(f'ablibaba/auction/{filename}', 'revenue', algos)\n",
    "    ax.boxplot(results, vert=False, widths=0.9)\n",
    "    ax.set_xlabel('Social welfare percentage')\n",
    "    ax.set_yticklabels(['', '', '', ''])\n",
    "    ax.set_title(name)\n",
    "    \n",
    "axs[0].set_yticklabels(['', '', '', ''])\n",
    "fig.tight_layout()\n",
    "save_plot('multi_setting_social_welfare', 'auction')"
   ]
  },
  {
   "cell_type": "markdown",
   "metadata": {},
   "source": [
    "## Decentralised iterative auction heuristics"
   ]
  },
  {
   "cell_type": "code",
   "execution_count": null,
   "metadata": {},
   "outputs": [],
   "source": [
    "with open('../data/dia_heuristics/dia_heuristic_grid_search_paper_r_t30_s6_dt07-22_12-17-27.json') as file:\n",
    "    results_data = json.load(file)\n",
    "    \n",
    "heuristic_results = {}\n",
    "for model_results in results_data:\n",
    "    for heuristic, heuristic_result in model_results.items():\n",
    "        if heuristic == 'model':\n",
    "            continue\n",
    "        elif heuristic in heuristic_results:\n",
    "            heuristic_results[heuristic].append(heuristic_result)\n",
    "        else:\n",
    "            heuristic_results[heuristic] = [heuristic_result]"
   ]
  },
  {
   "cell_type": "code",
   "execution_count": null,
   "metadata": {},
   "outputs": [],
   "source": [
    "heuristic_avg_results = []\n",
    "for heuristic, results in heuristic_results.items():\n",
    "    heuristic_avg_results.append([\n",
    "        heuristic, results[0]['price change'], results[0]['initial price'],\n",
    "        [r['social welfare'] for r in results],\n",
    "        [r['social welfare percent'] for r in results],\n",
    "        [r['percentage tasks allocated'] for r in results],\n",
    "        [r['total revenue'] for r in results],\n",
    "        [r['rounds'] for r in results],\n",
    "        [r['solve time'] for r in results],\n",
    "        [task_price for r in results for task_price in r['task prices'].values()],\n",
    "        np.mean([r['social welfare'] for r in results]),\n",
    "        np.mean([r['total revenue'] for r in results]),\n",
    "        np.mean([r['rounds'] for r in results]),\n",
    "        np.mean([task_rounds for r in results for task_rounds in r['task rounds'].values()])\n",
    "    ])\n",
    "    \n",
    "heuristic_df = pd.DataFrame(heuristic_avg_results, columns=[\n",
    "    'name', 'price change', 'initial price', 'social welfare', 'social welfare percent', \n",
    "    'percentage tasks allocated', 'revenue', 'rounds', 'solve time', 'task prices', \n",
    "    'avg social welfare', 'avg revenue', 'avg rounds', 'avg task rounds',\n",
    "])\n",
    "heuristic_df = heuristic_df.sort_values(by=['price change', 'initial price'])"
   ]
  },
  {
   "cell_type": "code",
   "execution_count": null,
   "metadata": {},
   "outputs": [],
   "source": [
    "def difference(results_1, results_2):\n",
    "    sw, rev, rounds, solve_time, task_rounds = [], [], [], [], []\n",
    "    for r1, r2 in zip(results_1, results_2):\n",
    "        sw.append(r1['social welfare'] / r2['social welfare'])\n",
    "        rev.append(r1['total revenue'] / r2['total revenue'])\n",
    "        rounds.append(r1['rounds'] / r2['rounds'])\n",
    "        solve_time.append(r1['solve time'] / r2['solve time'])\n",
    "    return np.mean(sw), np.mean(rev), np.mean(rounds), np.mean(solve_time), sw, rev, rounds, solve_time\n",
    "\n",
    "min_heuristic_results = heuristic_results['IP: 20, PC: 1']\n",
    "heuristic_difference_results = [\n",
    "    [heuristic, results[0]['price change'], results[0]['initial price'], *difference(results, min_heuristic_results)]\n",
    "    for heuristic, results in heuristic_results.items()\n",
    "]\n",
    "heuristic_diff_df = pd.DataFrame(heuristic_difference_results, columns=[\n",
    "    'name', 'price change', 'initial price', \n",
    "    'social welfare diff', 'revenue diff', 'rounds diff', 'solve time diff',\n",
    "    'social welfare diff list', 'revenue diff list', 'rounds diff list', 'solve time diff list'\n",
    "])"
   ]
  },
  {
   "cell_type": "code",
   "execution_count": null,
   "metadata": {},
   "outputs": [],
   "source": [
    "def heuristic_heatmap(ax, col, df, label_df, label_col, title='', print_heatmap=True,\n",
    "                      initial_prices=['40', '35', '30', '25', '20'], price_changes=['1', '3', '5', '7', '10']):\n",
    "    ax.set_yticks(np.arange(len(price_changes)))\n",
    "    ax.set_yticklabels(list(reversed(price_changes)), fontsize=11)\n",
    "    ax.set_ylabel('Bid Increment', fontsize=13)\n",
    "    \n",
    "    ax.set_xticks(np.arange(len(initial_prices)))\n",
    "    ax.set_xticklabels(list(reversed(initial_prices)), fontsize=11)\n",
    "    ax.set_xlabel('Reserve Price', fontsize=13)\n",
    "    \n",
    "    heatmap = ax.imshow(df.pivot(index='price change', columns='initial price', values=col).sort_index(axis=0, ascending=False))\n",
    "    colour_bar = plt.colorbar(heatmap, shrink=0.82, ax=ax)\n",
    "    ax.set_title(title)\n",
    "    \n",
    "    for x, initial_price in enumerate(initial_prices):\n",
    "        for y, price_change in enumerate(price_changes):\n",
    "            label = label_df[label_df['name'] == f'IP: {initial_price}, PC: {price_change}'].get(label_col).values[0]\n",
    "            ax.text(len(initial_prices) - 1 - x, len(price_changes) - 1 - y, \n",
    "                    round(label), color='white', ha='center', va='center', weight='bold', fontsize=12)\n",
    "            \n",
    "    if print_heatmap:\n",
    "        print(f'\\n\\t{col}')\n",
    "        print(df.pivot(index='price change', columns='initial price', \n",
    "                       values=col).sort_index(axis=0, ascending=False))\n",
    "        print(f'\\n\\t{label_col}')\n",
    "        print(label_df.pivot(index='price change', columns='initial price', \n",
    "                             values=label_col).sort_index(axis=0, ascending=False))\n",
    "        print()"
   ]
  },
  {
   "cell_type": "code",
   "execution_count": null,
   "metadata": {},
   "outputs": [],
   "source": [
    "fig, (ax_social_welfare, ax_revenue, ax_rounds) = plt.subplots(1, 3, figsize=(15, 4.5))\n",
    "\n",
    "heuristic_heatmap(ax_social_welfare, 'social welfare diff', heuristic_diff_df, heuristic_df, 'avg social welfare', 'Social Welfare')\n",
    "heuristic_heatmap(ax_revenue, 'revenue diff', heuristic_diff_df, heuristic_df, 'avg revenue', 'Revenue')\n",
    "heuristic_heatmap(ax_rounds, 'rounds diff', heuristic_diff_df, heuristic_df, 'avg rounds', 'Rounds')\n",
    "\n",
    "plt.tight_layout()\n",
    "save_plot('grid_search', 'dia_heuristics')"
   ]
  },
  {
   "cell_type": "markdown",
   "metadata": {},
   "source": [
    "## Decentralised iterative auction mutation"
   ]
  },
  {
   "cell_type": "code",
   "execution_count": null,
   "metadata": {},
   "outputs": [],
   "source": []
  },
  {
   "cell_type": "markdown",
   "metadata": {},
   "source": [
    "## Online versions"
   ]
  },
  {
   "cell_type": "code",
   "execution_count": null,
   "metadata": {},
   "outputs": [],
   "source": []
  }
 ],
 "metadata": {
  "kernelspec": {
   "display_name": "Python 3",
   "language": "python",
   "name": "python3"
  },
  "language_info": {
   "codemirror_mode": {
    "name": "ipython",
    "version": 3
   },
   "file_extension": ".py",
   "mimetype": "text/x-python",
   "name": "python",
   "nbconvert_exporter": "python",
   "pygments_lexer": "ipython3",
   "version": "3.7.7"
  }
 },
 "nbformat": 4,
 "nbformat_minor": 4
}

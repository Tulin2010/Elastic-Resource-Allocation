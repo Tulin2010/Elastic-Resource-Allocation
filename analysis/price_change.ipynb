{
 "cells": [
  {
   "cell_type": "code",
   "execution_count": 1,
   "metadata": {},
   "outputs": [],
   "source": [
    "\"\"\"Price Change analysis\"\"\"\n",
    "\n",
    "from __future__ import annotations\n",
    "\n",
    "import json\n",
    "from typing import List, Iterable\n",
    "\n",
    "import matplotlib\n",
    "import matplotlib.pyplot as plt\n",
    "import pandas as pd\n",
    "import seaborn as sns\n",
    "\n",
    "matplotlib.rcParams['font.family'] = \"monospace\"\n",
    "%matplotlib inline"
   ]
  },
  {
   "cell_type": "code",
   "execution_count": 2,
   "metadata": {},
   "outputs": [],
   "source": [
    "import os\n",
    "import sys\n",
    "module_path = os.path.abspath(os.path.join('../..'))\n",
    "if module_path not in sys.path:\n",
    "    sys.path.append(module_path)"
   ]
  },
  {
   "cell_type": "code",
   "execution_count": 3,
   "metadata": {},
   "outputs": [],
   "source": [
    "from core.core import decode_filename, save_plot, analysis_filename, ImageFormat"
   ]
  },
  {
   "cell_type": "code",
   "execution_count": 4,
   "metadata": {},
   "outputs": [],
   "source": [
    "uniform = [\n",
    "    'uniform_price_change_auction_results_basic_j15_s2_0',\n",
    "    'uniform_price_change_auction_results_basic_j15_s3_0',\n",
    "    'uniform_price_change_auction_results_basic_j25_s5_0'\n",
    "]\n",
    "\n",
    "non_uniform = [\n",
    "    'non_uniform_price_change_auction_results_basic_j12_s2_0',\n",
    "    # 'non_uniform_price_change_auction_results_basic_j15_s2_0',\n",
    "    'non_uniform_price_change_auction_results_basic_j15_s3_0',\n",
    "    'non_uniform_price_change_auction_results_basic_j25_s5_0'\n",
    "]\n",
    "\n",
    "paper = [\n",
    "    'uniform_price_change_auction_results_fog_j15_s3_0'\n",
    "]"
   ]
  },
  {
   "cell_type": "code",
   "execution_count": 5,
   "metadata": {
    "pycharm": {
     "name": "#%%\n"
    }
   },
   "outputs": [],
   "source": [
    "def plot_auction_results(encoded_filenames: List[str], y_axis: str, title: str,\n",
    "                         save_formats: Iterable[ImageFormat] = ()):\n",
    "    \"\"\"\n",
    "    Plots the auction results\n",
    "\n",
    "    :param encoded_filenames: The list of encoded filenames\n",
    "    :param y_axis: The y axis on the plot\n",
    "    :param title: The graph titles\n",
    "    :param save_formats: List of save formats\n",
    "    \"\"\"\n",
    "    data = []\n",
    "    test_name: str = ''\n",
    "    model_names: List[str] = []\n",
    "\n",
    "    for encoded_filename in encoded_filenames:\n",
    "        filename, model_name, test_name = decode_filename('paper', encoded_filename)\n",
    "        model_names.append(model_name)\n",
    "\n",
    "        with open(filename) as json_file:\n",
    "            json_data = json.load(json_file)\n",
    "\n",
    "            for pos, results in enumerate(json_data):\n",
    "                for name, result in results.items():\n",
    "                    if type(result) is dict:\n",
    "                        data.append((model_name, pos, name, result['sum value'], result['total money'],\n",
    "                                     result['total money'] / results['price change 1']['total money'],\n",
    "                                     result['solve_time']))\n",
    "    data = reversed(data)\n",
    "\n",
    "    df = pd.DataFrame(data, columns=['Model Name', 'Pos', 'Algorithm Name', 'Sum Value', 'Total Money',\n",
    "                                     'Best Total Money', 'Solve Time'])\n",
    "    g: sns.FacetGrid = sns.FacetGrid(df, col='Model Name', hue='Algorithm Name')\n",
    "    g = (g.map(sns.scatterplot, 'Pos', y_axis).set_titles('{col_name}').add_legend())\n",
    "\n",
    "    g.fig.subplots_adjust(top=0.88)\n",
    "    g.fig.suptitle(title)\n",
    "\n",
    "    save_plot(analysis_filename(test_name, y_axis), 'price_change', image_formats=save_formats)\n",
    "    plt.show()"
   ]
  },
  {
   "cell_type": "code",
   "execution_count": null,
   "outputs": [],
   "source": [
    "plot_auction_results(paper, 'Sum Value', 'Sum Value', save_formats=[ImageFormat.EPS, ImageFormat.PNG])\n",
    "plot_auction_results(paper, 'Total Money', 'Total Money', save_formats=[ImageFormat.EPS, ImageFormat.PNG])\n",
    "plot_auction_results(paper, 'Solve Time', 'Solve Time', save_formats=[ImageFormat.EPS, ImageFormat.PNG])"
   ],
   "metadata": {
    "collapsed": false,
    "pycharm": {
     "name": "#%%\n"
    }
   }
  },
  {
   "cell_type": "code",
   "execution_count": null,
   "outputs": [],
   "source": [
    "def plot_multiple_price_auction_results(encoded_filenames: List[str], y_axis: str, title: str,\n",
    "                                        save_formats: Iterable[ImageFormat] = ()):\n",
    "    \"\"\"\n",
    "    Plots the auction results\n",
    "\n",
    "    :param encoded_filenames: A list of encoded filenames\n",
    "    :param y_axis: The y axis on the plot\n",
    "    :param title: The graph title\n",
    "    :param save_formats: List of save formats\n",
    "    \"\"\"\n",
    "    data = []\n",
    "    test_name: str = ''\n",
    "    model_names: List[str] = []\n",
    "\n",
    "    for encoded_filename in encoded_filenames:\n",
    "        filename, model_name, test_name = decode_filename('price_change', encoded_filename)\n",
    "        model_names.append(model_name)\n",
    "\n",
    "        with open(filename) as file:\n",
    "            json_data = json.load(file)\n",
    "\n",
    "            for pos, results in enumerate(json_data):\n",
    "                for name, result in results.items():\n",
    "                    if type(result) is dict:\n",
    "                        data.append((pos, model_name, 'changed', result['sum value'], result['total money'],\n",
    "                                     result['solve_time']))\n",
    "    data = reversed(data)\n",
    "\n",
    "    df = pd.DataFrame(data, columns=['Pos', 'Model Name', 'Algorithm Name', 'Sum Value', 'Total Money', 'Solve Time'])\n",
    "    g: sns.FacetGrid = sns.FacetGrid(df, col='Model Name', hue='Algorithm Name')\n",
    "    (g.map(sns.scatterplot, 'Pos', y_axis).set_titles('{col_name}'))\n",
    "\n",
    "    g.fig.subplots_adjust(top=0.88)\n",
    "    g.fig.suptitle(title)\n",
    "\n",
    "    save_plot(analysis_filename(test_name, y_axis), 'price_change', image_formats=save_formats)\n",
    "    plt.show()"
   ],
   "metadata": {
    "collapsed": false,
    "pycharm": {
     "name": "#%%\n"
    }
   }
  },
  {
   "cell_type": "code",
   "execution_count": null,
   "outputs": [],
   "source": [
    "for attribute in ['Sum Value', 'Total Money', 'Solve Time']:\n",
    "        plot_auction_results(uniform, attribute, '{} of uniform basic model'.format(attribute),\n",
    "                             save_formats=[ImageFormat.EPS, ImageFormat.PNG])\n",
    "        plot_multiple_price_auction_results(non_uniform, attribute, '{} of non uniform basic model'.format(attribute),\n",
    "                                            save_formats=[ImageFormat.EPS, ImageFormat.PNG])\n",
    "    plot_auction_results(uniform, 'Best Total Money', '{} of uniform basic model'.format('Best Total Money'),\n",
    "                         save_formats=[ImageFormat.EPS, ImageFormat.PNG])"
   ],
   "metadata": {
    "collapsed": false,
    "pycharm": {
     "name": "#%%\n"
    }
   }
  }
 ],
 "metadata": {
  "kernelspec": {
   "display_name": "Python 3",
   "language": "python",
   "name": "python3"
  },
  "language_info": {
   "codemirror_mode": {
    "name": "ipython",
    "version": 3
   },
   "file_extension": ".py",
   "mimetype": "text/x-python",
   "name": "python",
   "nbconvert_exporter": "python",
   "pygments_lexer": "ipython3",
   "version": "3.7.3"
  }
 },
 "nbformat": 4,
 "nbformat_minor": 2
}
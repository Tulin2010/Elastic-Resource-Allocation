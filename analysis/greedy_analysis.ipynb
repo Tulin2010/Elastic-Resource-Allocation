{
 "cells": [
  {
   "cell_type": "code",
   "execution_count": 31,
   "metadata": {},
   "outputs": [],
   "source": [
    "\"\"\"Analysis of the greedy results\"\"\"\n",
    "\n",
    "from __future__ import annotations\n",
    "\n",
    "import json\n",
    "from typing import List\n",
    "\n",
    "import matplotlib\n",
    "import matplotlib.pyplot as plt\n",
    "import numpy as np\n",
    "import pandas as pd\n",
    "import seaborn as sns\n",
    "\n",
    "matplotlib.rcParams['font.family'] = \"monospace\"\n",
    "%matplotlib inline"
   ]
  },
  {
   "cell_type": "code",
   "execution_count": 2,
   "metadata": {},
   "outputs": [],
   "source": [
    "import os\n",
    "import sys\n",
    "module_path = os.path.abspath(os.path.join('../..'))\n",
    "if module_path not in sys.path:\n",
    "    sys.path.append(module_path)"
   ]
  },
  {
   "cell_type": "code",
   "execution_count": 3,
   "metadata": {},
   "outputs": [],
   "source": [
    "from core.core import decode_filename, save_plot, analysis_filename, ImageFormat"
   ]
  },
  {
   "cell_type": "code",
   "execution_count": 4,
   "metadata": {},
   "outputs": [],
   "source": [
    "basic = [\n",
    "    \"optimal_greedy_test_basic_j12_s2_0\",\n",
    "    # \"optimal_greedy_test_basic_j15_s2_0\",\n",
    "    \"optimal_greedy_test_basic_j15_s3_0\",\n",
    "    \"optimal_greedy_test_basic_j25_s5_0\",\n",
    "    \"optimal_greedy_test_basic_j50_s5_0\"\n",
    "]\n",
    "\n",
    "big_small = [\n",
    "    \"optimal_greedy_test_big_small_j12_s2_0\",\n",
    "    # \"optimal_greedy_test_big_small_j15_s2_0\",\n",
    "    \"optimal_greedy_test_big_small_j15_s3_0\",\n",
    "    \"optimal_greedy_test_big_small_j25_s5_0\",\n",
    "    \"optimal_greedy_test_big_small_j50_s7_0\",\n",
    "    \"optimal_greedy_test_big_small_j75_s8_0\",\n",
    "    \"optimal_greedy_test_big_small_j100_s10_0\"\n",
    "]"
   ]
  },
  {
   "cell_type": "code",
   "execution_count": 5,
   "metadata": {},
   "outputs": [],
   "source": [
    "encoded_filenames = basic\n",
    "x_axis = 'Sum Value'\n",
    "title = \"{} of {} model\".format(x_axis, 'Basic')"
   ]
  },
  {
   "cell_type": "code",
   "execution_count": 6,
   "metadata": {},
   "outputs": [],
   "source": [
    "data = []\n",
    "model_names: List[str] = []\n",
    "test_name: str = ''\n",
    "\n",
    "for encoded_filename in encoded_filenames:\n",
    "    filename, model_name, test_name = decode_filename('greedy', encoded_filename)\n",
    "    model_names.append(model_name)\n",
    "    \n",
    "    with open(filename) as file:\n",
    "        json_data = json.load(file)\n",
    "        \n",
    "        for pos, results in enumerate(json_data):\n",
    "            # Find the best results of sum value or percentage tasks from all of the algorithms\n",
    "            best_sum_value = max(r['sum value'] for a, r in results.items()\n",
    "                                 if a != 'Relaxed' and type(r) is dict)\n",
    "            best_percentage_tasks = max(r['percentage tasks'] for a, r in results.items()\n",
    "                                       if a != 'Relaxed' and type(r) is dict)\n",
    "            \n",
    "            for algo_name, algo_results in results.items():\n",
    "                if type(algo_results) is dict:  # Otherwise optimal or relaxed == 'failure'\n",
    "                    data.append((pos, model_name, algo_name, algo_results['sum value'],\n",
    "                                 algo_results['percentage tasks'], algo_results['solve_time'],\n",
    "                                 algo_results['sum value'] / best_sum_value,\n",
    "                                 algo_results['percentage tasks'] / best_percentage_tasks))\n",
    "\n",
    "df = pd.DataFrame(data, columns=['Pos', 'Model Name', 'Algorithm Name', 'Sum Value', 'Percentage Jobs',\n",
    "                                 'Solve Time', 'Best Sum Value', 'Best Percentage Jobs'])"
   ]
  },
  {
   "cell_type": "code",
   "execution_count": 7,
   "metadata": {},
   "outputs": [
    {
     "data": {
      "text/plain": [
       "array(['optimal', 'Relaxed', 'Greedy Utility / Sum, Sum, Percentage Sum',\n",
       "       'Greedy Utility / Sum, Sum, Expo percentage sum',\n",
       "       'Greedy Utility / Sum, Sum, Sum of speeds',\n",
       "       'Greedy Utility / Sum, Product, Percentage Sum',\n",
       "       'Greedy Utility / Sum, Product, Expo percentage sum',\n",
       "       'Greedy Utility / Sum, Product, Sum of speeds',\n",
       "       'Greedy Utility / Sum, Exponential Sum, Percentage Sum',\n",
       "       'Greedy Utility / Sum, Exponential Sum, Expo percentage sum',\n",
       "       'Greedy Utility / Sum, Exponential Sum, Sum of speeds',\n",
       "       'Greedy Utility / Sum, Random, Percentage Sum',\n",
       "       'Greedy Utility / Sum, Random, Expo percentage sum',\n",
       "       'Greedy Utility / Sum, Random, Sum of speeds',\n",
       "       'Matrix Greedy Sum Usage', 'Matrix Greedy Sum Percentage',\n",
       "       'Matrix Greedy Sum Exp Percentage'], dtype=object)"
      ]
     },
     "execution_count": 7,
     "metadata": {},
     "output_type": "execute_result"
    }
   ],
   "source": [
    "df = df.loc[~((df['Algorithm Name'].str.contains('Greedy Utility * deadline / Sum', regex=False)) |\n",
    "              (df['Algorithm Name'].str.contains('Greedy Utility / Sqrt Sum', regex=False)) |\n",
    "              df['Algorithm Name'].str.contains('Matrix Greedy Sum Exp^3 Percentage', regex=False))]\n",
    "df['Algorithm Name'].unique()"
   ]
  },
  {
   "cell_type": "code",
   "execution_count": 8,
   "metadata": {},
   "outputs": [
    {
     "name": "stderr",
     "output_type": "stream",
     "text": [
      "c:\\users\\mark\\appdata\\local\\programs\\python\\python37\\lib\\site-packages\\seaborn\\axisgrid.py:715: UserWarning: Using the barplot function without specifying `order` is likely to produce an incorrect plot.\n",
      "  warnings.warn(warning)\n"
     ]
    },
    {
     "data": {
      "text/plain": [
       "<seaborn.axisgrid.FacetGrid at 0x29a1b210d68>"
      ]
     },
     "execution_count": 8,
     "metadata": {},
     "output_type": "execute_result"
    },
    {
     "data": {
      "image/png": "[encoded data removed]",
      "text/plain": [
       "<Figure size 1440x360 with 4 Axes>"
      ]
     },
     "metadata": {
      "needs_background": "light"
     },
     "output_type": "display_data"
    }
   ],
   "source": [
    "g = sns.FacetGrid(df, col='Model Name', sharex=False, height=5)\n",
    "g = g.map(sns.barplot, x_axis, 'Algorithm Name').set_titles(\"{col_name}\")\n",
    "\n",
    "for pos, model in enumerate(model_names):\n",
    "    values = [np.mean(df[(df['Model Name'] == model) & (df['Algorithm Name'] == algo)][x_axis])\n",
    "              for algo in df['Algorithm Name'].unique()]\n",
    "    g.axes[0, pos].set_xlim(min(values) * 0.97, max(values) * 1.02)\n",
    "\n",
    "g.fig.subplots_adjust(top=0.88)\n",
    "g.fig.suptitle(title)\n",
    "\n",
    "g    "
   ]
  },
  {
   "cell_type": "code",
   "execution_count": 9,
   "metadata": {},
   "outputs": [
    {
     "data": {
      "text/plain": [
       "array(['optimal', 'Relaxed', 'Greedy Utility / Sum, Sum, Percentage Sum',\n",
       "       'Greedy Utility / Sum, Sum, Expo percentage sum',\n",
       "       'Greedy Utility / Sum, Sum, Sum of speeds',\n",
       "       'Greedy Utility / Sum, Product, Percentage Sum',\n",
       "       'Greedy Utility / Sum, Product, Expo percentage sum',\n",
       "       'Greedy Utility / Sum, Product, Sum of speeds',\n",
       "       'Greedy Utility / Sum, Exponential Sum, Percentage Sum',\n",
       "       'Greedy Utility / Sum, Exponential Sum, Expo percentage sum',\n",
       "       'Greedy Utility / Sum, Exponential Sum, Sum of speeds',\n",
       "       'Greedy Utility / Sum, Random, Percentage Sum',\n",
       "       'Greedy Utility / Sum, Random, Expo percentage sum',\n",
       "       'Greedy Utility / Sum, Random, Sum of speeds',\n",
       "       'Matrix Greedy Sum Usage', 'Matrix Greedy Sum Percentage',\n",
       "       'Matrix Greedy Sum Exp Percentage'], dtype=object)"
      ]
     },
     "execution_count": 9,
     "metadata": {},
     "output_type": "execute_result"
    }
   ],
   "source": [
    "df['Algorithm Name'].unique()"
   ]
  },
  {
   "cell_type": "code",
   "execution_count": 18,
   "metadata": {},
   "outputs": [
    {
     "data": {
      "text/html": [
       "<div>\n",
       "<style scoped>\n",
       "    .dataframe tbody tr th:only-of-type {\n",
       "        vertical-align: middle;\n",
       "    }\n",
       "\n",
       "    .dataframe tbody tr th {\n",
       "        vertical-align: top;\n",
       "    }\n",
       "\n",
       "    .dataframe thead th {\n",
       "        text-align: right;\n",
       "    }\n",
       "</style>\n",
       "<table border=\"1\" class=\"dataframe\">\n",
       "  <thead>\n",
       "    <tr style=\"text-align: right;\">\n",
       "      <th></th>\n",
       "      <th>Pos</th>\n",
       "      <th>Model Name</th>\n",
       "      <th>Algorithm Name</th>\n",
       "      <th>Sum Value</th>\n",
       "      <th>Percentage Jobs</th>\n",
       "      <th>Solve Time</th>\n",
       "      <th>Best Sum Value</th>\n",
       "      <th>Best Percentage Jobs</th>\n",
       "    </tr>\n",
       "  </thead>\n",
       "  <tbody>\n",
       "    <tr>\n",
       "      <td>0</td>\n",
       "      <td>0</td>\n",
       "      <td>Jobs: 12 Servers: 2</td>\n",
       "      <td>optimal</td>\n",
       "      <td>530</td>\n",
       "      <td>0.833</td>\n",
       "      <td>1.260</td>\n",
       "      <td>1.000000</td>\n",
       "      <td>1.000000</td>\n",
       "    </tr>\n",
       "    <tr>\n",
       "      <td>1</td>\n",
       "      <td>0</td>\n",
       "      <td>Jobs: 12 Servers: 2</td>\n",
       "      <td>Relaxed</td>\n",
       "      <td>530</td>\n",
       "      <td>0.833</td>\n",
       "      <td>0.072</td>\n",
       "      <td>1.000000</td>\n",
       "      <td>1.000000</td>\n",
       "    </tr>\n",
       "    <tr>\n",
       "      <td>2</td>\n",
       "      <td>0</td>\n",
       "      <td>Jobs: 12 Servers: 2</td>\n",
       "      <td>Greedy Algo</td>\n",
       "      <td>504</td>\n",
       "      <td>0.750</td>\n",
       "      <td>0.093</td>\n",
       "      <td>0.950943</td>\n",
       "      <td>0.900360</td>\n",
       "    </tr>\n",
       "    <tr>\n",
       "      <td>42</td>\n",
       "      <td>1</td>\n",
       "      <td>Jobs: 12 Servers: 2</td>\n",
       "      <td>optimal</td>\n",
       "      <td>521</td>\n",
       "      <td>0.833</td>\n",
       "      <td>1.140</td>\n",
       "      <td>1.000000</td>\n",
       "      <td>1.000000</td>\n",
       "    </tr>\n",
       "    <tr>\n",
       "      <td>43</td>\n",
       "      <td>1</td>\n",
       "      <td>Jobs: 12 Servers: 2</td>\n",
       "      <td>Relaxed</td>\n",
       "      <td>521</td>\n",
       "      <td>0.833</td>\n",
       "      <td>0.065</td>\n",
       "      <td>1.000000</td>\n",
       "      <td>1.000000</td>\n",
       "    </tr>\n",
       "    <tr>\n",
       "      <td>...</td>\n",
       "      <td>...</td>\n",
       "      <td>...</td>\n",
       "      <td>...</td>\n",
       "      <td>...</td>\n",
       "      <td>...</td>\n",
       "      <td>...</td>\n",
       "      <td>...</td>\n",
       "      <td>...</td>\n",
       "    </tr>\n",
       "    <tr>\n",
       "      <td>33516</td>\n",
       "      <td>198</td>\n",
       "      <td>Jobs: 50 Servers: 5</td>\n",
       "      <td>Relaxed</td>\n",
       "      <td>1654</td>\n",
       "      <td>0.540</td>\n",
       "      <td>30.051</td>\n",
       "      <td>1.009768</td>\n",
       "      <td>1.038462</td>\n",
       "    </tr>\n",
       "    <tr>\n",
       "      <td>33517</td>\n",
       "      <td>198</td>\n",
       "      <td>Jobs: 50 Servers: 5</td>\n",
       "      <td>Greedy Algo</td>\n",
       "      <td>1572</td>\n",
       "      <td>0.480</td>\n",
       "      <td>0.352</td>\n",
       "      <td>0.959707</td>\n",
       "      <td>0.923077</td>\n",
       "    </tr>\n",
       "    <tr>\n",
       "      <td>33557</td>\n",
       "      <td>199</td>\n",
       "      <td>Jobs: 50 Servers: 5</td>\n",
       "      <td>optimal</td>\n",
       "      <td>1368</td>\n",
       "      <td>0.460</td>\n",
       "      <td>30.020</td>\n",
       "      <td>1.000000</td>\n",
       "      <td>1.000000</td>\n",
       "    </tr>\n",
       "    <tr>\n",
       "      <td>33558</td>\n",
       "      <td>199</td>\n",
       "      <td>Jobs: 50 Servers: 5</td>\n",
       "      <td>Relaxed</td>\n",
       "      <td>1370</td>\n",
       "      <td>0.460</td>\n",
       "      <td>30.055</td>\n",
       "      <td>1.001462</td>\n",
       "      <td>1.000000</td>\n",
       "    </tr>\n",
       "    <tr>\n",
       "      <td>33559</td>\n",
       "      <td>199</td>\n",
       "      <td>Jobs: 50 Servers: 5</td>\n",
       "      <td>Greedy Algo</td>\n",
       "      <td>1297</td>\n",
       "      <td>0.440</td>\n",
       "      <td>0.430</td>\n",
       "      <td>0.948099</td>\n",
       "      <td>0.956522</td>\n",
       "    </tr>\n",
       "  </tbody>\n",
       "</table>\n",
       "<p>2399 rows × 8 columns</p>\n",
       "</div>"
      ],
      "text/plain": [
       "       Pos           Model Name Algorithm Name  Sum Value  Percentage Jobs  \\\n",
       "0        0  Jobs: 12 Servers: 2        optimal        530            0.833   \n",
       "1        0  Jobs: 12 Servers: 2        Relaxed        530            0.833   \n",
       "2        0  Jobs: 12 Servers: 2    Greedy Algo        504            0.750   \n",
       "42       1  Jobs: 12 Servers: 2        optimal        521            0.833   \n",
       "43       1  Jobs: 12 Servers: 2        Relaxed        521            0.833   \n",
       "...    ...                  ...            ...        ...              ...   \n",
       "33516  198  Jobs: 50 Servers: 5        Relaxed       1654            0.540   \n",
       "33517  198  Jobs: 50 Servers: 5    Greedy Algo       1572            0.480   \n",
       "33557  199  Jobs: 50 Servers: 5        optimal       1368            0.460   \n",
       "33558  199  Jobs: 50 Servers: 5        Relaxed       1370            0.460   \n",
       "33559  199  Jobs: 50 Servers: 5    Greedy Algo       1297            0.440   \n",
       "\n",
       "       Solve Time  Best Sum Value  Best Percentage Jobs  \n",
       "0           1.260        1.000000              1.000000  \n",
       "1           0.072        1.000000              1.000000  \n",
       "2           0.093        0.950943              0.900360  \n",
       "42          1.140        1.000000              1.000000  \n",
       "43          0.065        1.000000              1.000000  \n",
       "...           ...             ...                   ...  \n",
       "33516      30.051        1.009768              1.038462  \n",
       "33517       0.352        0.959707              0.923077  \n",
       "33557      30.020        1.000000              1.000000  \n",
       "33558      30.055        1.001462              1.000000  \n",
       "33559       0.430        0.948099              0.956522  \n",
       "\n",
       "[2399 rows x 8 columns]"
      ]
     },
     "execution_count": 18,
     "metadata": {},
     "output_type": "execute_result"
    }
   ],
   "source": [
    "short_df = df[(df['Algorithm Name'] == 'optimal') | \n",
    "              (df['Algorithm Name'] == 'Relaxed') | \n",
    "              (df['Algorithm Name'] == 'Greedy Utility / Sum, Sum, Percentage Sum')].replace('Greedy Utility / Sum, Sum, Percentage Sum', 'Greedy Algo')\n",
    "short_df"
   ]
  },
  {
   "cell_type": "code",
   "execution_count": 34,
   "metadata": {},
   "outputs": [
    {
     "name": "stderr",
     "output_type": "stream",
     "text": [
      "The PostScript backend does not support transparency; partially transparent artists will be rendered opaque.\n",
      "The PostScript backend does not support transparency; partially transparent artists will be rendered opaque.\n",
      "The PostScript backend does not support transparency; partially transparent artists will be rendered opaque.\n",
      "The PostScript backend does not support transparency; partially transparent artists will be rendered opaque.\n"
     ]
    },
    {
     "name": "stdout",
     "output_type": "stream",
     "text": [
      "Save file location: ../figures/greedy/eps/all_shortened.eps\n",
      "Save file location: ../figures/greedy/png/all_shortened.png\n"
     ]
    },
    {
     "data": {
      "image/png": "[encoded data removed]",
      "text/plain": [
       "<Figure size 432x288 with 1 Axes>"
      ]
     },
     "metadata": {
      "needs_background": "light"
     },
     "output_type": "display_data"
    }
   ],
   "source": [
    "g = sns.barplot(y='Model Name', x='Best Sum Value', hue='Algorithm Name', data=short_df)\n",
    "g.set_xlim(0.9, 1.055)\n",
    "save_plot(analysis_filename('all', 'shortened'), \"greedy\", image_format=ImageFormat.BOTH)\n"
   ]
  },
  {
   "cell_type": "code",
   "execution_count": null,
   "metadata": {},
   "outputs": [],
   "source": [
    "big_small_a = [\n",
    "        \"optimal_greedy_test_big_small_j12_s2_0\",\n",
    "        # \"optimal_greedy_test_big_small_j15_s2_0\",\n",
    "        \"optimal_greedy_test_big_small_j15_s3_0\",\n",
    "        \"optimal_greedy_test_big_small_j25_s5_0\"\n",
    "    ]\n",
    "\n",
    "    big_small_b = [\n",
    "        \"optimal_greedy_test_big_small_j50_s7_0\",\n",
    "        \"optimal_greedy_test_big_small_j75_s8_0\",\n",
    "        \"optimal_greedy_test_big_small_j100_s10_0\"\n",
    "    ]\n",
    "\n",
    "\"\"\"\n",
    "image_format = ImageFormat.BOTH\n",
    "for model_files, model_name in [(big_small_b, \"Big Small\")]:\n",
    "    for attribute in ['Sum Value', 'Percentage Jobs', 'Solve Time', 'Best Sum Value', 'Best Percentage Jobs']:\n",
    "        all_algorithms_analysis(model_files, attribute, \"{} of {} model\".format(attribute, model_name),\n",
    "                                save_format=image_format)\n",
    "\"\"\"\n"
   ]
  },
  {
   "cell_type": "code",
   "execution_count": null,
   "metadata": {},
   "outputs": [],
   "source": [
    "\"\"\"\n",
    "Allocation Analysis\n",
    "\"\"\"\n",
    "dist_name, task_dist, server_dist = load_dist(\"../../src/models/basic_v2.json\")\n",
    "model_dist = ModelDist(dist_name, task_dist, 20, server_dist, 2)\n",
    "tasks, servers = model_dist.create()\n",
    "\n",
    "# Optimal\n",
    "optimal_algorithm(tasks, servers, 15)\n",
    "plot_allocation_results(tasks, servers, \"Optimal Allocation\", ImageFormat.BOTH)\n",
    "reset_model(tasks, servers)\n",
    "\n",
    "# Greedy\n",
    "greedy_algorithm(tasks, servers, ResourceSum(), SumResources(), SumPercentage())\n",
    "\n",
    "plot_allocation_results(tasks, servers, \"Greedy Allocation\", ImageFormat.BOTH)"
   ]
  }
 ],
 "metadata": {
  "kernelspec": {
   "display_name": "Python 3",
   "language": "python",
   "name": "python3"
  },
  "language_info": {
   "codemirror_mode": {
    "name": "ipython",
    "version": 3
   },
   "file_extension": ".py",
   "mimetype": "text/x-python",
   "name": "python",
   "nbconvert_exporter": "python",
   "pygments_lexer": "ipython3",
   "version": "3.7.7"
  }
 },
 "nbformat": 4,
 "nbformat_minor": 2
}
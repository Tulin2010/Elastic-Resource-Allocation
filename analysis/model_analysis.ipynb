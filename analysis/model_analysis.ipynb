{
 "cells": [
  {
   "cell_type": "code",
   "execution_count": null,
   "metadata": {},
   "outputs": [],
   "source": [
    "\"\"\"Model Analysis\"\"\"\n",
    "\n",
    "from __future__ import annotations\n",
    "\n",
    "from typing import List\n",
    "\n",
    "import matplotlib.pyplot as plt\n",
    "import pandas as pd\n",
    "import seaborn as sns\n",
    "\n",
    "from src.core.job import Job\n",
    "from src.core.model import load_dist, ModelDist\n",
    "from src.core.server import Server"
   ]
  },
  {
   "cell_type": "code",
   "execution_count": null,
   "metadata": {},
   "outputs": [],
   "source": [
    "files = [\n",
    "    '../../models/basic.model',\n",
    "    '../../models/big_small.model'\n",
    "]\n",
    "models = []\n",
    "\n",
    "for file in files:\n",
    "    model_name, job_dist, server_dist = load_dist(file)\n",
    "    models.append(ModelDist(model_name, job_dist, 1, server_dist, 1))\n",
    "\n",
    "plot_job_distribution(models)\n",
    "plot_server_distribution(models)"
   ]
  },
  {
   "cell_type": "code",
   "execution_count": null,
   "metadata": {},
   "outputs": [],
   "source": [
    "\"\"\"Plot job distribution\"\"\"\n",
    "\"\"\"\n",
    "data = [[model_dist.name.split(\",\")[0], job.required_storage, job.required_computation, job.required_results_data,\n",
    "         job.value, job.deadline]\n",
    "        for model_dist in model_dists for _ in range(repeats) for job in model_dist.create()[0]]\n",
    "\n",
    "df = pd.DataFrame(data, columns=['Model', 'Storage', 'Computation', 'Results Data', 'Utility', 'Deadline'])\n",
    "wide_df = pd.melt(df, id_vars=['Model']).sort_values(['variable', 'value'])\n",
    "wide_df.rename(columns={'variable': 'Resource', 'value': 'Value'}, inplace=True)\n",
    "\n",
    "sns.catplot('Resource', 'Value', hue='Model', data=wide_df, kind='violin')\n",
    "plt.title(\"Job Distribution\")\n",
    "plt.show()\n",
    "\"\"\"\n",
    "\n",
    "data = []\n",
    "for model_dist in model_dists:\n",
    "    for _ in range(repeats):\n",
    "        jobs = model_dist.create()[0]\n",
    "        for job in jobs:\n",
    "            data.append((model_dist.dist_name, \"Storage\", job.required_storage))\n",
    "            data.append((model_dist.dist_name, \"Computation\", job.required_computation))\n",
    "            data.append((model_dist.dist_name, \"Bandwidth\", job.required_results_data))\n",
    "            data.append((model_dist.dist_name, \"Value\", job.value))\n",
    "            data.append((model_dist.dist_name, \"Deadline\", job.deadline))\n",
    "\n",
    "df = pd.DataFrame(data, columns=['Model', 'Resource', 'Value'])"
   ]
  },
  {
   "cell_type": "code",
   "execution_count": null,
   "metadata": {},
   "outputs": [],
   "source": [
    "g = sns.FacetGrid(df, col='Resource', sharey=False, col_wrap=3)\n",
    "# noinspection PyUnresolvedReferences\n",
    "(g.map(sns.violinplot, 'Model', 'Value').set_titles('{col_name}'))\n",
    "plt.show()"
   ]
  },
  {
   "cell_type": "code",
   "execution_count": null,
   "metadata": {},
   "outputs": [],
   "source": [
    "\"\"\"Plot server distribution\"\"\"\n",
    "\n",
    "data = [[model_dist.dist_name, server.storage_capacity, server.computation_capacity, server.bandwidth_capacity]\n",
    "        for model_dist in model_dists for _ in range(repeats) for server in model_dist.create()[1]]\n",
    "\n",
    "df = pd.DataFrame(data, columns=['Model', 'Storage', 'Computation', 'Results Data'])\n",
    "df = pd.melt(df, id_vars=['Model']).sort_values(['variable', 'value'])\n",
    "df.rename(columns={'variable': 'Resource', 'value': 'Value'}, inplace=True)\n",
    "\n",
    "sns.violinplot('Resource', 'Value', hue='Model', data=df)\n",
    "plt.title(\"Server Distribution\")\n",
    "plt.show()"
   ]
  },
  {
   "cell_type": "code",
   "execution_count": null,
   "metadata": {},
   "outputs": [],
   "source": [
    "\"\"\"Plot jobs\"\"\"\n",
    "if plot_utility_deadline:\n",
    "    data = [[job.name, job.required_storage, job.required_computation, job.required_results_data,\n",
    "             job.value, job.deadline] for job in jobs]\n",
    "    df = pd.DataFrame(data, columns=['Name', 'Storage', 'Computation', 'Results Data', 'Utility', 'Deadline'])\n",
    "else:\n",
    "    data = [[job.name, job.required_storage, job.required_computation, job.required_results_data] for job in jobs]\n",
    "    df = pd.DataFrame(data, columns=['Name', 'Storage', 'Computation', 'Results Data'])\n",
    "\n",
    "wide_df = pd.melt(df, id_vars=['Name']).sort_values(['variable', 'value'])\n",
    "wide_df.rename(columns={'variable': 'Resource'}, inplace=True)\n",
    "sns.barplot(x='value', y='Name', hue='Resource', data=wide_df)\n",
    "plt.ylabel('Name')\n",
    "plt.title(\"Jobs\")\n",
    "plt.show()"
   ]
  },
  {
   "cell_type": "code",
   "execution_count": null,
   "metadata": {},
   "outputs": [],
   "source": [
    "\"\"\"Plot servers\"\"\"\n",
    "data = [[server.name, server.storage_capacity, server.computation_capacity, server.bandwidth_capacity] for server in\n",
    "        servers]\n",
    "df = pd.DataFrame(data, columns=['Name', 'Storage', 'Computation', 'Bandwidth'])\n",
    "wide_df = pd.melt(df, id_vars=['Name']).sort_values(['variable', 'value'])\n",
    "wide_df.rename(columns={'variable': 'Resource'}, inplace=True)\n",
    "sns.barplot(x='Name', y='value', hue='Resource', data=wide_df)\n",
    "plt.xlabel('Name')\n",
    "plt.title(\"Servers\")\n",
    "plt.show()"
   ]
  }
 ],
 "metadata": {
  "kernelspec": {
   "display_name": "Python 3",
   "language": "python",
   "name": "python3"
  },
  "language_info": {
   "codemirror_mode": {
    "name": "ipython",
    "version": 3
   },
   "file_extension": ".py",
   "mimetype": "text/x-python",
   "name": "python",
   "nbconvert_exporter": "python",
   "pygments_lexer": "ipython3",
   "version": "3.7.7"
  }
 },
 "nbformat": 4,
 "nbformat_minor": 4
}

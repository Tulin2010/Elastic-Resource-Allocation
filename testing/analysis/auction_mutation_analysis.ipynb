{
 "cells": [
  {
   "cell_type": "code",
   "execution_count": 1,
   "metadata": {},
   "outputs": [],
   "source": [
    "\"\"\"Auction mutation analysis\"\"\"\n",
    "\n",
    "from __future__ import annotations\n",
    "\n",
    "import json\n",
    "from typing import List\n",
    "\n",
    "import matplotlib\n",
    "import matplotlib.pyplot as plt\n",
    "import numpy as np\n",
    "import pandas as pd\n",
    "import seaborn as sns\n",
    "\n",
    "matplotlib.rcParams['font.family'] = \"monospace\"\n",
    "%matplotlib inline"
   ]
  },
  {
   "cell_type": "code",
   "execution_count": 2,
   "metadata": {},
   "outputs": [],
   "source": [
    "import os\n",
    "import sys\n",
    "module_path = os.path.abspath(os.path.join('../..'))\n",
    "if module_path not in sys.path:\n",
    "    sys.path.append(module_path)"
   ]
  },
  {
   "cell_type": "code",
   "execution_count": 3,
   "metadata": {},
   "outputs": [],
   "source": [
    "from core.core import decode_filename, save_plot, analysis_filename, ImageFormat"
   ]
  },
  {
   "cell_type": "code",
   "execution_count": 4,
   "metadata": {},
   "outputs": [],
   "source": [
    "basic = [\n",
    "    \"mutate_iterative_auction_basic_j12_s2_0\",\n",
    "    \"mutate_iterative_auction_basic_j15_s2_0\",\n",
    "    \"mutate_iterative_auction_basic_j15_s3_0\",\n",
    "    \"mutate_iterative_auction_basic_j25_s5_0\"\n",
    "]\n",
    "\n",
    "paper = [\n",
    "    \"mutate_iterative_auction_fog_j15_s3_0\",\n",
    "    \"mutate_iterative_auction_fog_j15_s3_1\",\n",
    "    \"mutate_iterative_auction_fog_j25_s5_0\",\n",
    "    \"mutate_iterative_auction_fog_j15_s3_1\",\n",
    "]\n",
    "\n",
    "encoded_filenames = paper\n",
    "folder = 'paper'\n",
    "y_axis = 'Mutate Difference' \n",
    "title = 'Effect of job misrepresentation on prices'"
   ]
  },
  {
   "cell_type": "code",
   "execution_count": 5,
   "metadata": {},
   "outputs": [
    {
     "name": "stdout",
     "output_type": "stream",
     "text": [
      "{'solve_time': 445.158, 'sum value': 552, 'percentage value': 0.932, 'percentage jobs': 0.8, 'server value': {'server 0': 220, 'server 1': 101, 'server 2': 231}, 'server storage usage': {'server 0': 0.979, 'server 1': 0.797, 'server 2': 0.972}, 'server computation usage': {'server 0': 1.0, 'server 1': 1.0, 'server 2': 1.0}, 'server bandwidth usage': {'server 0': 1.0, 'server 1': 1.0, 'server 2': 1.0}, 'num jobs': {'server 0': 5, 'server 1': 3, 'server 2': 4}, 'individual_compute_time': 5, 'total_iterations': 106, 'total_messages': 830, 'initial_cost': 0, 'total money': 242, 'prices': {'job 0': 12, 'job 1': 20, 'job 3': 18, 'job 4': 18, 'job 5': 10, 'job 6': 18, 'job 7': 16, 'job 9': 18, 'job 10': 20, 'job 11': 20, 'job 12': 20, 'job 13': 16, 'job 14': 18, 'job 2': 12, 'mutated job 8': 6}, 'revenues': {'server 0': 86, 'server 1': 58, 'server 2': 62}, 'price change': {'server 0': 2, 'server 1': 2, 'server 2': 2}, 'difference': 'job 8 - mutated job 8: 4, 6, 0, -58, 64', 'mutant_value': 6, 'mutated_value': 4, 'allocated': True}\n"
     ]
    }
   ],
   "source": [
    "data = []\n",
    "model_names = []\n",
    "\n",
    "for encoded_filename in encoded_filenames:\n",
    "    filename, model_name, test_name = decode_filename(folder, encoded_filename)\n",
    "    model_names.append(model_name)\n",
    "    \n",
    "    with open(filename) as file:\n",
    "        file_data = json.load(file)\n",
    "\n",
    "        for pos, result in enumerate(file_data):\n",
    "            for mutation_name, mutation_results in result.items():\n",
    "                if mutation_name == \"no mutation\":\n",
    "                    data.append((pos, model_name, \"No Mutation\", mutation_results['total money'], 0, 0, 0, mutation_results['total_iterations']))\n",
    "                else:\n",
    "                    if mutation_results['mutant_value'] - mutation_results['mutated_value'] > 0:\n",
    "                        print(mutation_results)\n",
    "                    data.append((pos, model_name, \"Mutation\", mutation_results['total money'],\n",
    "                                 mutation_results['mutant_value'], mutation_results['mutated_value'],                                     \n",
    "                                 mutation_results['mutant_value'] - mutation_results['mutated_value'],\n",
    "                                 mutation_results['total_iterations'], mutation_results['difference']))\n",
    "data = reversed(data)"
   ]
  },
  {
   "cell_type": "code",
   "execution_count": 6,
   "metadata": {},
   "outputs": [
    {
     "data": {
      "text/html": [
       "<div>\n",
       "<style scoped>\n",
       "    .dataframe tbody tr th:only-of-type {\n",
       "        vertical-align: middle;\n",
       "    }\n",
       "\n",
       "    .dataframe tbody tr th {\n",
       "        vertical-align: top;\n",
       "    }\n",
       "\n",
       "    .dataframe thead th {\n",
       "        text-align: right;\n",
       "    }\n",
       "</style>\n",
       "<table border=\"1\" class=\"dataframe\">\n",
       "  <thead>\n",
       "    <tr style=\"text-align: right;\">\n",
       "      <th></th>\n",
       "      <th>Pos</th>\n",
       "      <th>Model</th>\n",
       "      <th>Mutation</th>\n",
       "      <th>Total Money</th>\n",
       "      <th>Mutant Value</th>\n",
       "      <th>Mutated Value</th>\n",
       "      <th>Mutate Difference</th>\n",
       "      <th>Iterations</th>\n",
       "      <th>Difference</th>\n",
       "    </tr>\n",
       "  </thead>\n",
       "  <tbody>\n",
       "    <tr>\n",
       "      <th>0</th>\n",
       "      <td>25</td>\n",
       "      <td>Tasks: 15 Servers: 3</td>\n",
       "      <td>Mutation</td>\n",
       "      <td>552</td>\n",
       "      <td>0</td>\n",
       "      <td>32</td>\n",
       "      <td>-32</td>\n",
       "      <td>215</td>\n",
       "      <td>job 6 - mutated job 6: 3, 11, 7, -14, 32</td>\n",
       "    </tr>\n",
       "    <tr>\n",
       "      <th>1</th>\n",
       "      <td>25</td>\n",
       "      <td>Tasks: 15 Servers: 3</td>\n",
       "      <td>Mutation</td>\n",
       "      <td>524</td>\n",
       "      <td>0</td>\n",
       "      <td>34</td>\n",
       "      <td>-34</td>\n",
       "      <td>206</td>\n",
       "      <td>job 0 - mutated job 0: 2, 0, 0, -54, 65</td>\n",
       "    </tr>\n",
       "    <tr>\n",
       "      <th>2</th>\n",
       "      <td>25</td>\n",
       "      <td>Tasks: 15 Servers: 3</td>\n",
       "      <td>Mutation</td>\n",
       "      <td>562</td>\n",
       "      <td>2</td>\n",
       "      <td>22</td>\n",
       "      <td>-20</td>\n",
       "      <td>215</td>\n",
       "      <td>job 8 - mutated job 8: 19, 1, 6, -10, 20</td>\n",
       "    </tr>\n",
       "    <tr>\n",
       "      <th>3</th>\n",
       "      <td>25</td>\n",
       "      <td>Tasks: 15 Servers: 3</td>\n",
       "      <td>Mutation</td>\n",
       "      <td>466</td>\n",
       "      <td>2</td>\n",
       "      <td>36</td>\n",
       "      <td>-34</td>\n",
       "      <td>192</td>\n",
       "      <td>job 14 - mutated job 14: 13, 1, 6, -44, 53</td>\n",
       "    </tr>\n",
       "    <tr>\n",
       "      <th>4</th>\n",
       "      <td>25</td>\n",
       "      <td>Tasks: 15 Servers: 3</td>\n",
       "      <td>Mutation</td>\n",
       "      <td>462</td>\n",
       "      <td>4</td>\n",
       "      <td>28</td>\n",
       "      <td>-24</td>\n",
       "      <td>189</td>\n",
       "      <td>job 12 - mutated job 12: 10, 3, 1, -43, 49</td>\n",
       "    </tr>\n",
       "    <tr>\n",
       "      <th>...</th>\n",
       "      <td>...</td>\n",
       "      <td>...</td>\n",
       "      <td>...</td>\n",
       "      <td>...</td>\n",
       "      <td>...</td>\n",
       "      <td>...</td>\n",
       "      <td>...</td>\n",
       "      <td>...</td>\n",
       "      <td>...</td>\n",
       "    </tr>\n",
       "    <tr>\n",
       "      <th>597</th>\n",
       "      <td>0</td>\n",
       "      <td>Tasks: 15 Servers: 3</td>\n",
       "      <td>Mutation</td>\n",
       "      <td>564</td>\n",
       "      <td>4</td>\n",
       "      <td>40</td>\n",
       "      <td>-36</td>\n",
       "      <td>227</td>\n",
       "      <td>job 5 - mutated job 5: 12, 1, 1, -41, 53</td>\n",
       "    </tr>\n",
       "    <tr>\n",
       "      <th>598</th>\n",
       "      <td>0</td>\n",
       "      <td>Tasks: 15 Servers: 3</td>\n",
       "      <td>Mutation</td>\n",
       "      <td>570</td>\n",
       "      <td>2</td>\n",
       "      <td>40</td>\n",
       "      <td>-38</td>\n",
       "      <td>232</td>\n",
       "      <td>job 1 - mutated job 1: 6, 12, 3, -44, 48</td>\n",
       "    </tr>\n",
       "    <tr>\n",
       "      <th>599</th>\n",
       "      <td>0</td>\n",
       "      <td>Tasks: 15 Servers: 3</td>\n",
       "      <td>Mutation</td>\n",
       "      <td>488</td>\n",
       "      <td>6</td>\n",
       "      <td>40</td>\n",
       "      <td>-34</td>\n",
       "      <td>209</td>\n",
       "      <td>job 9 - mutated job 9: 12, 19, 2, -78, 84</td>\n",
       "    </tr>\n",
       "    <tr>\n",
       "      <th>600</th>\n",
       "      <td>0</td>\n",
       "      <td>Tasks: 15 Servers: 3</td>\n",
       "      <td>Mutation</td>\n",
       "      <td>534</td>\n",
       "      <td>6</td>\n",
       "      <td>42</td>\n",
       "      <td>-36</td>\n",
       "      <td>230</td>\n",
       "      <td>job 14 - mutated job 14: 1, 9, 4, -52, 55</td>\n",
       "    </tr>\n",
       "    <tr>\n",
       "      <th>601</th>\n",
       "      <td>0</td>\n",
       "      <td>Tasks: 15 Servers: 3</td>\n",
       "      <td>No Mutation</td>\n",
       "      <td>582</td>\n",
       "      <td>0</td>\n",
       "      <td>0</td>\n",
       "      <td>0</td>\n",
       "      <td>237</td>\n",
       "      <td>None</td>\n",
       "    </tr>\n",
       "  </tbody>\n",
       "</table>\n",
       "<p>602 rows × 9 columns</p>\n",
       "</div>"
      ],
      "text/plain": [
       "     Pos                 Model     Mutation  Total Money  Mutant Value  \\\n",
       "0     25  Tasks: 15 Servers: 3     Mutation          552             0   \n",
       "1     25  Tasks: 15 Servers: 3     Mutation          524             0   \n",
       "2     25  Tasks: 15 Servers: 3     Mutation          562             2   \n",
       "3     25  Tasks: 15 Servers: 3     Mutation          466             2   \n",
       "4     25  Tasks: 15 Servers: 3     Mutation          462             4   \n",
       "..   ...                   ...          ...          ...           ...   \n",
       "597    0  Tasks: 15 Servers: 3     Mutation          564             4   \n",
       "598    0  Tasks: 15 Servers: 3     Mutation          570             2   \n",
       "599    0  Tasks: 15 Servers: 3     Mutation          488             6   \n",
       "600    0  Tasks: 15 Servers: 3     Mutation          534             6   \n",
       "601    0  Tasks: 15 Servers: 3  No Mutation          582             0   \n",
       "\n",
       "     Mutated Value  Mutate Difference  Iterations  \\\n",
       "0               32                -32         215   \n",
       "1               34                -34         206   \n",
       "2               22                -20         215   \n",
       "3               36                -34         192   \n",
       "4               28                -24         189   \n",
       "..             ...                ...         ...   \n",
       "597             40                -36         227   \n",
       "598             40                -38         232   \n",
       "599             40                -34         209   \n",
       "600             42                -36         230   \n",
       "601              0                  0         237   \n",
       "\n",
       "                                     Difference  \n",
       "0      job 6 - mutated job 6: 3, 11, 7, -14, 32  \n",
       "1       job 0 - mutated job 0: 2, 0, 0, -54, 65  \n",
       "2      job 8 - mutated job 8: 19, 1, 6, -10, 20  \n",
       "3    job 14 - mutated job 14: 13, 1, 6, -44, 53  \n",
       "4    job 12 - mutated job 12: 10, 3, 1, -43, 49  \n",
       "..                                          ...  \n",
       "597    job 5 - mutated job 5: 12, 1, 1, -41, 53  \n",
       "598    job 1 - mutated job 1: 6, 12, 3, -44, 48  \n",
       "599   job 9 - mutated job 9: 12, 19, 2, -78, 84  \n",
       "600   job 14 - mutated job 14: 1, 9, 4, -52, 55  \n",
       "601                                        None  \n",
       "\n",
       "[602 rows x 9 columns]"
      ]
     },
     "execution_count": 6,
     "metadata": {},
     "output_type": "execute_result"
    }
   ],
   "source": [
    "df = pd.DataFrame(data, columns=['Pos', 'Model', 'Mutation', 'Total Money', 'Mutant Value', 'Mutated Value',\n",
    "                                 'Mutate Difference', 'Iterations', 'Difference'])\n",
    "df"
   ]
  },
  {
   "cell_type": "code",
   "execution_count": 7,
   "metadata": {},
   "outputs": [
    {
     "data": {
      "text/html": [
       "<div>\n",
       "<style scoped>\n",
       "    .dataframe tbody tr th:only-of-type {\n",
       "        vertical-align: middle;\n",
       "    }\n",
       "\n",
       "    .dataframe tbody tr th {\n",
       "        vertical-align: top;\n",
       "    }\n",
       "\n",
       "    .dataframe thead th {\n",
       "        text-align: right;\n",
       "    }\n",
       "</style>\n",
       "<table border=\"1\" class=\"dataframe\">\n",
       "  <thead>\n",
       "    <tr style=\"text-align: right;\">\n",
       "      <th></th>\n",
       "      <th>Pos</th>\n",
       "      <th>Model</th>\n",
       "      <th>Mutation</th>\n",
       "      <th>Total Money</th>\n",
       "      <th>Mutant Value</th>\n",
       "      <th>Mutated Value</th>\n",
       "      <th>Mutate Difference</th>\n",
       "      <th>Iterations</th>\n",
       "      <th>Difference</th>\n",
       "    </tr>\n",
       "  </thead>\n",
       "  <tbody>\n",
       "    <tr>\n",
       "      <th>519</th>\n",
       "      <td>10</td>\n",
       "      <td>Tasks: 15 Servers: 3</td>\n",
       "      <td>Mutation</td>\n",
       "      <td>242</td>\n",
       "      <td>6</td>\n",
       "      <td>4</td>\n",
       "      <td>2</td>\n",
       "      <td>106</td>\n",
       "      <td>job 8 - mutated job 8: 4, 6, 0, -58, 64</td>\n",
       "    </tr>\n",
       "  </tbody>\n",
       "</table>\n",
       "</div>"
      ],
      "text/plain": [
       "     Pos                 Model  Mutation  Total Money  Mutant Value  \\\n",
       "519   10  Tasks: 15 Servers: 3  Mutation          242             6   \n",
       "\n",
       "     Mutated Value  Mutate Difference  Iterations  \\\n",
       "519              4                  2         106   \n",
       "\n",
       "                                  Difference  \n",
       "519  job 8 - mutated job 8: 4, 6, 0, -58, 64  "
      ]
     },
     "execution_count": 7,
     "metadata": {},
     "output_type": "execute_result"
    }
   ],
   "source": [
    "df[df['Mutate Difference'] > 0]"
   ]
  },
  {
   "cell_type": "code",
   "execution_count": 8,
   "metadata": {},
   "outputs": [
    {
     "name": "stdout",
     "output_type": "stream",
     "text": [
      "Save file location: ../figures/auction_mutation/png/mutate_auction.png\n"
     ]
    },
    {
     "name": "stderr",
     "output_type": "stream",
     "text": [
      "The PostScript backend does not support transparency; partially transparent artists will be rendered opaque.\n",
      "The PostScript backend does not support transparency; partially transparent artists will be rendered opaque.\n"
     ]
    },
    {
     "name": "stdout",
     "output_type": "stream",
     "text": [
      "Save file location: ../figures/auction_mutation/eps/mutate_auction.eps\n"
     ]
    },
    {
     "name": "stderr",
     "output_type": "stream",
     "text": [
      "The PostScript backend does not support transparency; partially transparent artists will be rendered opaque.\n",
      "The PostScript backend does not support transparency; partially transparent artists will be rendered opaque.\n"
     ]
    },
    {
     "data": {
      "text/plain": [
       "<seaborn.axisgrid.FacetGrid at 0x1aa077831d0>"
      ]
     },
     "execution_count": 8,
     "metadata": {},
     "output_type": "execute_result"
    },
    {
     "data": {
      "image/png": "[encoded data removed]",
      "text/plain": [
       "<Figure size 432x216 with 2 Axes>"
      ]
     },
     "metadata": {
      "needs_background": "light"
     },
     "output_type": "display_data"
    }
   ],
   "source": [
    "g = sns.FacetGrid(df, col='Model', col_wrap=2, hue='Mutation')\n",
    "g = (g.map(sns.scatterplot, 'Pos', y_axis)\n",
    "     .set_titles(\"{col_name}\").set_xlabels(\"\"))\n",
    "plt.legend(loc='center left',bbox_to_anchor=(1,0.5))\n",
    "\n",
    "g.fig.subplots_adjust(top=0.85)\n",
    "g.fig.suptitle(title)\n",
    "\n",
    "save_plot(analysis_filename('mutate', 'auction'), \"auction_mutation\", image_formats=[ImageFormat.PNG, ImageFormat.EPS])\n",
    "\n",
    "g"
   ]
  },
  {
   "cell_type": "code",
   "execution_count": 12,
   "metadata": {},
   "outputs": [
    {
     "name": "stdout",
     "output_type": "stream",
     "text": [
      "Save file location: ../figures/auction_mutation/png/mutate_auction.png\n"
     ]
    },
    {
     "name": "stderr",
     "output_type": "stream",
     "text": [
      "The PostScript backend does not support transparency; partially transparent artists will be rendered opaque.\n",
      "The PostScript backend does not support transparency; partially transparent artists will be rendered opaque.\n"
     ]
    },
    {
     "name": "stdout",
     "output_type": "stream",
     "text": [
      "Save file location: ../figures/auction_mutation/eps/mutate_auction.eps\n"
     ]
    },
    {
     "name": "stderr",
     "output_type": "stream",
     "text": [
      "The PostScript backend does not support transparency; partially transparent artists will be rendered opaque.\n",
      "The PostScript backend does not support transparency; partially transparent artists will be rendered opaque.\n"
     ]
    },
    {
     "data": {
      "text/plain": [
       "<matplotlib.axes._subplots.AxesSubplot at 0x1aa0aa937f0>"
      ]
     },
     "execution_count": 12,
     "metadata": {},
     "output_type": "execute_result"
    },
    {
     "data": {
      "image/png": "[encoded data removed]",
      "text/plain": [
       "<Figure size 432x288 with 1 Axes>"
      ]
     },
     "metadata": {
      "needs_background": "light"
     },
     "output_type": "display_data"
    }
   ],
   "source": [
    "data = []\n",
    "i = 0\n",
    "for index, (pos, model, mutation, total_money, mutant_value, mutated_value, mutate_difference, iterations, difference) in df.iterrows():\n",
    "    if mutation == \"Mutation\":\n",
    "        data.append((i, model, mutant_value, \"Mutant\"))\n",
    "        data.append((i, model, mutated_value, \"Mutated\"))\n",
    "        i += 1\n",
    "        \n",
    "df_2 = pd.DataFrame(data, columns=[\"Pos\", \"Model\", \"Value\", \"Type\"])\n",
    "df_3 = df_2[df_2['Model'] == \"Tasks: 15 Servers: 3\"]\n",
    "\n",
    "g = sns.scatterplot('Pos', 'Value', hue='Type', data=df_3)\n",
    "\n",
    "save_plot(analysis_filename('mutate', 'auction'), \"auction_mutation\", image_formats=[ImageFormat.PNG, ImageFormat.EPS])\n",
    "\n",
    "g   "
   ]
  }
 ],
 "metadata": {
  "kernelspec": {
   "display_name": "Python 3",
   "language": "python",
   "name": "python3"
  },
  "language_info": {
   "codemirror_mode": {
    "name": "ipython",
    "version": 3
   },
   "file_extension": ".py",
   "mimetype": "text/x-python",
   "name": "python",
   "nbconvert_exporter": "python",
   "pygments_lexer": "ipython3",
   "version": "3.7.3"
  }
 },
 "nbformat": 4,
 "nbformat_minor": 2
}

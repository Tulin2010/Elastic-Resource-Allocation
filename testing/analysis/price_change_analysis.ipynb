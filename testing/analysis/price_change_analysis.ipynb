{
 "cells": [
  {
   "cell_type": "code",
   "execution_count": 1,
   "metadata": {},
   "outputs": [],
   "source": [
    "\"\"\"Price Change analysis\"\"\"\n",
    "\n",
    "from __future__ import annotations\n",
    "\n",
    "import json\n",
    "from typing import List\n",
    "\n",
    "import matplotlib\n",
    "import matplotlib.pyplot as plt\n",
    "import pandas as pd\n",
    "import seaborn as sns\n",
    "\n",
    "matplotlib.rcParams['font.family'] = \"monospace\"\n",
    "%matplotlib inline"
   ]
  },
  {
   "cell_type": "code",
   "execution_count": 2,
   "metadata": {},
   "outputs": [],
   "source": [
    "import os\n",
    "import sys\n",
    "module_path = os.path.abspath(os.path.join('../..'))\n",
    "if module_path not in sys.path:\n",
    "    sys.path.append(module_path)"
   ]
  },
  {
   "cell_type": "code",
   "execution_count": 3,
   "metadata": {},
   "outputs": [],
   "source": [
    "from core.core import decode_filename, save_plot, analysis_filename, ImageFormat"
   ]
  },
  {
   "cell_type": "code",
   "execution_count": 4,
   "metadata": {},
   "outputs": [],
   "source": [
    "uniform = [\n",
    "    \"uniform_price_change_auction_results_basic_j15_s2_0\",\n",
    "    \"uniform_price_change_auction_results_basic_j15_s3_0\",\n",
    "    \"uniform_price_change_auction_results_basic_j25_s5_0\"\n",
    "]\n",
    "\n",
    "paper = [\n",
    "    \"uniform_price_change_auction_results_fog_j15_s3_0\"\n",
    "]\n",
    "folder = \"paper\""
   ]
  },
  {
   "cell_type": "code",
   "execution_count": 5,
   "metadata": {},
   "outputs": [],
   "source": [
    "data = []\n",
    "test_name: str = \"\"\n",
    "model_names: List[str] = []\n",
    "\n",
    "for encoded_filename in paper:\n",
    "    filename, model_name, test_name = decode_filename(folder, encoded_filename)\n",
    "    model_names.append(model_name)\n",
    "\n",
    "    with open(filename) as file:\n",
    "        json_data = json.load(file)\n",
    "\n",
    "        for pos, results in enumerate(json_data):\n",
    "            price_change_1 = results['price change 1']\n",
    "            for name, result in results.items():\n",
    "                if type(result) is dict:\n",
    "                    data.append((pos, model_name, name, result['sum value'], result['total money'], \n",
    "                                 result['solve_time'], result['sum value'] / price_change_1['sum value'],\n",
    "                                 result['total money'] / price_change_1['total money']))"
   ]
  },
  {
   "cell_type": "code",
   "execution_count": 6,
   "metadata": {},
   "outputs": [
    {
     "data": {
      "text/html": [
       "<div>\n",
       "<style scoped>\n",
       "    .dataframe tbody tr th:only-of-type {\n",
       "        vertical-align: middle;\n",
       "    }\n",
       "\n",
       "    .dataframe tbody tr th {\n",
       "        vertical-align: top;\n",
       "    }\n",
       "\n",
       "    .dataframe thead th {\n",
       "        text-align: right;\n",
       "    }\n",
       "</style>\n",
       "<table border=\"1\" class=\"dataframe\">\n",
       "  <thead>\n",
       "    <tr style=\"text-align: right;\">\n",
       "      <th></th>\n",
       "      <th>Pos</th>\n",
       "      <th>Model Name</th>\n",
       "      <th>Algorithm Name</th>\n",
       "      <th>Sum Value</th>\n",
       "      <th>Total Money</th>\n",
       "      <th>Solve Time</th>\n",
       "      <th>Best Sum Value</th>\n",
       "      <th>Best Total Money</th>\n",
       "    </tr>\n",
       "  </thead>\n",
       "  <tbody>\n",
       "    <tr>\n",
       "      <th>0</th>\n",
       "      <td>0</td>\n",
       "      <td>Jobs: 15 Servers: 3</td>\n",
       "      <td>vcg</td>\n",
       "      <td>582</td>\n",
       "      <td>222</td>\n",
       "      <td>165.398</td>\n",
       "      <td>1.000000</td>\n",
       "      <td>0.453061</td>\n",
       "    </tr>\n",
       "    <tr>\n",
       "      <th>1</th>\n",
       "      <td>0</td>\n",
       "      <td>Jobs: 15 Servers: 3</td>\n",
       "      <td>fixed vcg</td>\n",
       "      <td>561</td>\n",
       "      <td>186</td>\n",
       "      <td>165.186</td>\n",
       "      <td>0.963918</td>\n",
       "      <td>0.379592</td>\n",
       "    </tr>\n",
       "    <tr>\n",
       "      <th>2</th>\n",
       "      <td>0</td>\n",
       "      <td>Jobs: 15 Servers: 3</td>\n",
       "      <td>price change 1</td>\n",
       "      <td>582</td>\n",
       "      <td>490</td>\n",
       "      <td>682.931</td>\n",
       "      <td>1.000000</td>\n",
       "      <td>1.000000</td>\n",
       "    </tr>\n",
       "    <tr>\n",
       "      <th>3</th>\n",
       "      <td>0</td>\n",
       "      <td>Jobs: 15 Servers: 3</td>\n",
       "      <td>price change 2</td>\n",
       "      <td>582</td>\n",
       "      <td>484</td>\n",
       "      <td>316.100</td>\n",
       "      <td>1.000000</td>\n",
       "      <td>0.987755</td>\n",
       "    </tr>\n",
       "    <tr>\n",
       "      <th>4</th>\n",
       "      <td>0</td>\n",
       "      <td>Jobs: 15 Servers: 3</td>\n",
       "      <td>price change 3</td>\n",
       "      <td>582</td>\n",
       "      <td>489</td>\n",
       "      <td>239.135</td>\n",
       "      <td>1.000000</td>\n",
       "      <td>0.997959</td>\n",
       "    </tr>\n",
       "    <tr>\n",
       "      <th>...</th>\n",
       "      <td>...</td>\n",
       "      <td>...</td>\n",
       "      <td>...</td>\n",
       "      <td>...</td>\n",
       "      <td>...</td>\n",
       "      <td>...</td>\n",
       "      <td>...</td>\n",
       "      <td>...</td>\n",
       "    </tr>\n",
       "    <tr>\n",
       "      <th>395</th>\n",
       "      <td>49</td>\n",
       "      <td>Jobs: 15 Servers: 3</td>\n",
       "      <td>price change 2</td>\n",
       "      <td>526</td>\n",
       "      <td>383</td>\n",
       "      <td>74.701</td>\n",
       "      <td>0.947748</td>\n",
       "      <td>1.146707</td>\n",
       "    </tr>\n",
       "    <tr>\n",
       "      <th>396</th>\n",
       "      <td>49</td>\n",
       "      <td>Jobs: 15 Servers: 3</td>\n",
       "      <td>price change 3</td>\n",
       "      <td>555</td>\n",
       "      <td>342</td>\n",
       "      <td>61.724</td>\n",
       "      <td>1.000000</td>\n",
       "      <td>1.023952</td>\n",
       "    </tr>\n",
       "    <tr>\n",
       "      <th>397</th>\n",
       "      <td>49</td>\n",
       "      <td>Jobs: 15 Servers: 3</td>\n",
       "      <td>price change 5</td>\n",
       "      <td>526</td>\n",
       "      <td>360</td>\n",
       "      <td>21.172</td>\n",
       "      <td>0.947748</td>\n",
       "      <td>1.077844</td>\n",
       "    </tr>\n",
       "    <tr>\n",
       "      <th>398</th>\n",
       "      <td>49</td>\n",
       "      <td>Jobs: 15 Servers: 3</td>\n",
       "      <td>price change 7</td>\n",
       "      <td>495</td>\n",
       "      <td>420</td>\n",
       "      <td>18.375</td>\n",
       "      <td>0.891892</td>\n",
       "      <td>1.257485</td>\n",
       "    </tr>\n",
       "    <tr>\n",
       "      <th>399</th>\n",
       "      <td>49</td>\n",
       "      <td>Jobs: 15 Servers: 3</td>\n",
       "      <td>price change 10</td>\n",
       "      <td>555</td>\n",
       "      <td>285</td>\n",
       "      <td>28.352</td>\n",
       "      <td>1.000000</td>\n",
       "      <td>0.853293</td>\n",
       "    </tr>\n",
       "  </tbody>\n",
       "</table>\n",
       "<p>400 rows × 8 columns</p>\n",
       "</div>"
      ],
      "text/plain": [
       "     Pos           Model Name   Algorithm Name  Sum Value  Total Money  \\\n",
       "0      0  Jobs: 15 Servers: 3              vcg        582          222   \n",
       "1      0  Jobs: 15 Servers: 3        fixed vcg        561          186   \n",
       "2      0  Jobs: 15 Servers: 3   price change 1        582          490   \n",
       "3      0  Jobs: 15 Servers: 3   price change 2        582          484   \n",
       "4      0  Jobs: 15 Servers: 3   price change 3        582          489   \n",
       "..   ...                  ...              ...        ...          ...   \n",
       "395   49  Jobs: 15 Servers: 3   price change 2        526          383   \n",
       "396   49  Jobs: 15 Servers: 3   price change 3        555          342   \n",
       "397   49  Jobs: 15 Servers: 3   price change 5        526          360   \n",
       "398   49  Jobs: 15 Servers: 3   price change 7        495          420   \n",
       "399   49  Jobs: 15 Servers: 3  price change 10        555          285   \n",
       "\n",
       "     Solve Time  Best Sum Value  Best Total Money  \n",
       "0       165.398        1.000000          0.453061  \n",
       "1       165.186        0.963918          0.379592  \n",
       "2       682.931        1.000000          1.000000  \n",
       "3       316.100        1.000000          0.987755  \n",
       "4       239.135        1.000000          0.997959  \n",
       "..          ...             ...               ...  \n",
       "395      74.701        0.947748          1.146707  \n",
       "396      61.724        1.000000          1.023952  \n",
       "397      21.172        0.947748          1.077844  \n",
       "398      18.375        0.891892          1.257485  \n",
       "399      28.352        1.000000          0.853293  \n",
       "\n",
       "[400 rows x 8 columns]"
      ]
     },
     "execution_count": 6,
     "metadata": {},
     "output_type": "execute_result"
    }
   ],
   "source": [
    "df = pd.DataFrame(data, columns=['Pos', 'Model Name', 'Algorithm Name', 'Sum Value', 'Total Money', 'Solve Time',\n",
    "                                 'Best Sum Value', 'Best Total Money'])\n",
    "df"
   ]
  },
  {
   "cell_type": "code",
   "execution_count": 7,
   "metadata": {},
   "outputs": [
    {
     "data": {
      "text/plain": [
       "Text(0.5, 0.98, 'To do')"
      ]
     },
     "execution_count": 7,
     "metadata": {},
     "output_type": "execute_result"
    },
    {
     "data": {
      "image/png": "[encoded data removed]",
      "text/plain": [
       "<Figure size 216x216 with 1 Axes>"
      ]
     },
     "metadata": {
      "needs_background": "light"
     },
     "output_type": "display_data"
    }
   ],
   "source": [
    "g: sns.FacetGrid = sns.FacetGrid(df, col='Model Name', hue='Algorithm Name')\n",
    "(g.map(sns.scatterplot, 'Pos', 'Best Sum Value').set_titles(\"{col_name}\"))\n",
    "\n",
    "g.fig.subplots_adjust(top=0.88)\n",
    "g.fig.suptitle(\"To do\")"
   ]
  },
  {
   "cell_type": "code",
   "execution_count": 14,
   "metadata": {},
   "outputs": [
    {
     "name": "stdout",
     "output_type": "stream",
     "text": [
      "Save file location: ../figures/price_change/png/simple_sum_value.png\n",
      "Save file location: ../figures/price_change/eps/simple_sum_value.eps\n"
     ]
    },
    {
     "name": "stderr",
     "output_type": "stream",
     "text": [
      "The PostScript backend does not support transparency; partially transparent artists will be rendered opaque.\n",
      "The PostScript backend does not support transparency; partially transparent artists will be rendered opaque.\n",
      "The PostScript backend does not support transparency; partially transparent artists will be rendered opaque.\n",
      "The PostScript backend does not support transparency; partially transparent artists will be rendered opaque.\n"
     ]
    },
    {
     "data": {
      "image/png": "[encoded data removed]",
      "text/plain": [
       "<Figure size 432x288 with 1 Axes>"
      ]
     },
     "metadata": {
      "needs_background": "light"
     },
     "output_type": "display_data"
    }
   ],
   "source": [
    "g = sns.barplot(y='Model Name', x='Best Sum Value', hue='Algorithm Name', ci=95, data=df)\n",
    "g.set_xlim(0.9, 1.1)\n",
    "\n",
    "save_plot(analysis_filename('simple', 'sum_value'), \"price_change\", image_formats=[ImageFormat.PNG, ImageFormat.EPS])\n"
   ]
  }
 ],
 "metadata": {
  "kernelspec": {
   "display_name": "Python 3",
   "language": "python",
   "name": "python3"
  },
  "language_info": {
   "codemirror_mode": {
    "name": "ipython",
    "version": 3
   },
   "file_extension": ".py",
   "mimetype": "text/x-python",
   "name": "python",
   "nbconvert_exporter": "python",
   "pygments_lexer": "ipython3",
   "version": "3.7.3"
  }
 },
 "nbformat": 4,
 "nbformat_minor": 2
}

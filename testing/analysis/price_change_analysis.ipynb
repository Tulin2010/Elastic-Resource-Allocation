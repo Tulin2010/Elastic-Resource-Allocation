{
 "cells": [
  {
   "cell_type": "code",
   "execution_count": 1,
   "metadata": {},
   "outputs": [],
   "source": [
    "\"\"\"Price Change analysis\"\"\"\n",
    "\n",
    "from __future__ import annotations\n",
    "\n",
    "import json\n",
    "from typing import List\n",
    "\n",
    "import matplotlib\n",
    "import matplotlib.pyplot as plt\n",
    "import pandas as pd\n",
    "import seaborn as sns\n",
    "\n",
    "matplotlib.rcParams['font.family'] = \"monospace\"\n",
    "%matplotlib inline"
   ]
  },
  {
   "cell_type": "code",
   "execution_count": 2,
   "metadata": {},
   "outputs": [],
   "source": [
    "import os\n",
    "import sys\n",
    "module_path = os.path.abspath(os.path.join('../..'))\n",
    "if module_path not in sys.path:\n",
    "    sys.path.append(module_path)"
   ]
  },
  {
   "cell_type": "code",
   "execution_count": 3,
   "metadata": {},
   "outputs": [],
   "source": [
    "from core.core import decode_filename, save_plot, analysis_filename, ImageFormat"
   ]
  },
  {
   "cell_type": "code",
   "execution_count": 4,
   "metadata": {},
   "outputs": [],
   "source": [
    "uniform = [\n",
    "    \"uniform_price_change_auction_results_basic_j15_s2_0\",\n",
    "    \"uniform_price_change_auction_results_basic_j15_s3_0\",\n",
    "    \"uniform_price_change_auction_results_basic_j25_s5_0\"\n",
    "]"
   ]
  },
  {
   "cell_type": "code",
   "execution_count": 5,
   "metadata": {},
   "outputs": [],
   "source": [
    "data = []\n",
    "test_name: str = \"\"\n",
    "model_names: List[str] = []\n",
    "\n",
    "for encoded_filename in uniform:\n",
    "    filename, model_name, test_name = decode_filename('price_change', encoded_filename)\n",
    "    model_names.append(model_name)\n",
    "\n",
    "    with open(filename) as file:\n",
    "        json_data = json.load(file)\n",
    "\n",
    "        for pos, results in enumerate(json_data):\n",
    "            price_change_1 = results['price change 1']\n",
    "            for name, result in results.items():\n",
    "                if type(result) is dict:\n",
    "                    data.append((pos, model_name, name, result['sum value'], result['total money'], \n",
    "                                 result['solve_time'], result['sum value'] / price_change_1['sum value'],\n",
    "                                 result['total money'] / price_change_1['total money']))"
   ]
  },
  {
   "cell_type": "code",
   "execution_count": 6,
   "metadata": {},
   "outputs": [
    {
     "data": {
      "text/html": [
       "<div>\n",
       "<style scoped>\n",
       "    .dataframe tbody tr th:only-of-type {\n",
       "        vertical-align: middle;\n",
       "    }\n",
       "\n",
       "    .dataframe tbody tr th {\n",
       "        vertical-align: top;\n",
       "    }\n",
       "\n",
       "    .dataframe thead th {\n",
       "        text-align: right;\n",
       "    }\n",
       "</style>\n",
       "<table border=\"1\" class=\"dataframe\">\n",
       "  <thead>\n",
       "    <tr style=\"text-align: right;\">\n",
       "      <th></th>\n",
       "      <th>Pos</th>\n",
       "      <th>Model Name</th>\n",
       "      <th>Algorithm Name</th>\n",
       "      <th>Sum Value</th>\n",
       "      <th>Total Money</th>\n",
       "      <th>Solve Time</th>\n",
       "      <th>Best Sum Value</th>\n",
       "      <th>Best Total Money</th>\n",
       "    </tr>\n",
       "  </thead>\n",
       "  <tbody>\n",
       "    <tr>\n",
       "      <td>0</td>\n",
       "      <td>0</td>\n",
       "      <td>Jobs: 15 Servers: 2</td>\n",
       "      <td>vcg</td>\n",
       "      <td>538</td>\n",
       "      <td>283</td>\n",
       "      <td>42.162</td>\n",
       "      <td>1.078156</td>\n",
       "      <td>0.691932</td>\n",
       "    </tr>\n",
       "    <tr>\n",
       "      <td>1</td>\n",
       "      <td>0</td>\n",
       "      <td>Jobs: 15 Servers: 2</td>\n",
       "      <td>fixed vcg</td>\n",
       "      <td>538</td>\n",
       "      <td>283</td>\n",
       "      <td>22.583</td>\n",
       "      <td>1.078156</td>\n",
       "      <td>0.691932</td>\n",
       "    </tr>\n",
       "    <tr>\n",
       "      <td>2</td>\n",
       "      <td>0</td>\n",
       "      <td>Jobs: 15 Servers: 2</td>\n",
       "      <td>price change 1</td>\n",
       "      <td>499</td>\n",
       "      <td>409</td>\n",
       "      <td>37.417</td>\n",
       "      <td>1.000000</td>\n",
       "      <td>1.000000</td>\n",
       "    </tr>\n",
       "    <tr>\n",
       "      <td>3</td>\n",
       "      <td>0</td>\n",
       "      <td>Jobs: 15 Servers: 2</td>\n",
       "      <td>price change 2</td>\n",
       "      <td>499</td>\n",
       "      <td>420</td>\n",
       "      <td>19.755</td>\n",
       "      <td>1.000000</td>\n",
       "      <td>1.026895</td>\n",
       "    </tr>\n",
       "    <tr>\n",
       "      <td>4</td>\n",
       "      <td>0</td>\n",
       "      <td>Jobs: 15 Servers: 2</td>\n",
       "      <td>price change 3</td>\n",
       "      <td>538</td>\n",
       "      <td>255</td>\n",
       "      <td>8.207</td>\n",
       "      <td>1.078156</td>\n",
       "      <td>0.623472</td>\n",
       "    </tr>\n",
       "    <tr>\n",
       "      <td>...</td>\n",
       "      <td>...</td>\n",
       "      <td>...</td>\n",
       "      <td>...</td>\n",
       "      <td>...</td>\n",
       "      <td>...</td>\n",
       "      <td>...</td>\n",
       "      <td>...</td>\n",
       "      <td>...</td>\n",
       "    </tr>\n",
       "    <tr>\n",
       "      <td>1181</td>\n",
       "      <td>49</td>\n",
       "      <td>Jobs: 25 Servers: 5</td>\n",
       "      <td>price change 2</td>\n",
       "      <td>1197</td>\n",
       "      <td>610</td>\n",
       "      <td>74.314</td>\n",
       "      <td>0.998332</td>\n",
       "      <td>0.889213</td>\n",
       "    </tr>\n",
       "    <tr>\n",
       "      <td>1182</td>\n",
       "      <td>49</td>\n",
       "      <td>Jobs: 25 Servers: 5</td>\n",
       "      <td>price change 3</td>\n",
       "      <td>1199</td>\n",
       "      <td>693</td>\n",
       "      <td>54.620</td>\n",
       "      <td>1.000000</td>\n",
       "      <td>1.010204</td>\n",
       "    </tr>\n",
       "    <tr>\n",
       "      <td>1183</td>\n",
       "      <td>49</td>\n",
       "      <td>Jobs: 25 Servers: 5</td>\n",
       "      <td>price change 5</td>\n",
       "      <td>1197</td>\n",
       "      <td>620</td>\n",
       "      <td>29.702</td>\n",
       "      <td>0.998332</td>\n",
       "      <td>0.903790</td>\n",
       "    </tr>\n",
       "    <tr>\n",
       "      <td>1184</td>\n",
       "      <td>49</td>\n",
       "      <td>Jobs: 25 Servers: 5</td>\n",
       "      <td>price change 7</td>\n",
       "      <td>1197</td>\n",
       "      <td>637</td>\n",
       "      <td>21.002</td>\n",
       "      <td>0.998332</td>\n",
       "      <td>0.928571</td>\n",
       "    </tr>\n",
       "    <tr>\n",
       "      <td>1185</td>\n",
       "      <td>49</td>\n",
       "      <td>Jobs: 25 Servers: 5</td>\n",
       "      <td>price change 10</td>\n",
       "      <td>1192</td>\n",
       "      <td>650</td>\n",
       "      <td>14.304</td>\n",
       "      <td>0.994162</td>\n",
       "      <td>0.947522</td>\n",
       "    </tr>\n",
       "  </tbody>\n",
       "</table>\n",
       "<p>1186 rows × 8 columns</p>\n",
       "</div>"
      ],
      "text/plain": [
       "      Pos           Model Name   Algorithm Name  Sum Value  Total Money  \\\n",
       "0       0  Jobs: 15 Servers: 2              vcg        538          283   \n",
       "1       0  Jobs: 15 Servers: 2        fixed vcg        538          283   \n",
       "2       0  Jobs: 15 Servers: 2   price change 1        499          409   \n",
       "3       0  Jobs: 15 Servers: 2   price change 2        499          420   \n",
       "4       0  Jobs: 15 Servers: 2   price change 3        538          255   \n",
       "...   ...                  ...              ...        ...          ...   \n",
       "1181   49  Jobs: 25 Servers: 5   price change 2       1197          610   \n",
       "1182   49  Jobs: 25 Servers: 5   price change 3       1199          693   \n",
       "1183   49  Jobs: 25 Servers: 5   price change 5       1197          620   \n",
       "1184   49  Jobs: 25 Servers: 5   price change 7       1197          637   \n",
       "1185   49  Jobs: 25 Servers: 5  price change 10       1192          650   \n",
       "\n",
       "      Solve Time  Best Sum Value  Best Total Money  \n",
       "0         42.162        1.078156          0.691932  \n",
       "1         22.583        1.078156          0.691932  \n",
       "2         37.417        1.000000          1.000000  \n",
       "3         19.755        1.000000          1.026895  \n",
       "4          8.207        1.078156          0.623472  \n",
       "...          ...             ...               ...  \n",
       "1181      74.314        0.998332          0.889213  \n",
       "1182      54.620        1.000000          1.010204  \n",
       "1183      29.702        0.998332          0.903790  \n",
       "1184      21.002        0.998332          0.928571  \n",
       "1185      14.304        0.994162          0.947522  \n",
       "\n",
       "[1186 rows x 8 columns]"
      ]
     },
     "execution_count": 6,
     "metadata": {},
     "output_type": "execute_result"
    }
   ],
   "source": [
    "df = pd.DataFrame(data, columns=['Pos', 'Model Name', 'Algorithm Name', 'Sum Value', 'Total Money', 'Solve Time',\n",
    "                                 'Best Sum Value', 'Best Total Money'])\n",
    "df"
   ]
  },
  {
   "cell_type": "code",
   "execution_count": 7,
   "metadata": {},
   "outputs": [
    {
     "data": {
      "text/plain": [
       "Text(0.5, 0.98, 'To do')"
      ]
     },
     "execution_count": 7,
     "metadata": {},
     "output_type": "execute_result"
    },
    {
     "data": {
      "image/png": "[encoded data removed]",
      "text/plain": [
       "<Figure size 648x216 with 3 Axes>"
      ]
     },
     "metadata": {
      "needs_background": "light"
     },
     "output_type": "display_data"
    }
   ],
   "source": [
    "g: sns.FacetGrid = sns.FacetGrid(df, col='Model Name', hue='Algorithm Name')\n",
    "(g.map(sns.scatterplot, 'Pos', 'Best Sum Value').set_titles(\"{col_name}\"))\n",
    "\n",
    "g.fig.subplots_adjust(top=0.88)\n",
    "g.fig.suptitle(\"To do\")"
   ]
  },
  {
   "cell_type": "code",
   "execution_count": 8,
   "metadata": {},
   "outputs": [
    {
     "name": "stderr",
     "output_type": "stream",
     "text": [
      "The PostScript backend does not support transparency; partially transparent artists will be rendered opaque.\n",
      "The PostScript backend does not support transparency; partially transparent artists will be rendered opaque.\n"
     ]
    },
    {
     "name": "stdout",
     "output_type": "stream",
     "text": [
      "Save file location: ../figures/price_change/eps/simple_sum_value.eps\n"
     ]
    },
    {
     "name": "stderr",
     "output_type": "stream",
     "text": [
      "The PostScript backend does not support transparency; partially transparent artists will be rendered opaque.\n",
      "The PostScript backend does not support transparency; partially transparent artists will be rendered opaque.\n"
     ]
    },
    {
     "name": "stdout",
     "output_type": "stream",
     "text": [
      "Save file location: ../figures/price_change/png/simple_sum_value.png\n"
     ]
    },
    {
     "data": {
      "image/png": "[encoded data removed]",
      "text/plain": [
       "<Figure size 432x288 with 1 Axes>"
      ]
     },
     "metadata": {
      "needs_background": "light"
     },
     "output_type": "display_data"
    }
   ],
   "source": [
    "g = sns.barplot(y='Model Name', x='Best Sum Value', hue='Algorithm Name', ci=95, data=df)\n",
    "g.set_xlim(0.95, 1.1)\n",
    "\n",
    "save_plot(analysis_filename('simple', 'sum_value'), \"price_change\", image_format=ImageFormat.BOTH)\n"
   ]
  }
 ],
 "metadata": {
  "kernelspec": {
   "display_name": "Python 3",
   "language": "python",
   "name": "python3"
  },
  "language_info": {
   "codemirror_mode": {
    "name": "ipython",
    "version": 3
   },
   "file_extension": ".py",
   "mimetype": "text/x-python",
   "name": "python",
   "nbconvert_exporter": "python",
   "pygments_lexer": "ipython3",
   "version": "3.7.3"
  }
 },
 "nbformat": 4,
 "nbformat_minor": 2
}

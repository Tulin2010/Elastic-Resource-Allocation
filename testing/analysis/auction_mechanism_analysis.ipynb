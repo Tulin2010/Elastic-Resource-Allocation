{
 "cells": [
  {
   "cell_type": "code",
   "execution_count": 1,
   "metadata": {},
   "outputs": [],
   "source": [
    "\"\"\"Auction mechanism analysis\"\"\"\n",
    "\n",
    "from __future__ import annotations\n",
    "\n",
    "import json\n",
    "from typing import List\n",
    "\n",
    "import matplotlib\n",
    "import matplotlib.pyplot as plt\n",
    "import numpy as np\n",
    "import pandas as pd\n",
    "import seaborn as sns\n",
    "\n",
    "matplotlib.rcParams['font.family'] = \"monospace\"\n",
    "%matplotlib inline"
   ]
  },
  {
   "cell_type": "code",
   "execution_count": 2,
   "metadata": {},
   "outputs": [],
   "source": [
    "import os\n",
    "import sys\n",
    "module_path = os.path.abspath(os.path.join('../..'))\n",
    "if module_path not in sys.path:\n",
    "    sys.path.append(module_path)"
   ]
  },
  {
   "cell_type": "code",
   "execution_count": 3,
   "metadata": {},
   "outputs": [],
   "source": [
    "from core.core import decode_filename, save_plot, analysis_filename, ImageFormat"
   ]
  },
  {
   "cell_type": "code",
   "execution_count": 33,
   "metadata": {},
   "outputs": [],
   "source": [
    "paper = [\n",
    "    \"paper_fog_v2_j4_s1_0\",\n",
    "    \"paper_fog_v2_j8_s2_1\",\n",
    "    \"paper_fog_v2_j12_s3_0\",\n",
    "    \"paper_fog_v2_j12_s3_1\",\n",
    "    \"paper_fog_v2_j4_s1_1\",\n",
    "    \"paper_fog_v2_j8_s2_2\",\n",
    "    \"paper_fog_v2_j12_s3_2\",\n",
    "    \"paper_fog_v2_j16_s4_0\",\n",
    "    \"greedy_fog_v2_j4_s1_0\",\n",
    "    \"greedy_fog_v2_j8_s2_0\",\n",
    "    \"greedy_fog_v2_j12_s3_0\"\n",
    "]\n",
    "\n",
    "encoded_filenames = paper\n",
    "folder = 'paper'"
   ]
  },
  {
   "cell_type": "code",
   "execution_count": 34,
   "metadata": {},
   "outputs": [],
   "source": [
    "data = []\n",
    "model_names: List[str] = []\n",
    "test_name: str = ''\n",
    "\n",
    "for encoded_filename in encoded_filenames:\n",
    "    filename, model_name, test_name = decode_filename(folder, encoded_filename)\n",
    "    model_names.append(model_name)\n",
    "    \n",
    "    with open(filename) as file:\n",
    "        json_data = json.load(file)\n",
    "        \n",
    "        for pos, results in enumerate(json_data):\n",
    "            # Find the best results of sum value or percentage jobs from all of the algorithms\n",
    "            best_sum_value = results['optimal']['sum value'] if 'optimal' in results else max(r['sum value'] for r in results.values())\n",
    "            best_percentage_jobs = results['optimal']['percentage jobs'] if 'optimal' in results else max(r['percentage jobs'] for r in results.values())\n",
    "            if best_percentage_jobs == 0:\n",
    "                continue\n",
    "                \n",
    "            for algo_name, algo_results in results.items():\n",
    "                if type(algo_results) is dict:  # Otherwise optimal or relaxed == 'failure'\n",
    "                    data.append((pos, model_name, algo_name, algo_results['sum value'],\n",
    "                                 algo_results['percentage jobs'], algo_results['solve_time'],\n",
    "                                 algo_results['sum value'] / best_sum_value,\n",
    "                                 algo_results['percentage jobs'] / best_percentage_jobs))\n",
    "                    \n",
    "\n",
    "df = pd.DataFrame(data, columns=['Pos', 'Model Name', 'Algorithm Name', 'Social Welfare', 'Percentage Jobs',\n",
    "                                 'Solve Time', 'Optimal Social Welfare', 'Best Percentage Jobs'])"
   ]
  },
  {
   "cell_type": "code",
   "execution_count": 35,
   "metadata": {},
   "outputs": [
    {
     "data": {
      "text/plain": [
       "array(['optimal', 'relaxed', 'fixed', 'dia 1', 'dia 2', 'dia 3', 'dia 5',\n",
       "       'dia 10', 'Greedy Utility / Sum, minimise Sum, Percentage Sum',\n",
       "       'Greedy Utility / Sum, minimise Sum, Sum of speeds',\n",
       "       'Greedy Utility / Sum, maximise Sum, Percentage Sum',\n",
       "       'Greedy Utility / Sum, maximise Sum, Sum of speeds',\n",
       "       'Greedy Utility / Sum, minimise Job Sum of Percentage Sum, Percentage Sum',\n",
       "       'Greedy Utility / Sum, minimise Job Sum of Percentage Sum, Sum of speeds',\n",
       "       'Greedy Utility / Sum, maximise Job Sum of Percentage Sum, Percentage Sum',\n",
       "       'Greedy Utility / Sum, maximise Job Sum of Percentage Sum, Sum of speeds',\n",
       "       'Greedy Utility / Sum, minimise Job Sum of Sum of speeds, Percentage Sum',\n",
       "       'Greedy Utility / Sum, minimise Job Sum of Sum of speeds, Sum of speeds',\n",
       "       'Greedy Utility / Sum, maximise Job Sum of Sum of speeds, Percentage Sum',\n",
       "       'Greedy Utility / Sum, maximise Job Sum of Sum of speeds, Sum of speeds',\n",
       "       'Greedy Utility * Sum / deadline, minimise Sum, Percentage Sum',\n",
       "       'Greedy Utility * Sum / deadline, minimise Sum, Sum of speeds',\n",
       "       'Greedy Utility * Sum / deadline, maximise Sum, Percentage Sum',\n",
       "       'Greedy Utility * Sum / deadline, maximise Sum, Sum of speeds',\n",
       "       'Greedy Utility * Sum / deadline, minimise Job Sum of Percentage Sum, Percentage Sum',\n",
       "       'Greedy Utility * Sum / deadline, minimise Job Sum of Percentage Sum, Sum of speeds',\n",
       "       'Greedy Utility * Sum / deadline, maximise Job Sum of Percentage Sum, Percentage Sum',\n",
       "       'Greedy Utility * Sum / deadline, maximise Job Sum of Percentage Sum, Sum of speeds',\n",
       "       'Greedy Utility * Sum / deadline, minimise Job Sum of Sum of speeds, Percentage Sum',\n",
       "       'Greedy Utility * Sum / deadline, minimise Job Sum of Sum of speeds, Sum of speeds',\n",
       "       'Greedy Utility * Sum / deadline, maximise Job Sum of Sum of speeds, Percentage Sum',\n",
       "       'Greedy Utility * Sum / deadline, maximise Job Sum of Sum of speeds, Sum of speeds',\n",
       "       'Greedy Utility * deadline / Sum, minimise Sum, Percentage Sum',\n",
       "       'Greedy Utility * deadline / Sum, minimise Sum, Sum of speeds',\n",
       "       'Greedy Utility * deadline / Sum, maximise Sum, Percentage Sum',\n",
       "       'Greedy Utility * deadline / Sum, maximise Sum, Sum of speeds',\n",
       "       'Greedy Utility * deadline / Sum, minimise Job Sum of Percentage Sum, Percentage Sum',\n",
       "       'Greedy Utility * deadline / Sum, minimise Job Sum of Percentage Sum, Sum of speeds',\n",
       "       'Greedy Utility * deadline / Sum, maximise Job Sum of Percentage Sum, Percentage Sum',\n",
       "       'Greedy Utility * deadline / Sum, maximise Job Sum of Percentage Sum, Sum of speeds',\n",
       "       'Greedy Utility * deadline / Sum, minimise Job Sum of Sum of speeds, Percentage Sum',\n",
       "       'Greedy Utility * deadline / Sum, minimise Job Sum of Sum of speeds, Sum of speeds',\n",
       "       'Greedy Utility * deadline / Sum, maximise Job Sum of Sum of speeds, Percentage Sum',\n",
       "       'Greedy Utility * deadline / Sum, maximise Job Sum of Sum of speeds, Sum of speeds',\n",
       "       'Greedy Value, minimise Sum, Percentage Sum',\n",
       "       'Greedy Value, minimise Sum, Sum of speeds',\n",
       "       'Greedy Value, maximise Sum, Percentage Sum',\n",
       "       'Greedy Value, maximise Sum, Sum of speeds',\n",
       "       'Greedy Value, minimise Job Sum of Percentage Sum, Percentage Sum',\n",
       "       'Greedy Value, minimise Job Sum of Percentage Sum, Sum of speeds',\n",
       "       'Greedy Value, maximise Job Sum of Percentage Sum, Percentage Sum',\n",
       "       'Greedy Value, maximise Job Sum of Percentage Sum, Sum of speeds',\n",
       "       'Greedy Value, minimise Job Sum of Sum of speeds, Percentage Sum',\n",
       "       'Greedy Value, minimise Job Sum of Sum of speeds, Sum of speeds',\n",
       "       'Greedy Value, maximise Job Sum of Sum of speeds, Percentage Sum',\n",
       "       'Greedy Value, maximise Job Sum of Sum of speeds, Sum of speeds'],\n",
       "      dtype=object)"
      ]
     },
     "execution_count": 35,
     "metadata": {},
     "output_type": "execute_result"
    }
   ],
   "source": [
    "df['Algorithm Name'].unique()"
   ]
  },
  {
   "cell_type": "code",
   "execution_count": 14,
   "metadata": {},
   "outputs": [
    {
     "name": "stdout",
     "output_type": "stream",
     "text": [
      "Save file location: ../figures/price_change/png/all_shortened.png\n"
     ]
    },
    {
     "name": "stderr",
     "output_type": "stream",
     "text": [
      "The PostScript backend does not support transparency; partially transparent artists will be rendered opaque.\n",
      "The PostScript backend does not support transparency; partially transparent artists will be rendered opaque.\n"
     ]
    },
    {
     "name": "stdout",
     "output_type": "stream",
     "text": [
      "Save file location: ../figures/price_change/eps/all_shortened.eps\n"
     ]
    },
    {
     "name": "stderr",
     "output_type": "stream",
     "text": [
      "The PostScript backend does not support transparency; partially transparent artists will be rendered opaque.\n",
      "The PostScript backend does not support transparency; partially transparent artists will be rendered opaque.\n"
     ]
    },
    {
     "data": {
      "image/png": "[encoded data removed]",
      "text/plain": [
       "<Figure size 432x288 with 1 Axes>"
      ]
     },
     "metadata": {
      "needs_background": "light"
     },
     "output_type": "display_data"
    }
   ],
   "source": [
    "g = sns.boxplot(y='Model Name', x='Optimal Social Welfare', hue='Algorithm Name', data=df)\n",
    "g.set_xlim(0.5, 1.1)\n",
    "save_plot(analysis_filename('all', 'shortened'), \"price_change\", image_formats=[ImageFormat.PNG, ImageFormat.EPS])"
   ]
  },
  {
   "cell_type": "code",
   "execution_count": 36,
   "metadata": {},
   "outputs": [
    {
     "name": "stdout",
     "output_type": "stream",
     "text": [
      "Save file location: ../figures/price_change/png/all_shortened.png\n",
      "Save file location: ../figures/price_change/eps/all_shortened.eps\n"
     ]
    },
    {
     "data": {
      "image/png": "[encoded data removed]",
      "text/plain": [
       "<Figure size 432x288 with 1 Axes>"
      ]
     },
     "metadata": {
      "needs_background": "light"
     },
     "output_type": "display_data"
    }
   ],
   "source": [
    "df_2 = df[(df['Model Name'] == 'Tasks: 8 Servers: 2') & ((df['Algorithm Name'] == 'optimal') | \n",
    "                                                         (df['Algorithm Name'] == 'fixed') |\n",
    "                                                         (df['Algorithm Name'] == 'Greedy Utility * deadline / Sum, minimise Sum, Percentage Sum') |\n",
    "                                                         (df['Algorithm Name'] == 'dia 1') |\n",
    "                                                         (df['Algorithm Name'] == 'dia 2') |\n",
    "                                                         (df['Algorithm Name'] == 'dia 3') |\n",
    "                                                         (df['Algorithm Name'] == 'dia 5') |\n",
    "                                                         (df['Algorithm Name'] == 'dia 10'))]\n",
    "\n",
    "df_2 = df_2.replace('optimal', 'Optimal').replace('relaxed', 'Relaxed').replace('fixed', 'Fixed').replace('dia 1', 'DIA pc: 1').replace('dia 2', 'DIA pc: 2').replace('dia 3', 'DIA pc: 3').replace('dia 5', 'DIA pc: 5').replace('dia 10', 'DIA pc: 10').replace('Greedy Utility * deadline / Sum, minimise Sum, Percentage Sum', 'Critical Value Auction')\n",
    "\n",
    "\n",
    "g = sns.boxplot('Optimal Social Welfare', 'Algorithm Name', data=df_2)\n",
    "save_plot(analysis_filename('all', 'shortened'), \"price_change\", image_formats=[ImageFormat.PNG, ImageFormat.EPS])"
   ]
  }
 ],
 "metadata": {
  "kernelspec": {
   "display_name": "Python 3",
   "language": "python",
   "name": "python3"
  },
  "language_info": {
   "codemirror_mode": {
    "name": "ipython",
    "version": 3
   },
   "file_extension": ".py",
   "mimetype": "text/x-python",
   "name": "python",
   "nbconvert_exporter": "python",
   "pygments_lexer": "ipython3",
   "version": "3.7.3"
  }
 },
 "nbformat": 4,
 "nbformat_minor": 2
}

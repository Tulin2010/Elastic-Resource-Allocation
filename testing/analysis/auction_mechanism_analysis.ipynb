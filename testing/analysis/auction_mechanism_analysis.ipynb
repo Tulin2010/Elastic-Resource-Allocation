{
 "cells": [
  {
   "cell_type": "code",
   "execution_count": 1,
   "metadata": {},
   "outputs": [],
   "source": [
    "\"\"\"Auction mechanism analysis\"\"\"\n",
    "\n",
    "from __future__ import annotations\n",
    "\n",
    "import json\n",
    "from typing import List\n",
    "\n",
    "import matplotlib\n",
    "import matplotlib.pyplot as plt\n",
    "import numpy as np\n",
    "import pandas as pd\n",
    "import seaborn as sns\n",
    "\n",
    "matplotlib.rcParams['font.family'] = \"monospace\"\n",
    "%matplotlib inline"
   ]
  },
  {
   "cell_type": "code",
   "execution_count": 2,
   "metadata": {},
   "outputs": [],
   "source": [
    "import os\n",
    "import sys\n",
    "module_path = os.path.abspath(os.path.join('../..'))\n",
    "if module_path not in sys.path:\n",
    "    sys.path.append(module_path)"
   ]
  },
  {
   "cell_type": "code",
   "execution_count": 3,
   "metadata": {},
   "outputs": [],
   "source": [
    "from core.core import decode_filename, save_plot, analysis_filename, ImageFormat"
   ]
  },
  {
   "cell_type": "code",
   "execution_count": 4,
   "metadata": {},
   "outputs": [],
   "source": [
    "paper = [\n",
    "    \"paper_fog_v2_j4_s1_0\",\n",
    "    \"paper_fog_v2_j8_s2_1\",\n",
    "    \"paper_fog_v2_j12_s3_0\",\n",
    "    \"paper_fog_v2_j12_s3_1\",\n",
    "    \"paper_fog_v2_j4_s1_1\",\n",
    "    \"paper_fog_v2_j8_s2_2\",\n",
    "    \"paper_fog_v2_j12_s3_2\",\n",
    "    \"paper_fog_v2_j16_s4_0\"\n",
    "]\n",
    "\n",
    "encoded_filenames = paper\n",
    "folder = 'paper'"
   ]
  },
  {
   "cell_type": "code",
   "execution_count": 8,
   "metadata": {},
   "outputs": [],
   "source": [
    "data = []\n",
    "model_names: List[str] = []\n",
    "test_name: str = ''\n",
    "\n",
    "for encoded_filename in encoded_filenames:\n",
    "    filename, model_name, test_name = decode_filename(folder, encoded_filename)\n",
    "    model_names.append(model_name)\n",
    "    \n",
    "    with open(filename) as file:\n",
    "        json_data = json.load(file)\n",
    "        \n",
    "        for pos, results in enumerate(json_data):\n",
    "            # Find the best results of sum value or percentage jobs from all of the algorithms\n",
    "            best_sum_value = results['optimal']['sum value']\n",
    "            best_percentage_jobs = results['optimal']['percentage jobs']\n",
    "            \n",
    "            for algo_name, algo_results in results.items():\n",
    "                if type(algo_results) is dict:  # Otherwise optimal or relaxed == 'failure'\n",
    "                    data.append((pos, model_name, algo_name, algo_results['sum value'],\n",
    "                                 algo_results['percentage jobs'], algo_results['solve_time'],\n",
    "                                 algo_results['sum value'] / best_sum_value,\n",
    "                                 algo_results['percentage jobs'] / best_percentage_jobs))\n",
    "\n",
    "df = pd.DataFrame(data, columns=['Pos', 'Model Name', 'Algorithm Name', 'Social Welfare', 'Percentage Jobs',\n",
    "                                 'Solve Time', 'Best Social Welfare', 'Best Percentage Jobs'])"
   ]
  },
  {
   "cell_type": "code",
   "execution_count": 6,
   "metadata": {},
   "outputs": [
    {
     "data": {
      "text/html": [
       "<div>\n",
       "<style scoped>\n",
       "    .dataframe tbody tr th:only-of-type {\n",
       "        vertical-align: middle;\n",
       "    }\n",
       "\n",
       "    .dataframe tbody tr th {\n",
       "        vertical-align: top;\n",
       "    }\n",
       "\n",
       "    .dataframe thead th {\n",
       "        text-align: right;\n",
       "    }\n",
       "</style>\n",
       "<table border=\"1\" class=\"dataframe\">\n",
       "  <thead>\n",
       "    <tr style=\"text-align: right;\">\n",
       "      <th></th>\n",
       "      <th>Pos</th>\n",
       "      <th>Model Name</th>\n",
       "      <th>Algorithm Name</th>\n",
       "      <th>Sum Value</th>\n",
       "      <th>Percentage Jobs</th>\n",
       "      <th>Solve Time</th>\n",
       "      <th>Best Sum Value</th>\n",
       "      <th>Best Percentage Jobs</th>\n",
       "    </tr>\n",
       "  </thead>\n",
       "  <tbody>\n",
       "    <tr>\n",
       "      <th>0</th>\n",
       "      <td>0</td>\n",
       "      <td>Tasks: 4 Servers: 1</td>\n",
       "      <td>optimal</td>\n",
       "      <td>268</td>\n",
       "      <td>0.750</td>\n",
       "      <td>0.154</td>\n",
       "      <td>1.000000</td>\n",
       "      <td>1.000000</td>\n",
       "    </tr>\n",
       "    <tr>\n",
       "      <th>1</th>\n",
       "      <td>0</td>\n",
       "      <td>Tasks: 4 Servers: 1</td>\n",
       "      <td>relaxed</td>\n",
       "      <td>268</td>\n",
       "      <td>0.750</td>\n",
       "      <td>0.156</td>\n",
       "      <td>1.000000</td>\n",
       "      <td>1.000000</td>\n",
       "    </tr>\n",
       "    <tr>\n",
       "      <th>2</th>\n",
       "      <td>0</td>\n",
       "      <td>Tasks: 4 Servers: 1</td>\n",
       "      <td>fixed</td>\n",
       "      <td>268</td>\n",
       "      <td>0.750</td>\n",
       "      <td>0.000</td>\n",
       "      <td>1.000000</td>\n",
       "      <td>1.000000</td>\n",
       "    </tr>\n",
       "    <tr>\n",
       "      <th>8</th>\n",
       "      <td>1</td>\n",
       "      <td>Tasks: 4 Servers: 1</td>\n",
       "      <td>optimal</td>\n",
       "      <td>200</td>\n",
       "      <td>0.750</td>\n",
       "      <td>0.251</td>\n",
       "      <td>1.000000</td>\n",
       "      <td>1.000000</td>\n",
       "    </tr>\n",
       "    <tr>\n",
       "      <th>9</th>\n",
       "      <td>1</td>\n",
       "      <td>Tasks: 4 Servers: 1</td>\n",
       "      <td>relaxed</td>\n",
       "      <td>200</td>\n",
       "      <td>0.750</td>\n",
       "      <td>0.247</td>\n",
       "      <td>1.000000</td>\n",
       "      <td>1.000000</td>\n",
       "    </tr>\n",
       "    <tr>\n",
       "      <th>...</th>\n",
       "      <td>...</td>\n",
       "      <td>...</td>\n",
       "      <td>...</td>\n",
       "      <td>...</td>\n",
       "      <td>...</td>\n",
       "      <td>...</td>\n",
       "      <td>...</td>\n",
       "      <td>...</td>\n",
       "    </tr>\n",
       "    <tr>\n",
       "      <th>441</th>\n",
       "      <td>4</td>\n",
       "      <td>Tasks: 12 Servers: 3</td>\n",
       "      <td>relaxed</td>\n",
       "      <td>641</td>\n",
       "      <td>0.917</td>\n",
       "      <td>3.422</td>\n",
       "      <td>0.995342</td>\n",
       "      <td>0.917000</td>\n",
       "    </tr>\n",
       "    <tr>\n",
       "      <th>442</th>\n",
       "      <td>4</td>\n",
       "      <td>Tasks: 12 Servers: 3</td>\n",
       "      <td>fixed</td>\n",
       "      <td>562</td>\n",
       "      <td>0.750</td>\n",
       "      <td>1.180</td>\n",
       "      <td>0.872671</td>\n",
       "      <td>0.750000</td>\n",
       "    </tr>\n",
       "    <tr>\n",
       "      <th>448</th>\n",
       "      <td>0</td>\n",
       "      <td>Tasks: 16 Servers: 4</td>\n",
       "      <td>optimal</td>\n",
       "      <td>688</td>\n",
       "      <td>0.812</td>\n",
       "      <td>180.040</td>\n",
       "      <td>0.959554</td>\n",
       "      <td>0.928000</td>\n",
       "    </tr>\n",
       "    <tr>\n",
       "      <th>449</th>\n",
       "      <td>0</td>\n",
       "      <td>Tasks: 16 Servers: 4</td>\n",
       "      <td>relaxed</td>\n",
       "      <td>717</td>\n",
       "      <td>0.875</td>\n",
       "      <td>60.045</td>\n",
       "      <td>1.000000</td>\n",
       "      <td>1.000000</td>\n",
       "    </tr>\n",
       "    <tr>\n",
       "      <th>450</th>\n",
       "      <td>0</td>\n",
       "      <td>Tasks: 16 Servers: 4</td>\n",
       "      <td>fixed</td>\n",
       "      <td>588</td>\n",
       "      <td>0.625</td>\n",
       "      <td>60.030</td>\n",
       "      <td>0.820084</td>\n",
       "      <td>0.714286</td>\n",
       "    </tr>\n",
       "  </tbody>\n",
       "</table>\n",
       "<p>171 rows × 8 columns</p>\n",
       "</div>"
      ],
      "text/plain": [
       "     Pos            Model Name Algorithm Name  Sum Value  Percentage Jobs  \\\n",
       "0      0   Tasks: 4 Servers: 1        optimal        268            0.750   \n",
       "1      0   Tasks: 4 Servers: 1        relaxed        268            0.750   \n",
       "2      0   Tasks: 4 Servers: 1          fixed        268            0.750   \n",
       "8      1   Tasks: 4 Servers: 1        optimal        200            0.750   \n",
       "9      1   Tasks: 4 Servers: 1        relaxed        200            0.750   \n",
       "..   ...                   ...            ...        ...              ...   \n",
       "441    4  Tasks: 12 Servers: 3        relaxed        641            0.917   \n",
       "442    4  Tasks: 12 Servers: 3          fixed        562            0.750   \n",
       "448    0  Tasks: 16 Servers: 4        optimal        688            0.812   \n",
       "449    0  Tasks: 16 Servers: 4        relaxed        717            0.875   \n",
       "450    0  Tasks: 16 Servers: 4          fixed        588            0.625   \n",
       "\n",
       "     Solve Time  Best Sum Value  Best Percentage Jobs  \n",
       "0         0.154        1.000000              1.000000  \n",
       "1         0.156        1.000000              1.000000  \n",
       "2         0.000        1.000000              1.000000  \n",
       "8         0.251        1.000000              1.000000  \n",
       "9         0.247        1.000000              1.000000  \n",
       "..          ...             ...                   ...  \n",
       "441       3.422        0.995342              0.917000  \n",
       "442       1.180        0.872671              0.750000  \n",
       "448     180.040        0.959554              0.928000  \n",
       "449      60.045        1.000000              1.000000  \n",
       "450      60.030        0.820084              0.714286  \n",
       "\n",
       "[171 rows x 8 columns]"
      ]
     },
     "execution_count": 6,
     "metadata": {},
     "output_type": "execute_result"
    }
   ],
   "source": [
    "short_df = df[(df['Algorithm Name'] == 'optimal') | \n",
    "              (df['Algorithm Name'] == 'relaxed') | \n",
    "              (df['Algorithm Name'] == 'fixed')   |\n",
    "              (df['Algorithm Name'] == 'Greedy Utility / Sum, minimise Sum, Percentage Sum')].replace('Greedy Utility / Sum, minimise Sum, Percentage Sum', 'Greedy Algorithm')\n",
    "short_df"
   ]
  },
  {
   "cell_type": "code",
   "execution_count": 14,
   "metadata": {},
   "outputs": [
    {
     "name": "stdout",
     "output_type": "stream",
     "text": [
      "Save file location: ../figures/price_change/png/all_shortened.png\n"
     ]
    },
    {
     "name": "stderr",
     "output_type": "stream",
     "text": [
      "The PostScript backend does not support transparency; partially transparent artists will be rendered opaque.\n",
      "The PostScript backend does not support transparency; partially transparent artists will be rendered opaque.\n"
     ]
    },
    {
     "name": "stdout",
     "output_type": "stream",
     "text": [
      "Save file location: ../figures/price_change/eps/all_shortened.eps\n"
     ]
    },
    {
     "name": "stderr",
     "output_type": "stream",
     "text": [
      "The PostScript backend does not support transparency; partially transparent artists will be rendered opaque.\n",
      "The PostScript backend does not support transparency; partially transparent artists will be rendered opaque.\n"
     ]
    },
    {
     "data": {
      "image/png": "[encoded data removed]",
      "text/plain": [
       "<Figure size 432x288 with 1 Axes>"
      ]
     },
     "metadata": {
      "needs_background": "light"
     },
     "output_type": "display_data"
    }
   ],
   "source": [
    "g = sns.boxplot(y='Model Name', x='Best Social Welfare', hue='Algorithm Name', data=df)\n",
    "g.set_xlim(0.5, 1.1)\n",
    "save_plot(analysis_filename('all', 'shortened'), \"price_change\", image_formats=[ImageFormat.PNG, ImageFormat.EPS])"
   ]
  },
  {
   "cell_type": "code",
   "execution_count": 25,
   "metadata": {},
   "outputs": [
    {
     "name": "stdout",
     "output_type": "stream",
     "text": [
      "Save file location: ../figures/price_change/png/all_shortened.png\n",
      "Save file location: ../figures/price_change/eps/all_shortened.eps\n"
     ]
    },
    {
     "data": {
      "image/png": "[encoded data removed]",
      "text/plain": [
       "<Figure size 432x288 with 1 Axes>"
      ]
     },
     "metadata": {
      "needs_background": "light"
     },
     "output_type": "display_data"
    }
   ],
   "source": [
    "df_2 = df[df['Model Name'] == 'Tasks: 8 Servers: 2']\n",
    "df_2 = df_2.replace('optimal', 'Optimal').replace('relaxed', 'Relaxed').replace('fixed', 'Fixed').replace('dia 1', 'DIA pc: 1').replace('dia 2', 'DIA pc: 2').replace('dia 3', 'DIA pc: 3').replace('dia 5', 'DIA pc: 5').replace('dia 10', 'DIA pc: 10')\n",
    "\n",
    "\n",
    "g = sns.boxplot('Best Social Welfare', 'Algorithm Name', data=df_2)\n",
    "save_plot(analysis_filename('all', 'shortened'), \"price_change\", image_formats=[ImageFormat.PNG, ImageFormat.EPS])"
   ]
  }
 ],
 "metadata": {
  "kernelspec": {
   "display_name": "Python 3",
   "language": "python",
   "name": "python3"
  },
  "language_info": {
   "codemirror_mode": {
    "name": "ipython",
    "version": 3
   },
   "file_extension": ".py",
   "mimetype": "text/x-python",
   "name": "python",
   "nbconvert_exporter": "python",
   "pygments_lexer": "ipython3",
   "version": "3.7.3"
  }
 },
 "nbformat": 4,
 "nbformat_minor": 2
}

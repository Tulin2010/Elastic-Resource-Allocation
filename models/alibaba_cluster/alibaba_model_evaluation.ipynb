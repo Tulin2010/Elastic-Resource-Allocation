{
 "cells": [
  {
   "cell_type": "code",
   "execution_count": 1,
   "id": "conventional-carpet",
   "metadata": {},
   "outputs": [],
   "source": [
    "import os\n",
    "import sys\n",
    "module_path = os.path.abspath(os.path.join('../../'))\n",
    "if module_path not in sys.path:\n",
    "    sys.path.append(module_path)"
   ]
  },
  {
   "cell_type": "code",
   "execution_count": 2,
   "id": "isolated-calibration",
   "metadata": {},
   "outputs": [],
   "source": [
    "import numpy as np\n",
    "import matplotlib.pyplot as plt\n",
    "\n",
    "from src.extra.model import ModelDistribution\n",
    "from src.extra.pprint import print_model\n",
    "from src.core.core import reset_model\n",
    "\n",
    "from src.greedy.greedy import greedy_algorithm\n",
    "from src.greedy.resource_allocation_policy import SumPercentage\n",
    "from src.greedy.server_selection_policy import SumResources\n",
    "from src.greedy.task_prioritisation import UtilityDeadlinePerResource\n",
    "\n",
    "from src.optimal.fixed_optimal import fixed_optimal\n",
    "from src.core.fixed_task import FixedTask, SumSpeedPowFixedPrioritisation"
   ]
  },
  {
   "cell_type": "code",
   "execution_count": 3,
   "id": "ecological-senegal",
   "metadata": {},
   "outputs": [],
   "source": [
    "def print_results(result, tasks, servers):\n",
    "    print(f'Social welfare: {result.social_welfare:.3f}, Percentage tasks allocated: {result.percentage_tasks_allocated:.3f}\\n')\n",
    "    for server in servers:\n",
    "        storage_usage = sum(task.required_storage for task in server.allocated_tasks) / server.storage_capacity\n",
    "        computational_usage = sum(task.compute_speed for task in server.allocated_tasks) / server.computation_capacity\n",
    "        bandwidth_usage = sum(task.loading_speed + task.sending_speed for task in server.allocated_tasks) / server.bandwidth_capacity\n",
    "        print(f'{server.name} resouce usage - Stor: {storage_usage:.3f}, Comp: {computational_usage:.3f}, Band: {bandwidth_usage:.3f}')\n",
    "    \n",
    "    avg_loading_speed = np.mean([task.loading_speed for task in tasks if task.running_server])\n",
    "    avg_compute_speed = np.mean([task.compute_speed for task in tasks if task.running_server])\n",
    "    avg_sending_speed = np.mean([task.sending_speed for task in tasks if task.running_server])\n",
    "    print(f'\\nAvg loading speed: {avg_loading_speed}, compute speed: {avg_compute_speed}, sending speed: {avg_sending_speed}')\n",
    "    avg_loading_time = np.mean([task.required_storage / task.loading_speed for task in tasks if task.running_server])\n",
    "    avg_compute_time = np.mean([task.required_computation / task.compute_speed for task in tasks if task.running_server])\n",
    "    avg_sending_time = np.mean([task.required_results_data / task.sending_speed for task in tasks if task.running_server])\n",
    "    print(f'Avg loading time: {avg_loading_time}, compute time: {avg_compute_time}, sending time: {avg_sending_time}')"
   ]
  },
  {
   "cell_type": "code",
   "execution_count": 4,
   "id": "specialized-bobby",
   "metadata": {},
   "outputs": [],
   "source": [
    "alibaba_model = ModelDistribution('../realistic.mdl', num_tasks=100, num_servers=10)"
   ]
  },
  {
   "cell_type": "code",
   "execution_count": 5,
   "id": "decimal-cosmetic",
   "metadata": {},
   "outputs": [],
   "source": [
    "alibaba_model.storage_scaling = 150\n",
    "alibaba_model.computational_scaling = 0.25\n",
    "alibaba_model.results_data_scaling = 1"
   ]
  },
  {
   "cell_type": "code",
   "execution_count": 6,
   "id": "voluntary-feelings",
   "metadata": {},
   "outputs": [],
   "source": [
    "tasks, servers = alibaba_model.generate()"
   ]
  },
  {
   "cell_type": "code",
   "execution_count": 7,
   "id": "settled-residence",
   "metadata": {},
   "outputs": [
    {
     "name": "stdout",
     "output_type": "stream",
     "text": [
      "Social welfare: 415.820, Percentage tasks allocated: 0.720\n",
      "\n",
      "medium 0 resouce usage - Stor: 1.000, Comp: 0.016, Band: 0.100\n",
      "2xlarge 1 resouce usage - Stor: 0.984, Comp: 0.042, Band: 0.088\n",
      "large 2 resouce usage - Stor: 0.987, Comp: 0.028, Band: 0.127\n",
      "2xlarge 3 resouce usage - Stor: 0.992, Comp: 0.065, Band: 0.112\n",
      "medium 4 resouce usage - Stor: 0.980, Comp: 0.016, Band: 0.040\n",
      "medium 5 resouce usage - Stor: 1.000, Comp: 0.012, Band: 0.090\n",
      "2xlarge 6 resouce usage - Stor: 1.000, Comp: 0.134, Band: 0.148\n",
      "2xlarge 7 resouce usage - Stor: 1.000, Comp: 0.050, Band: 0.104\n",
      "xlarge 8 resouce usage - Stor: 0.990, Comp: 0.052, Band: 0.175\n",
      "2xlarge 9 resouce usage - Stor: 1.000, Comp: 0.115, Band: 0.116\n",
      "\n",
      "Avg loading speed: 1.8194444444444444, compute speed: 9.791666666666666, sending speed: 1.2222222222222223\n",
      "Avg loading time: 8.00896686159844, compute time: 28.157819748420795, sending time: 2.949404761904762\n"
     ]
    }
   ],
   "source": [
    "result = greedy_algorithm(tasks, servers, UtilityDeadlinePerResource(), SumResources(), SumPercentage())\n",
    "print_results(result, tasks, servers)"
   ]
  },
  {
   "cell_type": "code",
   "execution_count": 8,
   "id": "proof-colonial",
   "metadata": {},
   "outputs": [],
   "source": [
    "reset_model(tasks, servers)\n",
    "fixed_tasks = [FixedTask(task, SumSpeedPowFixedPrioritisation()) for task in tasks]\n",
    "foreknowledge_fixed_tasks = [FixedTask(task, SumSpeedPowFixedPrioritisation(), resource_foreknowledge=True) \n",
    "                             for task in tasks]"
   ]
  },
  {
   "cell_type": "code",
   "execution_count": 9,
   "id": "developing-kitty",
   "metadata": {},
   "outputs": [
    {
     "name": "stdout",
     "output_type": "stream",
     "text": [
      "Social welfare: 270.980, Percentage tasks allocated: 0.230\n",
      "\n",
      "medium 0 resouce usage - Stor: 0.900, Comp: 0.100, Band: 0.230\n",
      "2xlarge 1 resouce usage - Stor: 0.952, Comp: 0.067, Band: 0.056\n",
      "large 2 resouce usage - Stor: 1.000, Comp: 0.100, Band: 0.413\n",
      "2xlarge 3 resouce usage - Stor: 0.952, Comp: 0.067, Band: 0.272\n",
      "medium 4 resouce usage - Stor: 0.900, Comp: 0.100, Band: 0.840\n",
      "medium 5 resouce usage - Stor: 0.940, Comp: 0.100, Band: 0.540\n",
      "2xlarge 6 resouce usage - Stor: 0.952, Comp: 0.050, Band: 0.196\n",
      "2xlarge 7 resouce usage - Stor: 0.944, Comp: 0.067, Band: 0.064\n",
      "xlarge 8 resouce usage - Stor: 0.980, Comp: 0.100, Band: 0.365\n",
      "2xlarge 9 resouce usage - Stor: 0.960, Comp: 0.067, Band: 0.228\n",
      "\n",
      "Avg loading speed: 17.652173913043477, compute speed: 34.78260869565217, sending speed: 4.086956521739131\n",
      "Avg loading time: 5.153966999184391, compute time: 28.565217391304348, sending time: 1.926557500470544\n"
     ]
    }
   ],
   "source": [
    "reset_model(tasks, servers)\n",
    "result = fixed_optimal(fixed_tasks, servers, time_limit=4)\n",
    "print_results(result, fixed_tasks, servers)"
   ]
  },
  {
   "cell_type": "code",
   "execution_count": 10,
   "id": "creative-focus",
   "metadata": {},
   "outputs": [
    {
     "name": "stdout",
     "output_type": "stream",
     "text": [
      "Social welfare: 453.420, Percentage tasks allocated: 0.750\n",
      "\n",
      "medium 0 resouce usage - Stor: 0.980, Comp: 0.138, Band: 0.520\n",
      "2xlarge 1 resouce usage - Stor: 0.992, Comp: 0.055, Band: 0.296\n",
      "large 2 resouce usage - Stor: 0.987, Comp: 0.161, Band: 0.613\n",
      "2xlarge 3 resouce usage - Stor: 1.000, Comp: 0.023, Band: 0.192\n",
      "medium 4 resouce usage - Stor: 1.000, Comp: 0.038, Band: 0.180\n",
      "medium 5 resouce usage - Stor: 0.960, Comp: 0.100, Band: 0.280\n",
      "2xlarge 6 resouce usage - Stor: 1.000, Comp: 0.067, Band: 0.324\n",
      "2xlarge 7 resouce usage - Stor: 0.992, Comp: 0.040, Band: 0.256\n",
      "xlarge 8 resouce usage - Stor: 0.990, Comp: 0.163, Band: 0.560\n",
      "2xlarge 9 resouce usage - Stor: 1.000, Comp: 0.057, Band: 0.332\n",
      "\n",
      "Avg loading speed: 5.013333333333334, compute speed: 10.48, sending speed: 3.68\n",
      "Avg loading time: 4.969093393700471, compute time: 28.56369500708914, sending time: 1.6534853041695143\n"
     ]
    }
   ],
   "source": [
    "reset_model(tasks, servers)\n",
    "result = fixed_optimal(foreknowledge_fixed_tasks, servers, time_limit=4)\n",
    "print_results(result, foreknowledge_fixed_tasks, servers)"
   ]
  },
  {
   "cell_type": "code",
   "execution_count": null,
   "id": "sunrise-roberts",
   "metadata": {},
   "outputs": [],
   "source": []
  }
 ],
 "metadata": {
  "kernelspec": {
   "display_name": "Python 3",
   "language": "python",
   "name": "python3"
  },
  "language_info": {
   "codemirror_mode": {
    "name": "ipython",
    "version": 3
   },
   "file_extension": ".py",
   "mimetype": "text/x-python",
   "name": "python",
   "nbconvert_exporter": "python",
   "pygments_lexer": "ipython3",
   "version": "3.8.5"
  }
 },
 "nbformat": 4,
 "nbformat_minor": 5
}

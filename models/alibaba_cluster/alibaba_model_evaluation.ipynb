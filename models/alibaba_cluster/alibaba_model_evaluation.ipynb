{
 "cells": [
  {
   "cell_type": "code",
   "execution_count": 1,
   "metadata": {},
   "outputs": [],
   "source": [
    "import os\n",
    "import sys\n",
    "module_path = os.path.abspath(os.path.join('../../'))\n",
    "if module_path not in sys.path:\n",
    "    sys.path.append(module_path)"
   ]
  },
  {
   "cell_type": "code",
   "execution_count": 2,
   "metadata": {},
   "outputs": [],
   "source": [
    "import numpy as np\n",
    "import matplotlib.pyplot as plt\n",
    "\n",
    "from src.extra.model import ModelDistribution\n",
    "from src.extra.pprint import print_model\n",
    "from src.core.core import reset_model\n",
    "\n",
    "from src.greedy.greedy import greedy_algorithm\n",
    "from src.greedy.resource_allocation_policy import SumPercentage\n",
    "from src.greedy.server_selection_policy import SumResources\n",
    "from src.greedy.task_prioritisation import UtilityDeadlinePerResource\n",
    "\n",
    "from src.optimal.fixed_optimal import fixed_optimal\n",
    "from src.core.fixed_task import FixedTask, SumSpeedPowFixedAllocationPriority"
   ]
  },
  {
   "cell_type": "code",
   "execution_count": 3,
   "metadata": {},
   "outputs": [],
   "source": [
    "def print_results(result, tasks, servers):\n",
    "    print(f'Social welfare: {result.social_welfare:.3f}, Percentage social welfare: {result.percentage_social_welfare:.3f}, Percentage tasks: {result.percentage_tasks_allocated:.3f}\\n')\n",
    "    # for server in servers:\n",
    "    #    storage_usage = sum(task.required_storage for task in server.allocated_tasks) / server.storage_capacity\n",
    "    #    computational_usage = sum(task.compute_speed for task in server.allocated_tasks) / server.computation_capacity\n",
    "    #    bandwidth_usage = sum(task.loading_speed + task.sending_speed for task in server.allocated_tasks) / server.bandwidth_capacity\n",
    "    #    print(f'{server.name} resouce usage - Stor: {storage_usage:.3f}, Comp: {computational_usage:.3f}, Band: {bandwidth_usage:.3f}')\n",
    "    print(f'Server avg storage: {np.mean([sum(task.required_storage for task in server.allocated_tasks) / server.storage_capacity for server in servers]):3.2f}, '\n",
    "          f'computation: {np.mean([sum(task.compute_speed for task in server.allocated_tasks) / server.computation_capacity for server in servers]):3.2f}, '\n",
    "          f'bandwidth: {np.mean([sum(task.loading_speed + task.sending_speed for task in server.allocated_tasks) / server.bandwidth_capacity for server in servers]):3.2f}')\n",
    "    \n",
    "    avg_loading_speed = np.mean([task.loading_speed for task in tasks if task.running_server])\n",
    "    avg_compute_speed = np.mean([task.compute_speed for task in tasks if task.running_server])\n",
    "    avg_sending_speed = np.mean([task.sending_speed for task in tasks if task.running_server])\n",
    "    print(f'\\nTask avg loading speed: {avg_loading_speed:3.2f}, compute speed: {avg_compute_speed:3.2f}, sending speed: {avg_sending_speed:3.2f}')\n",
    "    avg_loading_time = np.mean([task.required_storage / task.loading_speed for task in tasks if task.running_server])\n",
    "    avg_compute_time = np.mean([task.required_computation / task.compute_speed for task in tasks if task.running_server])\n",
    "    avg_sending_time = np.mean([task.required_results_data / task.sending_speed for task in tasks if task.running_server])\n",
    "    print(f'Task avg loading time: {avg_loading_time:3.2f}, compute time: {avg_compute_time:3.2f}, sending time: {avg_sending_time:3.2f}')\n",
    "    \n",
    "\n",
    "def avg_resource(tasks, attribute):\n",
    "    return np.mean([getattr(task, attribute) for task in tasks])"
   ]
  },
  {
   "cell_type": "code",
   "execution_count": 4,
   "metadata": {},
   "outputs": [],
   "source": [
    "alibaba_model = ModelDistribution('../realistic.mdl', num_tasks=100, num_servers=10)"
   ]
  },
  {
   "cell_type": "code",
   "execution_count": 6,
   "metadata": {},
   "outputs": [
    {
     "name": "stdout",
     "output_type": "stream",
     "text": [
      "Task avg storage: 54.69, computation: 620.49, results data: 20.20\n",
      "\n",
      "Fixed task avg storage: 146.10, computation: 2486.50, results data: 20.20\n",
      "Fixed task avg loading speed: 41.21, compute speed: 74.50, sending speed: 9.22\n",
      "\n",
      "Foreknowledge fixed task avg storage: 54.69, computation: 620.49, results data: 20.20\n",
      "Foreknowledge fixed task avg loading speed: 11.79, compute speed: 21.26, sending speed: 9.22\n"
     ]
    }
   ],
   "source": [
    "tasks, servers = alibaba_model.generate()\n",
    "print(f'Task avg storage: {avg_resource(tasks, \"required_storage\"):3.2f}, '\n",
    "      f'computation: {avg_resource(tasks, \"required_computation\"):3.2f}, '\n",
    "      f'results data: {avg_resource(tasks, \"required_results_data\"):3.2f}')\n",
    "\n",
    "fixed_tasks = [FixedTask(task, SumSpeedPowFixedAllocationPriority()) for task in tasks]\n",
    "print(f'\\nFixed task avg storage: {avg_resource(fixed_tasks, \"required_storage\"):3.2f}, '\n",
    "      f'computation: {avg_resource(fixed_tasks, \"required_computation\"):3.2f}, '\n",
    "      f'results data: {avg_resource(fixed_tasks, \"required_results_data\"):3.2f}')\n",
    "print(f'Fixed task avg loading speed: {avg_resource(fixed_tasks, \"loading_speed\"):3.2f}, '\n",
    "      f'compute speed: {avg_resource(fixed_tasks, \"compute_speed\"):3.2f}, '\n",
    "      f'sending speed: {avg_resource(fixed_tasks, \"sending_speed\"):3.2f}')\n",
    "\n",
    "foreknowledge_fixed_tasks = [FixedTask(task, SumSpeedPowFixedAllocationPriority(), resource_foreknowledge=True) \n",
    "                             for task in tasks]\n",
    "print(f'\\nForeknowledge fixed task avg storage: {avg_resource(foreknowledge_fixed_tasks, \"required_storage\"):3.2f}, '\n",
    "      f'computation: {avg_resource(foreknowledge_fixed_tasks, \"required_computation\"):3.2f}, '\n",
    "      f'results data: {avg_resource(foreknowledge_fixed_tasks, \"required_results_data\"):3.2f}')\n",
    "print(f'Foreknowledge fixed task avg loading speed: {avg_resource(foreknowledge_fixed_tasks, \"loading_speed\"):3.2f}, '\n",
    "      f'compute speed: {avg_resource(foreknowledge_fixed_tasks, \"compute_speed\"):3.2f}, '\n",
    "      f'sending speed: {avg_resource(foreknowledge_fixed_tasks, \"sending_speed\"):3.2f}')"
   ]
  },
  {
   "cell_type": "code",
   "execution_count": 7,
   "metadata": {},
   "outputs": [
    {
     "name": "stdout",
     "output_type": "stream",
     "text": [
      "Social welfare: 820.040, Percentage social welfare: 0.764, Percentage tasks: 0.620\n",
      "\n",
      "Server avg storage: 0.88, computation: 0.65, bandwidth: 0.86\n",
      "\n",
      "Task avg loading speed: 4.32, compute speed: 17.85, sending speed: 2.61\n",
      "Task avg loading time: 16.84, compute time: 29.13, sending time: 8.76\n"
     ]
    }
   ],
   "source": [
    "result = greedy_algorithm(tasks, servers, UtilityDeadlinePerResource(), SumResources(), SumPercentage())\n",
    "print_results(result, tasks, servers)"
   ]
  },
  {
   "cell_type": "code",
   "execution_count": 9,
   "metadata": {},
   "outputs": [
    {
     "name": "stdout",
     "output_type": "stream",
     "text": [
      "Social welfare: 489.340, Percentage social welfare: 0.456, Percentage tasks: 0.230\n",
      "\n",
      "Server avg storage: 0.76, computation: 0.91, bandwidth: 0.93\n",
      "\n",
      "Task avg loading speed: 15.43, compute speed: 63.04, sending speed: 4.87\n",
      "Task avg loading time: 10.88, compute time: 47.09, sending time: 4.62\n"
     ]
    }
   ],
   "source": [
    "reset_model(tasks, servers)\n",
    "result = fixed_optimal(fixed_tasks, servers, time_limit=4)\n",
    "print_results(result, fixed_tasks, servers)"
   ]
  },
  {
   "cell_type": "code",
   "execution_count": 10,
   "metadata": {},
   "outputs": [
    {
     "name": "stdout",
     "output_type": "stream",
     "text": [
      "Social welfare: 697.250, Percentage social welfare: 0.649, Percentage tasks: 0.470\n",
      "\n",
      "Server avg storage: 0.66, computation: 0.28, bandwidth: 0.99\n",
      "\n",
      "Task avg loading speed: 5.89, compute speed: 8.89, sending speed: 4.64\n",
      "Task avg loading time: 11.44, compute time: 45.35, sending time: 4.84\n"
     ]
    }
   ],
   "source": [
    "reset_model(tasks, servers)\n",
    "result = fixed_optimal(foreknowledge_fixed_tasks, servers, time_limit=4)\n",
    "print_results(result, foreknowledge_fixed_tasks, servers)"
   ]
  },
  {
   "cell_type": "code",
   "execution_count": null,
   "metadata": {},
   "outputs": [],
   "source": []
  }
 ],
 "metadata": {
  "kernelspec": {
   "display_name": "Python 3",
   "language": "python",
   "name": "python3"
  },
  "language_info": {
   "codemirror_mode": {
    "name": "ipython",
    "version": 3
   },
   "file_extension": ".py",
   "mimetype": "text/x-python",
   "name": "python",
   "nbconvert_exporter": "python",
   "pygments_lexer": "ipython3",
   "version": "3.7.7"
  }
 },
 "nbformat": 4,
 "nbformat_minor": 5
}
